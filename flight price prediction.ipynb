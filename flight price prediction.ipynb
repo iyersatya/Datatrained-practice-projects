{
 "cells": [
  {
   "cell_type": "code",
   "execution_count": 12,
   "metadata": {},
   "outputs": [],
   "source": [
    "import pandas as pd\n",
    "import numpy as np\n",
    "import matplotlib.pyplot as plt\n",
    "import seaborn as sn\n",
    "from sklearn.linear_model import LinearRegression\n",
    "from sklearn.linear_model import LinearRegression,ElasticNet,Lasso,Ridge,LogisticRegression\n",
    "from sklearn.tree import DecisionTreeRegressor\n",
    "from sklearn.ensemble import RandomForestRegressor,AdaBoostRegressor\n",
    "from sklearn.svm import SVR\n",
    "from sklearn.metrics import mean_squared_error,mean_absolute_error\n",
    "from sklearn.model_selection import train_test_split\n",
    "from sklearn.metrics import r2_score\n",
    "import warnings\n",
    "warnings.filterwarnings('ignore')"
   ]
  },
  {
   "cell_type": "code",
   "execution_count": 13,
   "metadata": {},
   "outputs": [],
   "source": [
    "train=pd.read_excel('C:/Users/a5fwpzz/Desktop/training.xlsx')"
   ]
  },
  {
   "cell_type": "code",
   "execution_count": 14,
   "metadata": {},
   "outputs": [],
   "source": [
    "test=pd.read_excel('C:/Users/a5fwpzz/Desktop/testing.xlsx')"
   ]
  },
  {
   "cell_type": "code",
   "execution_count": 15,
   "metadata": {},
   "outputs": [
    {
     "data": {
      "text/html": [
       "<div>\n",
       "<style scoped>\n",
       "    .dataframe tbody tr th:only-of-type {\n",
       "        vertical-align: middle;\n",
       "    }\n",
       "\n",
       "    .dataframe tbody tr th {\n",
       "        vertical-align: top;\n",
       "    }\n",
       "\n",
       "    .dataframe thead th {\n",
       "        text-align: right;\n",
       "    }\n",
       "</style>\n",
       "<table border=\"1\" class=\"dataframe\">\n",
       "  <thead>\n",
       "    <tr style=\"text-align: right;\">\n",
       "      <th></th>\n",
       "      <th>Airline</th>\n",
       "      <th>Date_of_Journey</th>\n",
       "      <th>Source</th>\n",
       "      <th>Destination</th>\n",
       "      <th>Route</th>\n",
       "      <th>Dep_Time</th>\n",
       "      <th>Arrival_Time</th>\n",
       "      <th>Duration</th>\n",
       "      <th>Total_Stops</th>\n",
       "      <th>Additional_Info</th>\n",
       "      <th>Price</th>\n",
       "    </tr>\n",
       "  </thead>\n",
       "  <tbody>\n",
       "    <tr>\n",
       "      <th>0</th>\n",
       "      <td>IndiGo</td>\n",
       "      <td>24/03/2019</td>\n",
       "      <td>Banglore</td>\n",
       "      <td>New Delhi</td>\n",
       "      <td>BLR → DEL</td>\n",
       "      <td>22:20</td>\n",
       "      <td>01:10 22 Mar</td>\n",
       "      <td>2h 50m</td>\n",
       "      <td>non-stop</td>\n",
       "      <td>No info</td>\n",
       "      <td>3897</td>\n",
       "    </tr>\n",
       "    <tr>\n",
       "      <th>1</th>\n",
       "      <td>Air India</td>\n",
       "      <td>1/05/2019</td>\n",
       "      <td>Kolkata</td>\n",
       "      <td>Banglore</td>\n",
       "      <td>CCU → IXR → BBI → BLR</td>\n",
       "      <td>05:50</td>\n",
       "      <td>13:15</td>\n",
       "      <td>7h 25m</td>\n",
       "      <td>2 stops</td>\n",
       "      <td>No info</td>\n",
       "      <td>7662</td>\n",
       "    </tr>\n",
       "    <tr>\n",
       "      <th>2</th>\n",
       "      <td>Jet Airways</td>\n",
       "      <td>9/06/2019</td>\n",
       "      <td>Delhi</td>\n",
       "      <td>Cochin</td>\n",
       "      <td>DEL → LKO → BOM → COK</td>\n",
       "      <td>09:25</td>\n",
       "      <td>04:25 10 Jun</td>\n",
       "      <td>19h</td>\n",
       "      <td>2 stops</td>\n",
       "      <td>No info</td>\n",
       "      <td>13882</td>\n",
       "    </tr>\n",
       "    <tr>\n",
       "      <th>3</th>\n",
       "      <td>IndiGo</td>\n",
       "      <td>12/05/2019</td>\n",
       "      <td>Kolkata</td>\n",
       "      <td>Banglore</td>\n",
       "      <td>CCU → NAG → BLR</td>\n",
       "      <td>18:05</td>\n",
       "      <td>23:30</td>\n",
       "      <td>5h 25m</td>\n",
       "      <td>1 stop</td>\n",
       "      <td>No info</td>\n",
       "      <td>6218</td>\n",
       "    </tr>\n",
       "    <tr>\n",
       "      <th>4</th>\n",
       "      <td>IndiGo</td>\n",
       "      <td>01/03/2019</td>\n",
       "      <td>Banglore</td>\n",
       "      <td>New Delhi</td>\n",
       "      <td>BLR → NAG → DEL</td>\n",
       "      <td>16:50</td>\n",
       "      <td>21:35</td>\n",
       "      <td>4h 45m</td>\n",
       "      <td>1 stop</td>\n",
       "      <td>No info</td>\n",
       "      <td>13302</td>\n",
       "    </tr>\n",
       "  </tbody>\n",
       "</table>\n",
       "</div>"
      ],
      "text/plain": [
       "       Airline Date_of_Journey    Source Destination                  Route  \\\n",
       "0       IndiGo      24/03/2019  Banglore   New Delhi              BLR → DEL   \n",
       "1    Air India       1/05/2019   Kolkata    Banglore  CCU → IXR → BBI → BLR   \n",
       "2  Jet Airways       9/06/2019     Delhi      Cochin  DEL → LKO → BOM → COK   \n",
       "3       IndiGo      12/05/2019   Kolkata    Banglore        CCU → NAG → BLR   \n",
       "4       IndiGo      01/03/2019  Banglore   New Delhi        BLR → NAG → DEL   \n",
       "\n",
       "  Dep_Time  Arrival_Time Duration Total_Stops Additional_Info  Price  \n",
       "0    22:20  01:10 22 Mar   2h 50m    non-stop         No info   3897  \n",
       "1    05:50         13:15   7h 25m     2 stops         No info   7662  \n",
       "2    09:25  04:25 10 Jun      19h     2 stops         No info  13882  \n",
       "3    18:05         23:30   5h 25m      1 stop         No info   6218  \n",
       "4    16:50         21:35   4h 45m      1 stop         No info  13302  "
      ]
     },
     "execution_count": 15,
     "metadata": {},
     "output_type": "execute_result"
    }
   ],
   "source": [
    "train.head()"
   ]
  },
  {
   "cell_type": "code",
   "execution_count": 16,
   "metadata": {},
   "outputs": [
    {
     "data": {
      "text/html": [
       "<div>\n",
       "<style scoped>\n",
       "    .dataframe tbody tr th:only-of-type {\n",
       "        vertical-align: middle;\n",
       "    }\n",
       "\n",
       "    .dataframe tbody tr th {\n",
       "        vertical-align: top;\n",
       "    }\n",
       "\n",
       "    .dataframe thead th {\n",
       "        text-align: right;\n",
       "    }\n",
       "</style>\n",
       "<table border=\"1\" class=\"dataframe\">\n",
       "  <thead>\n",
       "    <tr style=\"text-align: right;\">\n",
       "      <th></th>\n",
       "      <th>Airline</th>\n",
       "      <th>Date_of_Journey</th>\n",
       "      <th>Source</th>\n",
       "      <th>Destination</th>\n",
       "      <th>Route</th>\n",
       "      <th>Dep_Time</th>\n",
       "      <th>Arrival_Time</th>\n",
       "      <th>Duration</th>\n",
       "      <th>Total_Stops</th>\n",
       "      <th>Additional_Info</th>\n",
       "    </tr>\n",
       "  </thead>\n",
       "  <tbody>\n",
       "    <tr>\n",
       "      <th>0</th>\n",
       "      <td>Jet Airways</td>\n",
       "      <td>6/06/2019</td>\n",
       "      <td>Delhi</td>\n",
       "      <td>Cochin</td>\n",
       "      <td>DEL → BOM → COK</td>\n",
       "      <td>17:30</td>\n",
       "      <td>04:25 07 Jun</td>\n",
       "      <td>10h 55m</td>\n",
       "      <td>1 stop</td>\n",
       "      <td>No info</td>\n",
       "    </tr>\n",
       "    <tr>\n",
       "      <th>1</th>\n",
       "      <td>IndiGo</td>\n",
       "      <td>12/05/2019</td>\n",
       "      <td>Kolkata</td>\n",
       "      <td>Banglore</td>\n",
       "      <td>CCU → MAA → BLR</td>\n",
       "      <td>06:20</td>\n",
       "      <td>10:20</td>\n",
       "      <td>4h</td>\n",
       "      <td>1 stop</td>\n",
       "      <td>No info</td>\n",
       "    </tr>\n",
       "    <tr>\n",
       "      <th>2</th>\n",
       "      <td>Jet Airways</td>\n",
       "      <td>21/05/2019</td>\n",
       "      <td>Delhi</td>\n",
       "      <td>Cochin</td>\n",
       "      <td>DEL → BOM → COK</td>\n",
       "      <td>19:15</td>\n",
       "      <td>19:00 22 May</td>\n",
       "      <td>23h 45m</td>\n",
       "      <td>1 stop</td>\n",
       "      <td>In-flight meal not included</td>\n",
       "    </tr>\n",
       "    <tr>\n",
       "      <th>3</th>\n",
       "      <td>Multiple carriers</td>\n",
       "      <td>21/05/2019</td>\n",
       "      <td>Delhi</td>\n",
       "      <td>Cochin</td>\n",
       "      <td>DEL → BOM → COK</td>\n",
       "      <td>08:00</td>\n",
       "      <td>21:00</td>\n",
       "      <td>13h</td>\n",
       "      <td>1 stop</td>\n",
       "      <td>No info</td>\n",
       "    </tr>\n",
       "    <tr>\n",
       "      <th>4</th>\n",
       "      <td>Air Asia</td>\n",
       "      <td>24/06/2019</td>\n",
       "      <td>Banglore</td>\n",
       "      <td>Delhi</td>\n",
       "      <td>BLR → DEL</td>\n",
       "      <td>23:55</td>\n",
       "      <td>02:45 25 Jun</td>\n",
       "      <td>2h 50m</td>\n",
       "      <td>non-stop</td>\n",
       "      <td>No info</td>\n",
       "    </tr>\n",
       "  </tbody>\n",
       "</table>\n",
       "</div>"
      ],
      "text/plain": [
       "             Airline Date_of_Journey    Source Destination            Route  \\\n",
       "0        Jet Airways       6/06/2019     Delhi      Cochin  DEL → BOM → COK   \n",
       "1             IndiGo      12/05/2019   Kolkata    Banglore  CCU → MAA → BLR   \n",
       "2        Jet Airways      21/05/2019     Delhi      Cochin  DEL → BOM → COK   \n",
       "3  Multiple carriers      21/05/2019     Delhi      Cochin  DEL → BOM → COK   \n",
       "4           Air Asia      24/06/2019  Banglore       Delhi        BLR → DEL   \n",
       "\n",
       "  Dep_Time  Arrival_Time Duration Total_Stops              Additional_Info  \n",
       "0    17:30  04:25 07 Jun  10h 55m      1 stop                      No info  \n",
       "1    06:20         10:20       4h      1 stop                      No info  \n",
       "2    19:15  19:00 22 May  23h 45m      1 stop  In-flight meal not included  \n",
       "3    08:00         21:00      13h      1 stop                      No info  \n",
       "4    23:55  02:45 25 Jun   2h 50m    non-stop                      No info  "
      ]
     },
     "execution_count": 16,
     "metadata": {},
     "output_type": "execute_result"
    }
   ],
   "source": [
    "test.head()"
   ]
  },
  {
   "cell_type": "code",
   "execution_count": 17,
   "metadata": {},
   "outputs": [
    {
     "data": {
      "text/plain": [
       "((10683, 11), (2671, 10))"
      ]
     },
     "execution_count": 17,
     "metadata": {},
     "output_type": "execute_result"
    }
   ],
   "source": [
    "train.shape,test.shape"
   ]
  },
  {
   "cell_type": "code",
   "execution_count": 18,
   "metadata": {},
   "outputs": [
    {
     "name": "stdout",
     "output_type": "stream",
     "text": [
      "(10683, 11) (2671, 10) (13354, 11)\n"
     ]
    }
   ],
   "source": [
    "# we need to merge data first\n",
    "\n",
    "df=pd.concat([train,test],sort=False)\n",
    "print(train.shape,test.shape,df.shape)"
   ]
  },
  {
   "cell_type": "code",
   "execution_count": 19,
   "metadata": {},
   "outputs": [
    {
     "data": {
      "text/html": [
       "<div>\n",
       "<style scoped>\n",
       "    .dataframe tbody tr th:only-of-type {\n",
       "        vertical-align: middle;\n",
       "    }\n",
       "\n",
       "    .dataframe tbody tr th {\n",
       "        vertical-align: top;\n",
       "    }\n",
       "\n",
       "    .dataframe thead th {\n",
       "        text-align: right;\n",
       "    }\n",
       "</style>\n",
       "<table border=\"1\" class=\"dataframe\">\n",
       "  <thead>\n",
       "    <tr style=\"text-align: right;\">\n",
       "      <th></th>\n",
       "      <th>Airline</th>\n",
       "      <th>Date_of_Journey</th>\n",
       "      <th>Source</th>\n",
       "      <th>Destination</th>\n",
       "      <th>Route</th>\n",
       "      <th>Dep_Time</th>\n",
       "      <th>Arrival_Time</th>\n",
       "      <th>Duration</th>\n",
       "      <th>Total_Stops</th>\n",
       "      <th>Additional_Info</th>\n",
       "    </tr>\n",
       "  </thead>\n",
       "  <tbody>\n",
       "    <tr>\n",
       "      <th>0</th>\n",
       "      <td>IndiGo</td>\n",
       "      <td>24/03/2019</td>\n",
       "      <td>Banglore</td>\n",
       "      <td>New Delhi</td>\n",
       "      <td>BLR → DEL</td>\n",
       "      <td>22:20</td>\n",
       "      <td>01:10 22 Mar</td>\n",
       "      <td>2h 50m</td>\n",
       "      <td>non-stop</td>\n",
       "      <td>No info</td>\n",
       "    </tr>\n",
       "    <tr>\n",
       "      <th>1</th>\n",
       "      <td>Air India</td>\n",
       "      <td>1/05/2019</td>\n",
       "      <td>Kolkata</td>\n",
       "      <td>Banglore</td>\n",
       "      <td>CCU → IXR → BBI → BLR</td>\n",
       "      <td>05:50</td>\n",
       "      <td>13:15</td>\n",
       "      <td>7h 25m</td>\n",
       "      <td>2 stops</td>\n",
       "      <td>No info</td>\n",
       "    </tr>\n",
       "    <tr>\n",
       "      <th>2</th>\n",
       "      <td>Jet Airways</td>\n",
       "      <td>9/06/2019</td>\n",
       "      <td>Delhi</td>\n",
       "      <td>Cochin</td>\n",
       "      <td>DEL → LKO → BOM → COK</td>\n",
       "      <td>09:25</td>\n",
       "      <td>04:25 10 Jun</td>\n",
       "      <td>19h</td>\n",
       "      <td>2 stops</td>\n",
       "      <td>No info</td>\n",
       "    </tr>\n",
       "    <tr>\n",
       "      <th>3</th>\n",
       "      <td>IndiGo</td>\n",
       "      <td>12/05/2019</td>\n",
       "      <td>Kolkata</td>\n",
       "      <td>Banglore</td>\n",
       "      <td>CCU → NAG → BLR</td>\n",
       "      <td>18:05</td>\n",
       "      <td>23:30</td>\n",
       "      <td>5h 25m</td>\n",
       "      <td>1 stop</td>\n",
       "      <td>No info</td>\n",
       "    </tr>\n",
       "    <tr>\n",
       "      <th>4</th>\n",
       "      <td>IndiGo</td>\n",
       "      <td>01/03/2019</td>\n",
       "      <td>Banglore</td>\n",
       "      <td>New Delhi</td>\n",
       "      <td>BLR → NAG → DEL</td>\n",
       "      <td>16:50</td>\n",
       "      <td>21:35</td>\n",
       "      <td>4h 45m</td>\n",
       "      <td>1 stop</td>\n",
       "      <td>No info</td>\n",
       "    </tr>\n",
       "  </tbody>\n",
       "</table>\n",
       "</div>"
      ],
      "text/plain": [
       "       Airline Date_of_Journey    Source Destination                  Route  \\\n",
       "0       IndiGo      24/03/2019  Banglore   New Delhi              BLR → DEL   \n",
       "1    Air India       1/05/2019   Kolkata    Banglore  CCU → IXR → BBI → BLR   \n",
       "2  Jet Airways       9/06/2019     Delhi      Cochin  DEL → LKO → BOM → COK   \n",
       "3       IndiGo      12/05/2019   Kolkata    Banglore        CCU → NAG → BLR   \n",
       "4       IndiGo      01/03/2019  Banglore   New Delhi        BLR → NAG → DEL   \n",
       "\n",
       "  Dep_Time  Arrival_Time Duration Total_Stops Additional_Info  \n",
       "0    22:20  01:10 22 Mar   2h 50m    non-stop         No info  \n",
       "1    05:50         13:15   7h 25m     2 stops         No info  \n",
       "2    09:25  04:25 10 Jun      19h     2 stops         No info  \n",
       "3    18:05         23:30   5h 25m      1 stop         No info  \n",
       "4    16:50         21:35   4h 45m      1 stop         No info  "
      ]
     },
     "execution_count": 19,
     "metadata": {},
     "output_type": "execute_result"
    }
   ],
   "source": [
    "#to select categorical features\n",
    "categorical_features=df.select_dtypes(include=[np.object])\n",
    "categorical_features.head()"
   ]
  },
  {
   "cell_type": "code",
   "execution_count": 20,
   "metadata": {},
   "outputs": [
    {
     "data": {
      "text/html": [
       "<div>\n",
       "<style scoped>\n",
       "    .dataframe tbody tr th:only-of-type {\n",
       "        vertical-align: middle;\n",
       "    }\n",
       "\n",
       "    .dataframe tbody tr th {\n",
       "        vertical-align: top;\n",
       "    }\n",
       "\n",
       "    .dataframe thead th {\n",
       "        text-align: right;\n",
       "    }\n",
       "</style>\n",
       "<table border=\"1\" class=\"dataframe\">\n",
       "  <thead>\n",
       "    <tr style=\"text-align: right;\">\n",
       "      <th></th>\n",
       "      <th>Price</th>\n",
       "    </tr>\n",
       "  </thead>\n",
       "  <tbody>\n",
       "    <tr>\n",
       "      <th>0</th>\n",
       "      <td>3897.0</td>\n",
       "    </tr>\n",
       "    <tr>\n",
       "      <th>1</th>\n",
       "      <td>7662.0</td>\n",
       "    </tr>\n",
       "    <tr>\n",
       "      <th>2</th>\n",
       "      <td>13882.0</td>\n",
       "    </tr>\n",
       "    <tr>\n",
       "      <th>3</th>\n",
       "      <td>6218.0</td>\n",
       "    </tr>\n",
       "    <tr>\n",
       "      <th>4</th>\n",
       "      <td>13302.0</td>\n",
       "    </tr>\n",
       "  </tbody>\n",
       "</table>\n",
       "</div>"
      ],
      "text/plain": [
       "     Price\n",
       "0   3897.0\n",
       "1   7662.0\n",
       "2  13882.0\n",
       "3   6218.0\n",
       "4  13302.0"
      ]
     },
     "execution_count": 20,
     "metadata": {},
     "output_type": "execute_result"
    }
   ],
   "source": [
    "#to select numerical features\n",
    "\n",
    "numerical_features=df.select_dtypes(include=[np.number])\n",
    "numerical_features.head()"
   ]
  },
  {
   "cell_type": "code",
   "execution_count": 21,
   "metadata": {},
   "outputs": [
    {
     "data": {
      "text/plain": [
       "Airline               0\n",
       "Date_of_Journey       0\n",
       "Source                0\n",
       "Destination           0\n",
       "Route                 1\n",
       "Dep_Time              0\n",
       "Arrival_Time          0\n",
       "Duration              0\n",
       "Total_Stops           1\n",
       "Additional_Info       0\n",
       "Price              2671\n",
       "dtype: int64"
      ]
     },
     "execution_count": 21,
     "metadata": {},
     "output_type": "execute_result"
    }
   ],
   "source": [
    "df.isnull().sum()"
   ]
  },
  {
   "cell_type": "code",
   "execution_count": 22,
   "metadata": {},
   "outputs": [
    {
     "data": {
      "text/plain": [
       "Jet Airways                          4746\n",
       "IndiGo                               2564\n",
       "Air India                            2192\n",
       "Multiple carriers                    1543\n",
       "SpiceJet                             1026\n",
       "Vistara                               608\n",
       "Air Asia                              405\n",
       "GoAir                                 240\n",
       "Multiple carriers Premium economy      16\n",
       "Jet Airways Business                    8\n",
       "Vistara Premium economy                 5\n",
       "Trujet                                  1\n",
       "Name: Airline, dtype: int64"
      ]
     },
     "execution_count": 22,
     "metadata": {},
     "output_type": "execute_result"
    }
   ],
   "source": [
    "df['Airline'].value_counts()"
   ]
  },
  {
   "cell_type": "code",
   "execution_count": 23,
   "metadata": {},
   "outputs": [
    {
     "data": {
      "text/plain": [
       "Delhi       5682\n",
       "Kolkata     3581\n",
       "Banglore    2752\n",
       "Mumbai       883\n",
       "Chennai      456\n",
       "Name: Source, dtype: int64"
      ]
     },
     "execution_count": 23,
     "metadata": {},
     "output_type": "execute_result"
    }
   ],
   "source": [
    "df['Source'].value_counts()"
   ]
  },
  {
   "cell_type": "code",
   "execution_count": 24,
   "metadata": {},
   "outputs": [
    {
     "data": {
      "text/plain": [
       "Cochin       5682\n",
       "Banglore     3581\n",
       "Delhi        1582\n",
       "New Delhi    1170\n",
       "Hyderabad     883\n",
       "Kolkata       456\n",
       "Name: Destination, dtype: int64"
      ]
     },
     "execution_count": 24,
     "metadata": {},
     "output_type": "execute_result"
    }
   ],
   "source": [
    "df['Destination'].value_counts()"
   ]
  },
  {
   "cell_type": "code",
   "execution_count": 25,
   "metadata": {},
   "outputs": [
    {
     "data": {
      "text/plain": [
       "DEL → BOM → COK                3000\n",
       "BLR → DEL                      1941\n",
       "CCU → BOM → BLR                1232\n",
       "CCU → BLR                       896\n",
       "BOM → HYD                       785\n",
       "                               ... \n",
       "BOM → UDR → DEL → HYD             1\n",
       "BOM → DED → DEL → HYD             1\n",
       "BLR → HBX → BOM → NAG → DEL       1\n",
       "CCU → RPR → HYD → BLR             1\n",
       "BOM → JLR → HYD                   1\n",
       "Name: Route, Length: 132, dtype: int64"
      ]
     },
     "execution_count": 25,
     "metadata": {},
     "output_type": "execute_result"
    }
   ],
   "source": [
    "df['Route'].value_counts()"
   ]
  },
  {
   "cell_type": "code",
   "execution_count": 26,
   "metadata": {},
   "outputs": [
    {
     "data": {
      "text/plain": [
       "1 stop      7056\n",
       "non-stop    4340\n",
       "2 stops     1899\n",
       "3 stops       56\n",
       "4 stops        2\n",
       "Name: Total_Stops, dtype: int64"
      ]
     },
     "execution_count": 26,
     "metadata": {},
     "output_type": "execute_result"
    }
   ],
   "source": [
    "df['Total_Stops'].value_counts()"
   ]
  },
  {
   "cell_type": "code",
   "execution_count": 27,
   "metadata": {},
   "outputs": [
    {
     "data": {
      "text/plain": [
       "No info                         10493\n",
       "In-flight meal not included      2426\n",
       "No check-in baggage included      396\n",
       "1 Long layover                     20\n",
       "Change airports                     8\n",
       "Business class                      5\n",
       "No Info                             3\n",
       "Red-eye flight                      1\n",
       "2 Long layover                      1\n",
       "1 Short layover                     1\n",
       "Name: Additional_Info, dtype: int64"
      ]
     },
     "execution_count": 27,
     "metadata": {},
     "output_type": "execute_result"
    }
   ],
   "source": [
    "df['Additional_Info'].value_counts()"
   ]
  },
  {
   "cell_type": "code",
   "execution_count": 28,
   "metadata": {},
   "outputs": [
    {
     "data": {
      "text/plain": [
       "2h 50m     672\n",
       "1h 30m     493\n",
       "2h 45m     432\n",
       "2h 55m     418\n",
       "2h 35m     399\n",
       "          ... \n",
       "29h 30m      1\n",
       "40h 40m      1\n",
       "22h 50m      1\n",
       "28h 30m      1\n",
       "20h 30m      1\n",
       "Name: Duration, Length: 374, dtype: int64"
      ]
     },
     "execution_count": 28,
     "metadata": {},
     "output_type": "execute_result"
    }
   ],
   "source": [
    "df[\"Duration\"].value_counts()"
   ]
  },
  {
   "cell_type": "code",
   "execution_count": 29,
   "metadata": {},
   "outputs": [
    {
     "name": "stdout",
     "output_type": "stream",
     "text": [
      "<class 'pandas.core.frame.DataFrame'>\n",
      "Int64Index: 13354 entries, 0 to 2670\n",
      "Data columns (total 11 columns):\n",
      " #   Column           Non-Null Count  Dtype  \n",
      "---  ------           --------------  -----  \n",
      " 0   Airline          13354 non-null  object \n",
      " 1   Date_of_Journey  13354 non-null  object \n",
      " 2   Source           13354 non-null  object \n",
      " 3   Destination      13354 non-null  object \n",
      " 4   Route            13353 non-null  object \n",
      " 5   Dep_Time         13354 non-null  object \n",
      " 6   Arrival_Time     13354 non-null  object \n",
      " 7   Duration         13354 non-null  object \n",
      " 8   Total_Stops      13353 non-null  object \n",
      " 9   Additional_Info  13354 non-null  object \n",
      " 10  Price            10683 non-null  float64\n",
      "dtypes: float64(1), object(10)\n",
      "memory usage: 1.2+ MB\n"
     ]
    }
   ],
   "source": [
    "df.info()"
   ]
  },
  {
   "cell_type": "code",
   "execution_count": 30,
   "metadata": {},
   "outputs": [
    {
     "name": "stdout",
     "output_type": "stream",
     "text": [
      "0    24/03/2019\n",
      "1     1/05/2019\n",
      "2     9/06/2019\n",
      "3    12/05/2019\n",
      "4    01/03/2019\n",
      "Name: Date_of_Journey, dtype: object\n"
     ]
    }
   ],
   "source": [
    "print(df['Date_of_Journey'].head())"
   ]
  },
  {
   "cell_type": "code",
   "execution_count": 31,
   "metadata": {},
   "outputs": [],
   "source": [
    "#df['Date_of_Jouirney']=df['Date_of_Journey'].str.replace('/','').astype(int)"
   ]
  },
  {
   "cell_type": "code",
   "execution_count": 32,
   "metadata": {},
   "outputs": [],
   "source": [
    "df['Date']=df['Date_of_Journey'].str.split('/').str[0]"
   ]
  },
  {
   "cell_type": "code",
   "execution_count": 33,
   "metadata": {},
   "outputs": [],
   "source": [
    "df['Month']=df['Date_of_Journey'].str.split('/').str[1]"
   ]
  },
  {
   "cell_type": "code",
   "execution_count": 34,
   "metadata": {},
   "outputs": [],
   "source": [
    "df['Year']=df['Date_of_Journey'].str.split('/').str[2]"
   ]
  },
  {
   "cell_type": "code",
   "execution_count": 35,
   "metadata": {},
   "outputs": [],
   "source": [
    "# now will drop date of journey column\n",
    "df.drop(['Date_of_Journey'],axis=1,inplace=True)"
   ]
  },
  {
   "cell_type": "code",
   "execution_count": 36,
   "metadata": {},
   "outputs": [
    {
     "data": {
      "text/html": [
       "<div>\n",
       "<style scoped>\n",
       "    .dataframe tbody tr th:only-of-type {\n",
       "        vertical-align: middle;\n",
       "    }\n",
       "\n",
       "    .dataframe tbody tr th {\n",
       "        vertical-align: top;\n",
       "    }\n",
       "\n",
       "    .dataframe thead th {\n",
       "        text-align: right;\n",
       "    }\n",
       "</style>\n",
       "<table border=\"1\" class=\"dataframe\">\n",
       "  <thead>\n",
       "    <tr style=\"text-align: right;\">\n",
       "      <th></th>\n",
       "      <th>Airline</th>\n",
       "      <th>Source</th>\n",
       "      <th>Destination</th>\n",
       "      <th>Route</th>\n",
       "      <th>Dep_Time</th>\n",
       "      <th>Arrival_Time</th>\n",
       "      <th>Duration</th>\n",
       "      <th>Total_Stops</th>\n",
       "      <th>Additional_Info</th>\n",
       "      <th>Price</th>\n",
       "      <th>Date</th>\n",
       "      <th>Month</th>\n",
       "      <th>Year</th>\n",
       "    </tr>\n",
       "  </thead>\n",
       "  <tbody>\n",
       "    <tr>\n",
       "      <th>0</th>\n",
       "      <td>IndiGo</td>\n",
       "      <td>Banglore</td>\n",
       "      <td>New Delhi</td>\n",
       "      <td>BLR → DEL</td>\n",
       "      <td>22:20</td>\n",
       "      <td>01:10 22 Mar</td>\n",
       "      <td>2h 50m</td>\n",
       "      <td>non-stop</td>\n",
       "      <td>No info</td>\n",
       "      <td>3897.0</td>\n",
       "      <td>24</td>\n",
       "      <td>03</td>\n",
       "      <td>2019</td>\n",
       "    </tr>\n",
       "    <tr>\n",
       "      <th>1</th>\n",
       "      <td>Air India</td>\n",
       "      <td>Kolkata</td>\n",
       "      <td>Banglore</td>\n",
       "      <td>CCU → IXR → BBI → BLR</td>\n",
       "      <td>05:50</td>\n",
       "      <td>13:15</td>\n",
       "      <td>7h 25m</td>\n",
       "      <td>2 stops</td>\n",
       "      <td>No info</td>\n",
       "      <td>7662.0</td>\n",
       "      <td>1</td>\n",
       "      <td>05</td>\n",
       "      <td>2019</td>\n",
       "    </tr>\n",
       "    <tr>\n",
       "      <th>2</th>\n",
       "      <td>Jet Airways</td>\n",
       "      <td>Delhi</td>\n",
       "      <td>Cochin</td>\n",
       "      <td>DEL → LKO → BOM → COK</td>\n",
       "      <td>09:25</td>\n",
       "      <td>04:25 10 Jun</td>\n",
       "      <td>19h</td>\n",
       "      <td>2 stops</td>\n",
       "      <td>No info</td>\n",
       "      <td>13882.0</td>\n",
       "      <td>9</td>\n",
       "      <td>06</td>\n",
       "      <td>2019</td>\n",
       "    </tr>\n",
       "    <tr>\n",
       "      <th>3</th>\n",
       "      <td>IndiGo</td>\n",
       "      <td>Kolkata</td>\n",
       "      <td>Banglore</td>\n",
       "      <td>CCU → NAG → BLR</td>\n",
       "      <td>18:05</td>\n",
       "      <td>23:30</td>\n",
       "      <td>5h 25m</td>\n",
       "      <td>1 stop</td>\n",
       "      <td>No info</td>\n",
       "      <td>6218.0</td>\n",
       "      <td>12</td>\n",
       "      <td>05</td>\n",
       "      <td>2019</td>\n",
       "    </tr>\n",
       "    <tr>\n",
       "      <th>4</th>\n",
       "      <td>IndiGo</td>\n",
       "      <td>Banglore</td>\n",
       "      <td>New Delhi</td>\n",
       "      <td>BLR → NAG → DEL</td>\n",
       "      <td>16:50</td>\n",
       "      <td>21:35</td>\n",
       "      <td>4h 45m</td>\n",
       "      <td>1 stop</td>\n",
       "      <td>No info</td>\n",
       "      <td>13302.0</td>\n",
       "      <td>01</td>\n",
       "      <td>03</td>\n",
       "      <td>2019</td>\n",
       "    </tr>\n",
       "  </tbody>\n",
       "</table>\n",
       "</div>"
      ],
      "text/plain": [
       "       Airline    Source Destination                  Route Dep_Time  \\\n",
       "0       IndiGo  Banglore   New Delhi              BLR → DEL    22:20   \n",
       "1    Air India   Kolkata    Banglore  CCU → IXR → BBI → BLR    05:50   \n",
       "2  Jet Airways     Delhi      Cochin  DEL → LKO → BOM → COK    09:25   \n",
       "3       IndiGo   Kolkata    Banglore        CCU → NAG → BLR    18:05   \n",
       "4       IndiGo  Banglore   New Delhi        BLR → NAG → DEL    16:50   \n",
       "\n",
       "   Arrival_Time Duration Total_Stops Additional_Info    Price Date Month  Year  \n",
       "0  01:10 22 Mar   2h 50m    non-stop         No info   3897.0   24    03  2019  \n",
       "1         13:15   7h 25m     2 stops         No info   7662.0    1    05  2019  \n",
       "2  04:25 10 Jun      19h     2 stops         No info  13882.0    9    06  2019  \n",
       "3         23:30   5h 25m      1 stop         No info   6218.0   12    05  2019  \n",
       "4         21:35   4h 45m      1 stop         No info  13302.0   01    03  2019  "
      ]
     },
     "execution_count": 36,
     "metadata": {},
     "output_type": "execute_result"
    }
   ],
   "source": [
    "df.head()"
   ]
  },
  {
   "cell_type": "code",
   "execution_count": 37,
   "metadata": {},
   "outputs": [],
   "source": [
    "# sepeartaing dep time into hours and min\n",
    "\n",
    "df['Dep_Hour']=df['Dep_Time'].str.split(':').str[0]\n",
    "df['Dep_Minute']=df['Dep_Time'].str.split(':').str[1]\n",
    "df['Dep_Hour']=df['Dep_Hour'].astype(int)\n",
    "df['Dep_Minute']=df['Dep_Minute'].astype(int)"
   ]
  },
  {
   "cell_type": "code",
   "execution_count": 38,
   "metadata": {},
   "outputs": [],
   "source": [
    "# dropping Dep time column\n",
    "df.drop(['Dep_Time'],axis=1,inplace=True)\n"
   ]
  },
  {
   "cell_type": "code",
   "execution_count": 39,
   "metadata": {},
   "outputs": [],
   "source": [
    "# splitting route columns\n",
    "\n",
    "df['Route_1']=df['Route'].str.split('→').str[0]\n",
    "df['Route_2']=df['Route'].str.split('→').str[1]\n",
    "df['Route_3']=df['Route'].str.split('→').str[2]\n",
    "df['Route_4']=df['Route'].str.split('→').str[3]\n",
    "df['Route_5']=df['Route'].str.split('→').str[4]\n"
   ]
  },
  {
   "cell_type": "code",
   "execution_count": 40,
   "metadata": {},
   "outputs": [],
   "source": [
    "# treating NaN with None\n",
    "\n",
    "df['Route_1'].fillna(\"None\",inplace=True)\n",
    "df['Route_2'].fillna(\"None\",inplace=True)\n",
    "df['Route_3'].fillna(\"None\",inplace=True)\n",
    "df['Route_4'].fillna(\"None\",inplace=True)\n",
    "df['Route_5'].fillna(\"None\",inplace=True)\n",
    "\n",
    "\n",
    "\n"
   ]
  },
  {
   "cell_type": "code",
   "execution_count": 41,
   "metadata": {},
   "outputs": [],
   "source": [
    "# dropping route column\n",
    "df.drop(['Route'],axis=1,inplace=True)\n"
   ]
  },
  {
   "cell_type": "code",
   "execution_count": 42,
   "metadata": {},
   "outputs": [],
   "source": [
    "# Arrival_Time\n",
    "\n",
    "df['Arrival_Hour']=pd.to_datetime(df.Arrival_Time).dt.hour"
   ]
  },
  {
   "cell_type": "code",
   "execution_count": 43,
   "metadata": {},
   "outputs": [],
   "source": [
    "df['Arrival_Minute']=pd.to_datetime(df.Arrival_Time).dt.minute"
   ]
  },
  {
   "cell_type": "code",
   "execution_count": 44,
   "metadata": {},
   "outputs": [],
   "source": [
    "df.drop(['Arrival_Time'],axis=1,inplace=True)"
   ]
  },
  {
   "cell_type": "code",
   "execution_count": 45,
   "metadata": {},
   "outputs": [],
   "source": [
    "# in additional info column\n",
    "\n",
    "df[\"Additional_Info\"]=df[\"Additional_Info\"].replace({'No Info':'No Info'})"
   ]
  },
  {
   "cell_type": "code",
   "execution_count": 46,
   "metadata": {},
   "outputs": [],
   "source": [
    "# convert duration hoursin minute\n",
    "\n",
    "df['Duration']=df['Duration'].str.replace(\"h\",'*60').str.replace(\" \",'+').str.replace(\"m\",'*1').apply(eval)"
   ]
  },
  {
   "cell_type": "code",
   "execution_count": 47,
   "metadata": {},
   "outputs": [],
   "source": [
    "df[\"Total_Stops\"]=df[\"Total_Stops\"].replace({'non-stop':'0 stop'})"
   ]
  },
  {
   "cell_type": "code",
   "execution_count": 48,
   "metadata": {},
   "outputs": [],
   "source": [
    "# convert total stops\n",
    "\n",
    "df['Total_Stops'].replace(['1 stop', '0 stop', '2 stops', '3 stops', '4 stops'], [1,0,2,3,4],inplace=True)"
   ]
  },
  {
   "cell_type": "code",
   "execution_count": 49,
   "metadata": {},
   "outputs": [],
   "source": [
    "# additional info\n",
    "\n",
    "df['Additional_Info'].replace({'Change airports':'Other','Business class':'Other','1 Short layover':'Other','Red-eye flight':'Other','2 Long layover':'Other'},inplace=True)"
   ]
  },
  {
   "cell_type": "code",
   "execution_count": 50,
   "metadata": {},
   "outputs": [
    {
     "data": {
      "text/html": [
       "<div>\n",
       "<style scoped>\n",
       "    .dataframe tbody tr th:only-of-type {\n",
       "        vertical-align: middle;\n",
       "    }\n",
       "\n",
       "    .dataframe tbody tr th {\n",
       "        vertical-align: top;\n",
       "    }\n",
       "\n",
       "    .dataframe thead th {\n",
       "        text-align: right;\n",
       "    }\n",
       "</style>\n",
       "<table border=\"1\" class=\"dataframe\">\n",
       "  <thead>\n",
       "    <tr style=\"text-align: right;\">\n",
       "      <th></th>\n",
       "      <th>Airline</th>\n",
       "      <th>Source</th>\n",
       "      <th>Destination</th>\n",
       "      <th>Duration</th>\n",
       "      <th>Total_Stops</th>\n",
       "      <th>Additional_Info</th>\n",
       "      <th>Price</th>\n",
       "      <th>Date</th>\n",
       "      <th>Month</th>\n",
       "      <th>Year</th>\n",
       "      <th>Dep_Hour</th>\n",
       "      <th>Dep_Minute</th>\n",
       "      <th>Route_1</th>\n",
       "      <th>Route_2</th>\n",
       "      <th>Route_3</th>\n",
       "      <th>Route_4</th>\n",
       "      <th>Route_5</th>\n",
       "      <th>Arrival_Hour</th>\n",
       "      <th>Arrival_Minute</th>\n",
       "    </tr>\n",
       "  </thead>\n",
       "  <tbody>\n",
       "    <tr>\n",
       "      <th>0</th>\n",
       "      <td>IndiGo</td>\n",
       "      <td>Banglore</td>\n",
       "      <td>New Delhi</td>\n",
       "      <td>170</td>\n",
       "      <td>0.0</td>\n",
       "      <td>No info</td>\n",
       "      <td>3897.0</td>\n",
       "      <td>24</td>\n",
       "      <td>03</td>\n",
       "      <td>2019</td>\n",
       "      <td>22</td>\n",
       "      <td>20</td>\n",
       "      <td>BLR</td>\n",
       "      <td>DEL</td>\n",
       "      <td>None</td>\n",
       "      <td>None</td>\n",
       "      <td>None</td>\n",
       "      <td>1</td>\n",
       "      <td>10</td>\n",
       "    </tr>\n",
       "    <tr>\n",
       "      <th>1</th>\n",
       "      <td>Air India</td>\n",
       "      <td>Kolkata</td>\n",
       "      <td>Banglore</td>\n",
       "      <td>445</td>\n",
       "      <td>2.0</td>\n",
       "      <td>No info</td>\n",
       "      <td>7662.0</td>\n",
       "      <td>1</td>\n",
       "      <td>05</td>\n",
       "      <td>2019</td>\n",
       "      <td>5</td>\n",
       "      <td>50</td>\n",
       "      <td>CCU</td>\n",
       "      <td>IXR</td>\n",
       "      <td>BBI</td>\n",
       "      <td>BLR</td>\n",
       "      <td>None</td>\n",
       "      <td>13</td>\n",
       "      <td>15</td>\n",
       "    </tr>\n",
       "    <tr>\n",
       "      <th>2</th>\n",
       "      <td>Jet Airways</td>\n",
       "      <td>Delhi</td>\n",
       "      <td>Cochin</td>\n",
       "      <td>1140</td>\n",
       "      <td>2.0</td>\n",
       "      <td>No info</td>\n",
       "      <td>13882.0</td>\n",
       "      <td>9</td>\n",
       "      <td>06</td>\n",
       "      <td>2019</td>\n",
       "      <td>9</td>\n",
       "      <td>25</td>\n",
       "      <td>DEL</td>\n",
       "      <td>LKO</td>\n",
       "      <td>BOM</td>\n",
       "      <td>COK</td>\n",
       "      <td>None</td>\n",
       "      <td>4</td>\n",
       "      <td>25</td>\n",
       "    </tr>\n",
       "    <tr>\n",
       "      <th>3</th>\n",
       "      <td>IndiGo</td>\n",
       "      <td>Kolkata</td>\n",
       "      <td>Banglore</td>\n",
       "      <td>325</td>\n",
       "      <td>1.0</td>\n",
       "      <td>No info</td>\n",
       "      <td>6218.0</td>\n",
       "      <td>12</td>\n",
       "      <td>05</td>\n",
       "      <td>2019</td>\n",
       "      <td>18</td>\n",
       "      <td>5</td>\n",
       "      <td>CCU</td>\n",
       "      <td>NAG</td>\n",
       "      <td>BLR</td>\n",
       "      <td>None</td>\n",
       "      <td>None</td>\n",
       "      <td>23</td>\n",
       "      <td>30</td>\n",
       "    </tr>\n",
       "    <tr>\n",
       "      <th>4</th>\n",
       "      <td>IndiGo</td>\n",
       "      <td>Banglore</td>\n",
       "      <td>New Delhi</td>\n",
       "      <td>285</td>\n",
       "      <td>1.0</td>\n",
       "      <td>No info</td>\n",
       "      <td>13302.0</td>\n",
       "      <td>01</td>\n",
       "      <td>03</td>\n",
       "      <td>2019</td>\n",
       "      <td>16</td>\n",
       "      <td>50</td>\n",
       "      <td>BLR</td>\n",
       "      <td>NAG</td>\n",
       "      <td>DEL</td>\n",
       "      <td>None</td>\n",
       "      <td>None</td>\n",
       "      <td>21</td>\n",
       "      <td>35</td>\n",
       "    </tr>\n",
       "  </tbody>\n",
       "</table>\n",
       "</div>"
      ],
      "text/plain": [
       "       Airline    Source Destination  Duration  Total_Stops Additional_Info  \\\n",
       "0       IndiGo  Banglore   New Delhi       170          0.0         No info   \n",
       "1    Air India   Kolkata    Banglore       445          2.0         No info   \n",
       "2  Jet Airways     Delhi      Cochin      1140          2.0         No info   \n",
       "3       IndiGo   Kolkata    Banglore       325          1.0         No info   \n",
       "4       IndiGo  Banglore   New Delhi       285          1.0         No info   \n",
       "\n",
       "     Price Date Month  Year  Dep_Hour  Dep_Minute Route_1 Route_2 Route_3  \\\n",
       "0   3897.0   24    03  2019        22          20    BLR      DEL    None   \n",
       "1   7662.0    1    05  2019         5          50    CCU     IXR     BBI    \n",
       "2  13882.0    9    06  2019         9          25    DEL     LKO     BOM    \n",
       "3   6218.0   12    05  2019        18           5    CCU     NAG      BLR   \n",
       "4  13302.0   01    03  2019        16          50    BLR     NAG      DEL   \n",
       "\n",
       "  Route_4 Route_5  Arrival_Hour  Arrival_Minute  \n",
       "0    None    None             1              10  \n",
       "1     BLR    None            13              15  \n",
       "2     COK    None             4              25  \n",
       "3    None    None            23              30  \n",
       "4    None    None            21              35  "
      ]
     },
     "execution_count": 50,
     "metadata": {},
     "output_type": "execute_result"
    }
   ],
   "source": [
    "df.head()"
   ]
  },
  {
   "cell_type": "code",
   "execution_count": 51,
   "metadata": {},
   "outputs": [],
   "source": [
    "# converting categorical values into numeric\n",
    "\n",
    "\n",
    "from sklearn.preprocessing import LabelEncoder\n",
    "LE=LabelEncoder()\n",
    "\n",
    "df['Airline']=LE.fit_transform(df['Airline'])\n",
    "df['Source']=LE.fit_transform(df['Source'])\n",
    "df['Destination']=LE.fit_transform(df['Destination'])\n",
    "\n",
    "df['Additional_Info']=LE.fit_transform(df['Additional_Info'])\n",
    "df['Route_1']=LE.fit_transform(df['Route_1'])\n",
    "df['Route_2']=LE.fit_transform(df['Route_2'])\n",
    "df['Route_3']=LE.fit_transform(df['Route_3'])\n",
    "df['Route_4']=LE.fit_transform(df['Route_4'])\n",
    "df['Route_5']=LE.fit_transform(df['Route_5'])"
   ]
  },
  {
   "cell_type": "code",
   "execution_count": 52,
   "metadata": {},
   "outputs": [
    {
     "data": {
      "text/html": [
       "<div>\n",
       "<style scoped>\n",
       "    .dataframe tbody tr th:only-of-type {\n",
       "        vertical-align: middle;\n",
       "    }\n",
       "\n",
       "    .dataframe tbody tr th {\n",
       "        vertical-align: top;\n",
       "    }\n",
       "\n",
       "    .dataframe thead th {\n",
       "        text-align: right;\n",
       "    }\n",
       "</style>\n",
       "<table border=\"1\" class=\"dataframe\">\n",
       "  <thead>\n",
       "    <tr style=\"text-align: right;\">\n",
       "      <th></th>\n",
       "      <th>Airline</th>\n",
       "      <th>Source</th>\n",
       "      <th>Destination</th>\n",
       "      <th>Duration</th>\n",
       "      <th>Total_Stops</th>\n",
       "      <th>Additional_Info</th>\n",
       "      <th>Price</th>\n",
       "      <th>Date</th>\n",
       "      <th>Month</th>\n",
       "      <th>Year</th>\n",
       "      <th>Dep_Hour</th>\n",
       "      <th>Dep_Minute</th>\n",
       "      <th>Route_1</th>\n",
       "      <th>Route_2</th>\n",
       "      <th>Route_3</th>\n",
       "      <th>Route_4</th>\n",
       "      <th>Route_5</th>\n",
       "      <th>Arrival_Hour</th>\n",
       "      <th>Arrival_Minute</th>\n",
       "    </tr>\n",
       "  </thead>\n",
       "  <tbody>\n",
       "    <tr>\n",
       "      <th>0</th>\n",
       "      <td>3</td>\n",
       "      <td>0</td>\n",
       "      <td>5</td>\n",
       "      <td>170</td>\n",
       "      <td>0.0</td>\n",
       "      <td>4</td>\n",
       "      <td>3897.0</td>\n",
       "      <td>24</td>\n",
       "      <td>03</td>\n",
       "      <td>2019</td>\n",
       "      <td>22</td>\n",
       "      <td>20</td>\n",
       "      <td>0</td>\n",
       "      <td>13</td>\n",
       "      <td>30</td>\n",
       "      <td>13</td>\n",
       "      <td>5</td>\n",
       "      <td>1</td>\n",
       "      <td>10</td>\n",
       "    </tr>\n",
       "    <tr>\n",
       "      <th>1</th>\n",
       "      <td>1</td>\n",
       "      <td>3</td>\n",
       "      <td>0</td>\n",
       "      <td>445</td>\n",
       "      <td>2.0</td>\n",
       "      <td>4</td>\n",
       "      <td>7662.0</td>\n",
       "      <td>1</td>\n",
       "      <td>05</td>\n",
       "      <td>2019</td>\n",
       "      <td>5</td>\n",
       "      <td>50</td>\n",
       "      <td>2</td>\n",
       "      <td>25</td>\n",
       "      <td>1</td>\n",
       "      <td>3</td>\n",
       "      <td>5</td>\n",
       "      <td>13</td>\n",
       "      <td>15</td>\n",
       "    </tr>\n",
       "    <tr>\n",
       "      <th>2</th>\n",
       "      <td>4</td>\n",
       "      <td>2</td>\n",
       "      <td>1</td>\n",
       "      <td>1140</td>\n",
       "      <td>2.0</td>\n",
       "      <td>4</td>\n",
       "      <td>13882.0</td>\n",
       "      <td>9</td>\n",
       "      <td>06</td>\n",
       "      <td>2019</td>\n",
       "      <td>9</td>\n",
       "      <td>25</td>\n",
       "      <td>3</td>\n",
       "      <td>32</td>\n",
       "      <td>4</td>\n",
       "      <td>5</td>\n",
       "      <td>5</td>\n",
       "      <td>4</td>\n",
       "      <td>25</td>\n",
       "    </tr>\n",
       "    <tr>\n",
       "      <th>3</th>\n",
       "      <td>3</td>\n",
       "      <td>3</td>\n",
       "      <td>0</td>\n",
       "      <td>325</td>\n",
       "      <td>1.0</td>\n",
       "      <td>4</td>\n",
       "      <td>6218.0</td>\n",
       "      <td>12</td>\n",
       "      <td>05</td>\n",
       "      <td>2019</td>\n",
       "      <td>18</td>\n",
       "      <td>5</td>\n",
       "      <td>2</td>\n",
       "      <td>34</td>\n",
       "      <td>3</td>\n",
       "      <td>13</td>\n",
       "      <td>5</td>\n",
       "      <td>23</td>\n",
       "      <td>30</td>\n",
       "    </tr>\n",
       "    <tr>\n",
       "      <th>4</th>\n",
       "      <td>3</td>\n",
       "      <td>0</td>\n",
       "      <td>5</td>\n",
       "      <td>285</td>\n",
       "      <td>1.0</td>\n",
       "      <td>4</td>\n",
       "      <td>13302.0</td>\n",
       "      <td>01</td>\n",
       "      <td>03</td>\n",
       "      <td>2019</td>\n",
       "      <td>16</td>\n",
       "      <td>50</td>\n",
       "      <td>0</td>\n",
       "      <td>34</td>\n",
       "      <td>8</td>\n",
       "      <td>13</td>\n",
       "      <td>5</td>\n",
       "      <td>21</td>\n",
       "      <td>35</td>\n",
       "    </tr>\n",
       "  </tbody>\n",
       "</table>\n",
       "</div>"
      ],
      "text/plain": [
       "   Airline  Source  Destination  Duration  Total_Stops  Additional_Info  \\\n",
       "0        3       0            5       170          0.0                4   \n",
       "1        1       3            0       445          2.0                4   \n",
       "2        4       2            1      1140          2.0                4   \n",
       "3        3       3            0       325          1.0                4   \n",
       "4        3       0            5       285          1.0                4   \n",
       "\n",
       "     Price Date Month  Year  Dep_Hour  Dep_Minute  Route_1  Route_2  Route_3  \\\n",
       "0   3897.0   24    03  2019        22          20        0       13       30   \n",
       "1   7662.0    1    05  2019         5          50        2       25        1   \n",
       "2  13882.0    9    06  2019         9          25        3       32        4   \n",
       "3   6218.0   12    05  2019        18           5        2       34        3   \n",
       "4  13302.0   01    03  2019        16          50        0       34        8   \n",
       "\n",
       "   Route_4  Route_5  Arrival_Hour  Arrival_Minute  \n",
       "0       13        5             1              10  \n",
       "1        3        5            13              15  \n",
       "2        5        5             4              25  \n",
       "3       13        5            23              30  \n",
       "4       13        5            21              35  "
      ]
     },
     "execution_count": 52,
     "metadata": {},
     "output_type": "execute_result"
    }
   ],
   "source": [
    "df.head()"
   ]
  },
  {
   "cell_type": "code",
   "execution_count": 53,
   "metadata": {},
   "outputs": [],
   "source": [
    "collist=df.columns.values\n",
    "ncol=15\n",
    "nrows=10"
   ]
  },
  {
   "cell_type": "code",
   "execution_count": 54,
   "metadata": {},
   "outputs": [
    {
     "data": {
      "image/png": "[encoded data removed]",
      "text/plain": [
       "<Figure size 1440x1152 with 19 Axes>"
      ]
     },
     "metadata": {
      "needs_background": "light"
     },
     "output_type": "display_data"
    }
   ],
   "source": [
    "# snapshot of distribution curves of all input datas\n",
    "\n",
    "plt.figure(figsize=(20,16))\n",
    "for i in range(0,len(collist)):\n",
    "    plt.subplot(nrows,ncol,i+1)\n",
    "    sn.distplot(df[collist[i]])"
   ]
  },
  {
   "cell_type": "code",
   "execution_count": 55,
   "metadata": {},
   "outputs": [
    {
     "data": {
      "text/plain": [
       "Airline               AxesSubplot(0.125,0.749828;0.0824468x0.130172)\n",
       "Source             AxesSubplot(0.223936,0.749828;0.0824468x0.130172)\n",
       "Destination        AxesSubplot(0.322872,0.749828;0.0824468x0.130172)\n",
       "Duration           AxesSubplot(0.421809,0.749828;0.0824468x0.130172)\n",
       "Total_Stops        AxesSubplot(0.520745,0.749828;0.0824468x0.130172)\n",
       "Additional_Info    AxesSubplot(0.619681,0.749828;0.0824468x0.130172)\n",
       "Price              AxesSubplot(0.718617,0.749828;0.0824468x0.130172)\n",
       "Dep_Hour           AxesSubplot(0.817553,0.749828;0.0824468x0.130172)\n",
       "Dep_Minute            AxesSubplot(0.125,0.593621;0.0824468x0.130172)\n",
       "Route_1            AxesSubplot(0.223936,0.593621;0.0824468x0.130172)\n",
       "Route_2            AxesSubplot(0.322872,0.593621;0.0824468x0.130172)\n",
       "Route_3            AxesSubplot(0.421809,0.593621;0.0824468x0.130172)\n",
       "Route_4            AxesSubplot(0.520745,0.593621;0.0824468x0.130172)\n",
       "Route_5            AxesSubplot(0.619681,0.593621;0.0824468x0.130172)\n",
       "Arrival_Hour       AxesSubplot(0.718617,0.593621;0.0824468x0.130172)\n",
       "Arrival_Minute     AxesSubplot(0.817553,0.593621;0.0824468x0.130172)\n",
       "dtype: object"
      ]
     },
     "execution_count": 55,
     "metadata": {},
     "output_type": "execute_result"
    },
    {
     "data": {
      "image/png": "[encoded data removed]",
      "text/plain": [
       "<Figure size 432x288 with 40 Axes>"
      ]
     },
     "metadata": {
      "needs_background": "light"
     },
     "output_type": "display_data"
    }
   ],
   "source": [
    "df.plot(kind='box',subplots=True,layout=(5,8))"
   ]
  },
  {
   "cell_type": "code",
   "execution_count": 56,
   "metadata": {},
   "outputs": [
    {
     "data": {
      "text/html": [
       "<div>\n",
       "<style scoped>\n",
       "    .dataframe tbody tr th:only-of-type {\n",
       "        vertical-align: middle;\n",
       "    }\n",
       "\n",
       "    .dataframe tbody tr th {\n",
       "        vertical-align: top;\n",
       "    }\n",
       "\n",
       "    .dataframe thead th {\n",
       "        text-align: right;\n",
       "    }\n",
       "</style>\n",
       "<table border=\"1\" class=\"dataframe\">\n",
       "  <thead>\n",
       "    <tr style=\"text-align: right;\">\n",
       "      <th></th>\n",
       "      <th>Airline</th>\n",
       "      <th>Source</th>\n",
       "      <th>Destination</th>\n",
       "      <th>Duration</th>\n",
       "      <th>Total_Stops</th>\n",
       "      <th>Additional_Info</th>\n",
       "      <th>Price</th>\n",
       "      <th>Dep_Hour</th>\n",
       "      <th>Dep_Minute</th>\n",
       "      <th>Route_1</th>\n",
       "      <th>Route_2</th>\n",
       "      <th>Route_3</th>\n",
       "      <th>Route_4</th>\n",
       "      <th>Route_5</th>\n",
       "      <th>Arrival_Hour</th>\n",
       "      <th>Arrival_Minute</th>\n",
       "    </tr>\n",
       "  </thead>\n",
       "  <tbody>\n",
       "    <tr>\n",
       "      <th>count</th>\n",
       "      <td>13354.000000</td>\n",
       "      <td>13354.000000</td>\n",
       "      <td>13354.000000</td>\n",
       "      <td>13354.00000</td>\n",
       "      <td>13353.000000</td>\n",
       "      <td>13354.000000</td>\n",
       "      <td>10683.000000</td>\n",
       "      <td>13354.000000</td>\n",
       "      <td>13354.000000</td>\n",
       "      <td>13354.000000</td>\n",
       "      <td>13354.000000</td>\n",
       "      <td>13354.000000</td>\n",
       "      <td>13354.000000</td>\n",
       "      <td>13354.000000</td>\n",
       "      <td>13354.000000</td>\n",
       "      <td>13354.000000</td>\n",
       "    </tr>\n",
       "    <tr>\n",
       "      <th>mean</th>\n",
       "      <td>3.977086</td>\n",
       "      <td>1.954096</td>\n",
       "      <td>1.435450</td>\n",
       "      <td>642.42287</td>\n",
       "      <td>0.826032</td>\n",
       "      <td>3.420099</td>\n",
       "      <td>9087.064121</td>\n",
       "      <td>12.513254</td>\n",
       "      <td>24.507264</td>\n",
       "      <td>2.015651</td>\n",
       "      <td>11.901677</td>\n",
       "      <td>13.519021</td>\n",
       "      <td>11.791149</td>\n",
       "      <td>4.982852</td>\n",
       "      <td>13.396061</td>\n",
       "      <td>24.664146</td>\n",
       "    </tr>\n",
       "    <tr>\n",
       "      <th>std</th>\n",
       "      <td>2.363997</td>\n",
       "      <td>1.178607</td>\n",
       "      <td>1.473368</td>\n",
       "      <td>506.71504</td>\n",
       "      <td>0.674632</td>\n",
       "      <td>1.163849</td>\n",
       "      <td>4611.359167</td>\n",
       "      <td>5.736273</td>\n",
       "      <td>18.832385</td>\n",
       "      <td>1.205399</td>\n",
       "      <td>7.987999</td>\n",
       "      <td>11.744642</td>\n",
       "      <td>2.951447</td>\n",
       "      <td>0.266600</td>\n",
       "      <td>6.896145</td>\n",
       "      <td>16.559723</td>\n",
       "    </tr>\n",
       "    <tr>\n",
       "      <th>min</th>\n",
       "      <td>0.000000</td>\n",
       "      <td>0.000000</td>\n",
       "      <td>0.000000</td>\n",
       "      <td>5.00000</td>\n",
       "      <td>0.000000</td>\n",
       "      <td>0.000000</td>\n",
       "      <td>1759.000000</td>\n",
       "      <td>0.000000</td>\n",
       "      <td>0.000000</td>\n",
       "      <td>0.000000</td>\n",
       "      <td>0.000000</td>\n",
       "      <td>0.000000</td>\n",
       "      <td>0.000000</td>\n",
       "      <td>0.000000</td>\n",
       "      <td>0.000000</td>\n",
       "      <td>0.000000</td>\n",
       "    </tr>\n",
       "    <tr>\n",
       "      <th>25%</th>\n",
       "      <td>3.000000</td>\n",
       "      <td>2.000000</td>\n",
       "      <td>0.000000</td>\n",
       "      <td>175.00000</td>\n",
       "      <td>0.000000</td>\n",
       "      <td>4.000000</td>\n",
       "      <td>5277.000000</td>\n",
       "      <td>8.000000</td>\n",
       "      <td>5.000000</td>\n",
       "      <td>1.000000</td>\n",
       "      <td>7.000000</td>\n",
       "      <td>4.000000</td>\n",
       "      <td>13.000000</td>\n",
       "      <td>5.000000</td>\n",
       "      <td>8.000000</td>\n",
       "      <td>10.000000</td>\n",
       "    </tr>\n",
       "    <tr>\n",
       "      <th>50%</th>\n",
       "      <td>4.000000</td>\n",
       "      <td>2.000000</td>\n",
       "      <td>1.000000</td>\n",
       "      <td>520.00000</td>\n",
       "      <td>1.000000</td>\n",
       "      <td>4.000000</td>\n",
       "      <td>8372.000000</td>\n",
       "      <td>11.000000</td>\n",
       "      <td>25.000000</td>\n",
       "      <td>2.000000</td>\n",
       "      <td>7.000000</td>\n",
       "      <td>6.000000</td>\n",
       "      <td>13.000000</td>\n",
       "      <td>5.000000</td>\n",
       "      <td>14.000000</td>\n",
       "      <td>25.000000</td>\n",
       "    </tr>\n",
       "    <tr>\n",
       "      <th>75%</th>\n",
       "      <td>4.000000</td>\n",
       "      <td>3.000000</td>\n",
       "      <td>2.000000</td>\n",
       "      <td>930.00000</td>\n",
       "      <td>1.000000</td>\n",
       "      <td>4.000000</td>\n",
       "      <td>12373.000000</td>\n",
       "      <td>18.000000</td>\n",
       "      <td>40.000000</td>\n",
       "      <td>3.000000</td>\n",
       "      <td>14.000000</td>\n",
       "      <td>30.000000</td>\n",
       "      <td>13.000000</td>\n",
       "      <td>5.000000</td>\n",
       "      <td>19.000000</td>\n",
       "      <td>35.000000</td>\n",
       "    </tr>\n",
       "    <tr>\n",
       "      <th>max</th>\n",
       "      <td>11.000000</td>\n",
       "      <td>4.000000</td>\n",
       "      <td>5.000000</td>\n",
       "      <td>2860.00000</td>\n",
       "      <td>4.000000</td>\n",
       "      <td>5.000000</td>\n",
       "      <td>79512.000000</td>\n",
       "      <td>23.000000</td>\n",
       "      <td>55.000000</td>\n",
       "      <td>5.000000</td>\n",
       "      <td>45.000000</td>\n",
       "      <td>30.000000</td>\n",
       "      <td>13.000000</td>\n",
       "      <td>5.000000</td>\n",
       "      <td>23.000000</td>\n",
       "      <td>55.000000</td>\n",
       "    </tr>\n",
       "  </tbody>\n",
       "</table>\n",
       "</div>"
      ],
      "text/plain": [
       "            Airline        Source   Destination     Duration   Total_Stops  \\\n",
       "count  13354.000000  13354.000000  13354.000000  13354.00000  13353.000000   \n",
       "mean       3.977086      1.954096      1.435450    642.42287      0.826032   \n",
       "std        2.363997      1.178607      1.473368    506.71504      0.674632   \n",
       "min        0.000000      0.000000      0.000000      5.00000      0.000000   \n",
       "25%        3.000000      2.000000      0.000000    175.00000      0.000000   \n",
       "50%        4.000000      2.000000      1.000000    520.00000      1.000000   \n",
       "75%        4.000000      3.000000      2.000000    930.00000      1.000000   \n",
       "max       11.000000      4.000000      5.000000   2860.00000      4.000000   \n",
       "\n",
       "       Additional_Info         Price      Dep_Hour    Dep_Minute  \\\n",
       "count     13354.000000  10683.000000  13354.000000  13354.000000   \n",
       "mean          3.420099   9087.064121     12.513254     24.507264   \n",
       "std           1.163849   4611.359167      5.736273     18.832385   \n",
       "min           0.000000   1759.000000      0.000000      0.000000   \n",
       "25%           4.000000   5277.000000      8.000000      5.000000   \n",
       "50%           4.000000   8372.000000     11.000000     25.000000   \n",
       "75%           4.000000  12373.000000     18.000000     40.000000   \n",
       "max           5.000000  79512.000000     23.000000     55.000000   \n",
       "\n",
       "            Route_1       Route_2       Route_3       Route_4       Route_5  \\\n",
       "count  13354.000000  13354.000000  13354.000000  13354.000000  13354.000000   \n",
       "mean       2.015651     11.901677     13.519021     11.791149      4.982852   \n",
       "std        1.205399      7.987999     11.744642      2.951447      0.266600   \n",
       "min        0.000000      0.000000      0.000000      0.000000      0.000000   \n",
       "25%        1.000000      7.000000      4.000000     13.000000      5.000000   \n",
       "50%        2.000000      7.000000      6.000000     13.000000      5.000000   \n",
       "75%        3.000000     14.000000     30.000000     13.000000      5.000000   \n",
       "max        5.000000     45.000000     30.000000     13.000000      5.000000   \n",
       "\n",
       "       Arrival_Hour  Arrival_Minute  \n",
       "count  13354.000000    13354.000000  \n",
       "mean      13.396061       24.664146  \n",
       "std        6.896145       16.559723  \n",
       "min        0.000000        0.000000  \n",
       "25%        8.000000       10.000000  \n",
       "50%       14.000000       25.000000  \n",
       "75%       19.000000       35.000000  \n",
       "max       23.000000       55.000000  "
      ]
     },
     "execution_count": 56,
     "metadata": {},
     "output_type": "execute_result"
    }
   ],
   "source": [
    "df.describe()"
   ]
  },
  {
   "cell_type": "code",
   "execution_count": 57,
   "metadata": {},
   "outputs": [],
   "source": [
    "cor=df.corr()"
   ]
  },
  {
   "cell_type": "code",
   "execution_count": 58,
   "metadata": {},
   "outputs": [
    {
     "data": {
      "text/html": [
       "<div>\n",
       "<style scoped>\n",
       "    .dataframe tbody tr th:only-of-type {\n",
       "        vertical-align: middle;\n",
       "    }\n",
       "\n",
       "    .dataframe tbody tr th {\n",
       "        vertical-align: top;\n",
       "    }\n",
       "\n",
       "    .dataframe thead th {\n",
       "        text-align: right;\n",
       "    }\n",
       "</style>\n",
       "<table border=\"1\" class=\"dataframe\">\n",
       "  <thead>\n",
       "    <tr style=\"text-align: right;\">\n",
       "      <th></th>\n",
       "      <th>Airline</th>\n",
       "      <th>Source</th>\n",
       "      <th>Destination</th>\n",
       "      <th>Duration</th>\n",
       "      <th>Total_Stops</th>\n",
       "      <th>Additional_Info</th>\n",
       "      <th>Price</th>\n",
       "      <th>Dep_Hour</th>\n",
       "      <th>Dep_Minute</th>\n",
       "      <th>Route_1</th>\n",
       "      <th>Route_2</th>\n",
       "      <th>Route_3</th>\n",
       "      <th>Route_4</th>\n",
       "      <th>Route_5</th>\n",
       "      <th>Arrival_Hour</th>\n",
       "      <th>Arrival_Minute</th>\n",
       "    </tr>\n",
       "  </thead>\n",
       "  <tbody>\n",
       "    <tr>\n",
       "      <th>Airline</th>\n",
       "      <td>1.000000</td>\n",
       "      <td>-0.018547</td>\n",
       "      <td>0.022130</td>\n",
       "      <td>-0.163077</td>\n",
       "      <td>-0.206339</td>\n",
       "      <td>-0.065529</td>\n",
       "      <td>-0.039520</td>\n",
       "      <td>-0.026127</td>\n",
       "      <td>-0.057826</td>\n",
       "      <td>0.030980</td>\n",
       "      <td>-0.065699</td>\n",
       "      <td>0.064746</td>\n",
       "      <td>0.269561</td>\n",
       "      <td>0.057245</td>\n",
       "      <td>-0.007831</td>\n",
       "      <td>-0.074001</td>\n",
       "    </tr>\n",
       "    <tr>\n",
       "      <th>Source</th>\n",
       "      <td>-0.018547</td>\n",
       "      <td>1.000000</td>\n",
       "      <td>-0.589710</td>\n",
       "      <td>0.159344</td>\n",
       "      <td>0.191144</td>\n",
       "      <td>-0.040045</td>\n",
       "      <td>0.015998</td>\n",
       "      <td>0.058471</td>\n",
       "      <td>-0.058563</td>\n",
       "      <td>0.439608</td>\n",
       "      <td>0.038506</td>\n",
       "      <td>-0.267371</td>\n",
       "      <td>-0.076944</td>\n",
       "      <td>-0.009894</td>\n",
       "      <td>0.020766</td>\n",
       "      <td>0.015057</td>\n",
       "    </tr>\n",
       "    <tr>\n",
       "      <th>Destination</th>\n",
       "      <td>0.022130</td>\n",
       "      <td>-0.589710</td>\n",
       "      <td>1.000000</td>\n",
       "      <td>-0.254933</td>\n",
       "      <td>-0.294179</td>\n",
       "      <td>0.053199</td>\n",
       "      <td>-0.071112</td>\n",
       "      <td>-0.068252</td>\n",
       "      <td>0.133008</td>\n",
       "      <td>-0.491042</td>\n",
       "      <td>0.078221</td>\n",
       "      <td>0.407222</td>\n",
       "      <td>0.132684</td>\n",
       "      <td>0.011958</td>\n",
       "      <td>-0.032645</td>\n",
       "      <td>0.021234</td>\n",
       "    </tr>\n",
       "    <tr>\n",
       "      <th>Duration</th>\n",
       "      <td>-0.163077</td>\n",
       "      <td>0.159344</td>\n",
       "      <td>-0.254933</td>\n",
       "      <td>1.000000</td>\n",
       "      <td>0.736922</td>\n",
       "      <td>-0.165524</td>\n",
       "      <td>0.506371</td>\n",
       "      <td>-0.002450</td>\n",
       "      <td>-0.010339</td>\n",
       "      <td>0.291550</td>\n",
       "      <td>0.033531</td>\n",
       "      <td>-0.653939</td>\n",
       "      <td>-0.482102</td>\n",
       "      <td>-0.113809</td>\n",
       "      <td>0.050745</td>\n",
       "      <td>-0.070478</td>\n",
       "    </tr>\n",
       "    <tr>\n",
       "      <th>Total_Stops</th>\n",
       "      <td>-0.206339</td>\n",
       "      <td>0.191144</td>\n",
       "      <td>-0.294179</td>\n",
       "      <td>0.736922</td>\n",
       "      <td>1.000000</td>\n",
       "      <td>-0.073466</td>\n",
       "      <td>0.603897</td>\n",
       "      <td>-0.070698</td>\n",
       "      <td>-0.000137</td>\n",
       "      <td>0.431277</td>\n",
       "      <td>0.159726</td>\n",
       "      <td>-0.802624</td>\n",
       "      <td>-0.728879</td>\n",
       "      <td>-0.208133</td>\n",
       "      <td>0.037167</td>\n",
       "      <td>-0.108234</td>\n",
       "    </tr>\n",
       "    <tr>\n",
       "      <th>Additional_Info</th>\n",
       "      <td>-0.065529</td>\n",
       "      <td>-0.040045</td>\n",
       "      <td>0.053199</td>\n",
       "      <td>-0.165524</td>\n",
       "      <td>-0.073466</td>\n",
       "      <td>1.000000</td>\n",
       "      <td>-0.021576</td>\n",
       "      <td>-0.060747</td>\n",
       "      <td>-0.006170</td>\n",
       "      <td>-0.000256</td>\n",
       "      <td>0.083765</td>\n",
       "      <td>0.164743</td>\n",
       "      <td>-0.048320</td>\n",
       "      <td>-0.032293</td>\n",
       "      <td>0.024709</td>\n",
       "      <td>0.041807</td>\n",
       "    </tr>\n",
       "    <tr>\n",
       "      <th>Price</th>\n",
       "      <td>-0.039520</td>\n",
       "      <td>0.015998</td>\n",
       "      <td>-0.071112</td>\n",
       "      <td>0.506371</td>\n",
       "      <td>0.603897</td>\n",
       "      <td>-0.021576</td>\n",
       "      <td>1.000000</td>\n",
       "      <td>0.006819</td>\n",
       "      <td>-0.024492</td>\n",
       "      <td>0.182035</td>\n",
       "      <td>-0.087304</td>\n",
       "      <td>-0.592601</td>\n",
       "      <td>-0.316937</td>\n",
       "      <td>-0.055643</td>\n",
       "      <td>0.024264</td>\n",
       "      <td>-0.086155</td>\n",
       "    </tr>\n",
       "    <tr>\n",
       "      <th>Dep_Hour</th>\n",
       "      <td>-0.026127</td>\n",
       "      <td>0.058471</td>\n",
       "      <td>-0.068252</td>\n",
       "      <td>-0.002450</td>\n",
       "      <td>-0.070698</td>\n",
       "      <td>-0.060747</td>\n",
       "      <td>0.006819</td>\n",
       "      <td>1.000000</td>\n",
       "      <td>-0.026674</td>\n",
       "      <td>-0.053160</td>\n",
       "      <td>-0.131368</td>\n",
       "      <td>0.024214</td>\n",
       "      <td>0.052972</td>\n",
       "      <td>0.050172</td>\n",
       "      <td>0.004296</td>\n",
       "      <td>0.067645</td>\n",
       "    </tr>\n",
       "    <tr>\n",
       "      <th>Dep_Minute</th>\n",
       "      <td>-0.057826</td>\n",
       "      <td>-0.058563</td>\n",
       "      <td>0.133008</td>\n",
       "      <td>-0.010339</td>\n",
       "      <td>-0.000137</td>\n",
       "      <td>-0.006170</td>\n",
       "      <td>-0.024492</td>\n",
       "      <td>-0.026674</td>\n",
       "      <td>1.000000</td>\n",
       "      <td>-0.071529</td>\n",
       "      <td>0.091659</td>\n",
       "      <td>0.048903</td>\n",
       "      <td>-0.045230</td>\n",
       "      <td>0.003910</td>\n",
       "      <td>0.043967</td>\n",
       "      <td>-0.018133</td>\n",
       "    </tr>\n",
       "    <tr>\n",
       "      <th>Route_1</th>\n",
       "      <td>0.030980</td>\n",
       "      <td>0.439608</td>\n",
       "      <td>-0.491042</td>\n",
       "      <td>0.291550</td>\n",
       "      <td>0.431277</td>\n",
       "      <td>-0.000256</td>\n",
       "      <td>0.182035</td>\n",
       "      <td>-0.053160</td>\n",
       "      <td>-0.071529</td>\n",
       "      <td>1.000000</td>\n",
       "      <td>-0.080868</td>\n",
       "      <td>-0.480990</td>\n",
       "      <td>-0.197079</td>\n",
       "      <td>-0.015011</td>\n",
       "      <td>0.013354</td>\n",
       "      <td>-0.181473</td>\n",
       "    </tr>\n",
       "    <tr>\n",
       "      <th>Route_2</th>\n",
       "      <td>-0.065699</td>\n",
       "      <td>0.038506</td>\n",
       "      <td>0.078221</td>\n",
       "      <td>0.033531</td>\n",
       "      <td>0.159726</td>\n",
       "      <td>0.083765</td>\n",
       "      <td>-0.087304</td>\n",
       "      <td>-0.131368</td>\n",
       "      <td>0.091659</td>\n",
       "      <td>-0.080868</td>\n",
       "      <td>1.000000</td>\n",
       "      <td>0.000453</td>\n",
       "      <td>-0.262462</td>\n",
       "      <td>-0.088566</td>\n",
       "      <td>-0.007882</td>\n",
       "      <td>0.049110</td>\n",
       "    </tr>\n",
       "    <tr>\n",
       "      <th>Route_3</th>\n",
       "      <td>0.064746</td>\n",
       "      <td>-0.267371</td>\n",
       "      <td>0.407222</td>\n",
       "      <td>-0.653939</td>\n",
       "      <td>-0.802624</td>\n",
       "      <td>0.164743</td>\n",
       "      <td>-0.592601</td>\n",
       "      <td>0.024214</td>\n",
       "      <td>0.048903</td>\n",
       "      <td>-0.480990</td>\n",
       "      <td>0.000453</td>\n",
       "      <td>1.000000</td>\n",
       "      <td>0.242014</td>\n",
       "      <td>-0.012799</td>\n",
       "      <td>-0.083052</td>\n",
       "      <td>0.163929</td>\n",
       "    </tr>\n",
       "    <tr>\n",
       "      <th>Route_4</th>\n",
       "      <td>0.269561</td>\n",
       "      <td>-0.076944</td>\n",
       "      <td>0.132684</td>\n",
       "      <td>-0.482102</td>\n",
       "      <td>-0.728879</td>\n",
       "      <td>-0.048320</td>\n",
       "      <td>-0.316937</td>\n",
       "      <td>0.052972</td>\n",
       "      <td>-0.045230</td>\n",
       "      <td>-0.197079</td>\n",
       "      <td>-0.262462</td>\n",
       "      <td>0.242014</td>\n",
       "      <td>1.000000</td>\n",
       "      <td>0.131073</td>\n",
       "      <td>0.050719</td>\n",
       "      <td>-0.022289</td>\n",
       "    </tr>\n",
       "    <tr>\n",
       "      <th>Route_5</th>\n",
       "      <td>0.057245</td>\n",
       "      <td>-0.009894</td>\n",
       "      <td>0.011958</td>\n",
       "      <td>-0.113809</td>\n",
       "      <td>-0.208133</td>\n",
       "      <td>-0.032293</td>\n",
       "      <td>-0.055643</td>\n",
       "      <td>0.050172</td>\n",
       "      <td>0.003910</td>\n",
       "      <td>-0.015011</td>\n",
       "      <td>-0.088566</td>\n",
       "      <td>-0.012799</td>\n",
       "      <td>0.131073</td>\n",
       "      <td>1.000000</td>\n",
       "      <td>-0.021275</td>\n",
       "      <td>0.008619</td>\n",
       "    </tr>\n",
       "    <tr>\n",
       "      <th>Arrival_Hour</th>\n",
       "      <td>-0.007831</td>\n",
       "      <td>0.020766</td>\n",
       "      <td>-0.032645</td>\n",
       "      <td>0.050745</td>\n",
       "      <td>0.037167</td>\n",
       "      <td>0.024709</td>\n",
       "      <td>0.024264</td>\n",
       "      <td>0.004296</td>\n",
       "      <td>0.043967</td>\n",
       "      <td>0.013354</td>\n",
       "      <td>-0.007882</td>\n",
       "      <td>-0.083052</td>\n",
       "      <td>0.050719</td>\n",
       "      <td>-0.021275</td>\n",
       "      <td>1.000000</td>\n",
       "      <td>-0.150636</td>\n",
       "    </tr>\n",
       "    <tr>\n",
       "      <th>Arrival_Minute</th>\n",
       "      <td>-0.074001</td>\n",
       "      <td>0.015057</td>\n",
       "      <td>0.021234</td>\n",
       "      <td>-0.070478</td>\n",
       "      <td>-0.108234</td>\n",
       "      <td>0.041807</td>\n",
       "      <td>-0.086155</td>\n",
       "      <td>0.067645</td>\n",
       "      <td>-0.018133</td>\n",
       "      <td>-0.181473</td>\n",
       "      <td>0.049110</td>\n",
       "      <td>0.163929</td>\n",
       "      <td>-0.022289</td>\n",
       "      <td>0.008619</td>\n",
       "      <td>-0.150636</td>\n",
       "      <td>1.000000</td>\n",
       "    </tr>\n",
       "  </tbody>\n",
       "</table>\n",
       "</div>"
      ],
      "text/plain": [
       "                  Airline    Source  Destination  Duration  Total_Stops  \\\n",
       "Airline          1.000000 -0.018547     0.022130 -0.163077    -0.206339   \n",
       "Source          -0.018547  1.000000    -0.589710  0.159344     0.191144   \n",
       "Destination      0.022130 -0.589710     1.000000 -0.254933    -0.294179   \n",
       "Duration        -0.163077  0.159344    -0.254933  1.000000     0.736922   \n",
       "Total_Stops     -0.206339  0.191144    -0.294179  0.736922     1.000000   \n",
       "Additional_Info -0.065529 -0.040045     0.053199 -0.165524    -0.073466   \n",
       "Price           -0.039520  0.015998    -0.071112  0.506371     0.603897   \n",
       "Dep_Hour        -0.026127  0.058471    -0.068252 -0.002450    -0.070698   \n",
       "Dep_Minute      -0.057826 -0.058563     0.133008 -0.010339    -0.000137   \n",
       "Route_1          0.030980  0.439608    -0.491042  0.291550     0.431277   \n",
       "Route_2         -0.065699  0.038506     0.078221  0.033531     0.159726   \n",
       "Route_3          0.064746 -0.267371     0.407222 -0.653939    -0.802624   \n",
       "Route_4          0.269561 -0.076944     0.132684 -0.482102    -0.728879   \n",
       "Route_5          0.057245 -0.009894     0.011958 -0.113809    -0.208133   \n",
       "Arrival_Hour    -0.007831  0.020766    -0.032645  0.050745     0.037167   \n",
       "Arrival_Minute  -0.074001  0.015057     0.021234 -0.070478    -0.108234   \n",
       "\n",
       "                 Additional_Info     Price  Dep_Hour  Dep_Minute   Route_1  \\\n",
       "Airline                -0.065529 -0.039520 -0.026127   -0.057826  0.030980   \n",
       "Source                 -0.040045  0.015998  0.058471   -0.058563  0.439608   \n",
       "Destination             0.053199 -0.071112 -0.068252    0.133008 -0.491042   \n",
       "Duration               -0.165524  0.506371 -0.002450   -0.010339  0.291550   \n",
       "Total_Stops            -0.073466  0.603897 -0.070698   -0.000137  0.431277   \n",
       "Additional_Info         1.000000 -0.021576 -0.060747   -0.006170 -0.000256   \n",
       "Price                  -0.021576  1.000000  0.006819   -0.024492  0.182035   \n",
       "Dep_Hour               -0.060747  0.006819  1.000000   -0.026674 -0.053160   \n",
       "Dep_Minute             -0.006170 -0.024492 -0.026674    1.000000 -0.071529   \n",
       "Route_1                -0.000256  0.182035 -0.053160   -0.071529  1.000000   \n",
       "Route_2                 0.083765 -0.087304 -0.131368    0.091659 -0.080868   \n",
       "Route_3                 0.164743 -0.592601  0.024214    0.048903 -0.480990   \n",
       "Route_4                -0.048320 -0.316937  0.052972   -0.045230 -0.197079   \n",
       "Route_5                -0.032293 -0.055643  0.050172    0.003910 -0.015011   \n",
       "Arrival_Hour            0.024709  0.024264  0.004296    0.043967  0.013354   \n",
       "Arrival_Minute          0.041807 -0.086155  0.067645   -0.018133 -0.181473   \n",
       "\n",
       "                  Route_2   Route_3   Route_4   Route_5  Arrival_Hour  \\\n",
       "Airline         -0.065699  0.064746  0.269561  0.057245     -0.007831   \n",
       "Source           0.038506 -0.267371 -0.076944 -0.009894      0.020766   \n",
       "Destination      0.078221  0.407222  0.132684  0.011958     -0.032645   \n",
       "Duration         0.033531 -0.653939 -0.482102 -0.113809      0.050745   \n",
       "Total_Stops      0.159726 -0.802624 -0.728879 -0.208133      0.037167   \n",
       "Additional_Info  0.083765  0.164743 -0.048320 -0.032293      0.024709   \n",
       "Price           -0.087304 -0.592601 -0.316937 -0.055643      0.024264   \n",
       "Dep_Hour        -0.131368  0.024214  0.052972  0.050172      0.004296   \n",
       "Dep_Minute       0.091659  0.048903 -0.045230  0.003910      0.043967   \n",
       "Route_1         -0.080868 -0.480990 -0.197079 -0.015011      0.013354   \n",
       "Route_2          1.000000  0.000453 -0.262462 -0.088566     -0.007882   \n",
       "Route_3          0.000453  1.000000  0.242014 -0.012799     -0.083052   \n",
       "Route_4         -0.262462  0.242014  1.000000  0.131073      0.050719   \n",
       "Route_5         -0.088566 -0.012799  0.131073  1.000000     -0.021275   \n",
       "Arrival_Hour    -0.007882 -0.083052  0.050719 -0.021275      1.000000   \n",
       "Arrival_Minute   0.049110  0.163929 -0.022289  0.008619     -0.150636   \n",
       "\n",
       "                 Arrival_Minute  \n",
       "Airline               -0.074001  \n",
       "Source                 0.015057  \n",
       "Destination            0.021234  \n",
       "Duration              -0.070478  \n",
       "Total_Stops           -0.108234  \n",
       "Additional_Info        0.041807  \n",
       "Price                 -0.086155  \n",
       "Dep_Hour               0.067645  \n",
       "Dep_Minute            -0.018133  \n",
       "Route_1               -0.181473  \n",
       "Route_2                0.049110  \n",
       "Route_3                0.163929  \n",
       "Route_4               -0.022289  \n",
       "Route_5                0.008619  \n",
       "Arrival_Hour          -0.150636  \n",
       "Arrival_Minute         1.000000  "
      ]
     },
     "execution_count": 58,
     "metadata": {},
     "output_type": "execute_result"
    }
   ],
   "source": [
    "cor"
   ]
  },
  {
   "cell_type": "code",
   "execution_count": 59,
   "metadata": {},
   "outputs": [
    {
     "data": {
      "text/plain": [
       "<AxesSubplot:>"
      ]
     },
     "execution_count": 59,
     "metadata": {},
     "output_type": "execute_result"
    },
    {
     "data": {
      "image/png": "[encoded data removed]",
      "text/plain": [
       "<Figure size 720x864 with 2 Axes>"
      ]
     },
     "metadata": {
      "needs_background": "light"
     },
     "output_type": "display_data"
    }
   ],
   "source": [
    "plt.figure(figsize=(10,12))\n",
    "sn.heatmap(cor,annot=True,linewidth=3,linecolor='blue')"
   ]
  },
  {
   "cell_type": "code",
   "execution_count": 60,
   "metadata": {},
   "outputs": [],
   "source": [
    "# price is highly corelated with duration and total stops"
   ]
  },
  {
   "cell_type": "code",
   "execution_count": 61,
   "metadata": {},
   "outputs": [],
   "source": [
    "df['Price']=df['Price'].fillna(0)"
   ]
  },
  {
   "cell_type": "code",
   "execution_count": 62,
   "metadata": {},
   "outputs": [
    {
     "data": {
      "text/plain": [
       "Airline             0.720924\n",
       "Source             -0.424151\n",
       "Destination         1.247893\n",
       "Duration            0.867883\n",
       "Total_Stops         0.317844\n",
       "Additional_Info    -1.573350\n",
       "Price               0.980320\n",
       "Date                0.135142\n",
       "Month              -0.390684\n",
       "Year                0.000000\n",
       "Dep_Hour            0.109087\n",
       "Dep_Minute          0.159397\n",
       "Route_1            -0.618133\n",
       "Route_2             1.426787\n",
       "Route_3             0.636124\n",
       "Route_4            -2.084009\n",
       "Route_5           -15.985555\n",
       "Arrival_Hour       -0.384591\n",
       "Arrival_Minute      0.111711\n",
       "dtype: float64"
      ]
     },
     "execution_count": 62,
     "metadata": {},
     "output_type": "execute_result"
    }
   ],
   "source": [
    "df.skew()"
   ]
  },
  {
   "cell_type": "code",
   "execution_count": 81,
   "metadata": {},
   "outputs": [],
   "source": [
    "# to correct nan,infinity values\n",
    "\n",
    "df=df[~df.isin([np.nan,np.inf,-np.inf]).any(1)]"
   ]
  },
  {
   "cell_type": "code",
   "execution_count": 82,
   "metadata": {},
   "outputs": [],
   "source": [
    "# to standardise the data using standard scaler\n",
    "from sklearn.preprocessing import StandardScaler\n",
    "scaler=StandardScaler()\n",
    "scaled_df=scaler.fit_transform(df.drop('Price',axis=1))\n",
    "x=scaled_df\n",
    "y=df['Price']"
   ]
  },
  {
   "cell_type": "code",
   "execution_count": 83,
   "metadata": {},
   "outputs": [
    {
     "data": {
      "text/plain": [
       "array([[-0.41343816, -1.65796742,  2.41930713, ...,  0.06432745,\n",
       "        -1.79760986, -0.88552935],\n",
       "       [-1.25951323,  0.88740938, -0.97428996, ...,  0.06432745,\n",
       "        -0.05748086, -0.58359193],\n",
       "       [ 0.00959937,  0.03895045, -0.29557054, ...,  0.06432745,\n",
       "        -1.36257761,  0.02028292],\n",
       "       ...,\n",
       "       [ 0.00959937,  0.03895045, -0.29557054, ...,  0.06432745,\n",
       "        -1.36257761,  0.02028292],\n",
       "       [-1.25951323,  0.03895045, -0.29557054, ...,  0.06432745,\n",
       "         0.81258364, -0.58359193],\n",
       "       [ 0.85567443,  0.03895045, -0.29557054, ...,  0.06432745,\n",
       "         0.81258364, -0.58359193]])"
      ]
     },
     "execution_count": 83,
     "metadata": {},
     "output_type": "execute_result"
    }
   ],
   "source": [
    "x"
   ]
  },
  {
   "cell_type": "code",
   "execution_count": 84,
   "metadata": {},
   "outputs": [
    {
     "data": {
      "text/plain": [
       "0        3897.0\n",
       "1        7662.0\n",
       "2       13882.0\n",
       "3        6218.0\n",
       "4       13302.0\n",
       "         ...   \n",
       "2666        0.0\n",
       "2667        0.0\n",
       "2668        0.0\n",
       "2669        0.0\n",
       "2670        0.0\n",
       "Name: Price, Length: 13353, dtype: float64"
      ]
     },
     "execution_count": 84,
     "metadata": {},
     "output_type": "execute_result"
    }
   ],
   "source": [
    "y"
   ]
  },
  {
   "cell_type": "code",
   "execution_count": 86,
   "metadata": {},
   "outputs": [],
   "source": [
    "from sklearn.model_selection import train_test_split\n",
    "from sklearn.metrics import accuracy_score\n",
    "from sklearn.model_selection import cross_val_score\n",
    "from sklearn.ensemble import AdaBoostRegressor"
   ]
  },
  {
   "cell_type": "code",
   "execution_count": 98,
   "metadata": {},
   "outputs": [],
   "source": [
    "x_train,x_test,y_train,y_test=train_test_split(x,y,test_size=0.30,random_state=42)"
   ]
  },
  {
   "cell_type": "code",
   "execution_count": 99,
   "metadata": {},
   "outputs": [
    {
     "data": {
      "text/plain": [
       "((9347, 18), (4006, 18), (9347,), (4006,))"
      ]
     },
     "execution_count": 99,
     "metadata": {},
     "output_type": "execute_result"
    }
   ],
   "source": [
    "x_train.shape,x_test.shape,y_train.shape,y_test.shape"
   ]
  },
  {
   "cell_type": "code",
   "execution_count": 100,
   "metadata": {},
   "outputs": [
    {
     "name": "stdout",
     "output_type": "stream",
     "text": [
      "size of training set:(7510, 18),size of validation set:(2504, 18),size of test set:(3339, 18)\n",
      "\n"
     ]
    }
   ],
   "source": [
    "x_train,x_test,y_train,y_test=train_test_split(x,y,random_state=0)\n",
    "x_train,x_valid,y_train,y_valid=train_test_split(x_train,y_train,random_state=1)\n",
    "print(\"size of training set:{},size of validation set:{},size of test set:\"\n",
    "      \"{}\\n\".format(x_train.shape,x_valid.shape,x_test.shape))"
   ]
  },
  {
   "cell_type": "code",
   "execution_count": 101,
   "metadata": {},
   "outputs": [],
   "source": [
    "from sklearn.linear_model import LinearRegression\n",
    "lr=LinearRegression()\n",
    "lr.fit(x_train,y_train)\n",
    "pred=lr.predict(x_test)"
   ]
  },
  {
   "cell_type": "code",
   "execution_count": 102,
   "metadata": {},
   "outputs": [
    {
     "name": "stdout",
     "output_type": "stream",
     "text": [
      "MAE: 3587.9233727864375\n",
      "MSE: 22917436.10382745\n",
      "RMSE: 4787.215903197542\n"
     ]
    }
   ],
   "source": [
    "from sklearn import metrics\n",
    "print('MAE:',metrics.mean_absolute_error(y_test,pred))\n",
    "print('MSE:',metrics.mean_squared_error(y_test,pred))\n",
    "print('RMSE:',np.sqrt(metrics.mean_squared_error(y_test,pred)))"
   ]
  },
  {
   "cell_type": "code",
   "execution_count": 103,
   "metadata": {},
   "outputs": [],
   "source": [
    "from sklearn.tree import DecisionTreeRegressor\n",
    "dtr=DecisionTreeRegressor()\n",
    "dtr.fit(x_train,y_train)\n",
    "pred=dtr.predict(x_test)"
   ]
  },
  {
   "cell_type": "code",
   "execution_count": 104,
   "metadata": {},
   "outputs": [
    {
     "name": "stdout",
     "output_type": "stream",
     "text": [
      "MAE: 3715.8135669362086\n",
      "MSE: 39385998.00771189\n",
      "RMSE: 6275.826480051204\n"
     ]
    }
   ],
   "source": [
    "print('MAE:',metrics.mean_absolute_error(y_test,pred))\n",
    "print('MSE:',metrics.mean_squared_error(y_test,pred))\n",
    "print('RMSE:',np.sqrt(metrics.mean_squared_error(y_test,pred)))"
   ]
  },
  {
   "cell_type": "code",
   "execution_count": 105,
   "metadata": {},
   "outputs": [],
   "source": [
    "from sklearn.ensemble import RandomForestRegressor\n",
    "rdr=RandomForestRegressor()\n",
    "rdr.fit(x_train,y_train)\n",
    "pred=rdr.predict(x_test)"
   ]
  },
  {
   "cell_type": "code",
   "execution_count": 106,
   "metadata": {},
   "outputs": [
    {
     "name": "stdout",
     "output_type": "stream",
     "text": [
      "MAE: 3247.8862444344613\n",
      "MSE: 23044410.777540702\n",
      "RMSE: 4800.459434006364\n"
     ]
    }
   ],
   "source": [
    "print('MAE:',metrics.mean_absolute_error(y_test,pred))\n",
    "print('MSE:',metrics.mean_squared_error(y_test,pred))\n",
    "print('RMSE:',np.sqrt(metrics.mean_squared_error(y_test,pred)))"
   ]
  },
  {
   "cell_type": "code",
   "execution_count": 107,
   "metadata": {},
   "outputs": [
    {
     "name": "stdout",
     "output_type": "stream",
     "text": [
      "{'criterion': 'mae', 'max_features': 'sqrt'}\n"
     ]
    }
   ],
   "source": [
    "from sklearn.model_selection import GridSearchCV\n",
    "from sklearn.ensemble import RandomForestRegressor\n",
    "parameters={'criterion':['mse','mae'],'max_features':[\"auto\",\"sqrt\",\"log2\"]}\n",
    "rdr=RandomForestRegressor()\n",
    "clf=GridSearchCV(rdr,parameters)\n",
    "clf.fit(x_train,y_train)\n",
    "print(clf.best_params_)"
   ]
  },
  {
   "cell_type": "code",
   "execution_count": 108,
   "metadata": {},
   "outputs": [
    {
     "name": "stdout",
     "output_type": "stream",
     "text": [
      "R2 Score: 24.778553545618955\n",
      "cross val score: 38.824930259089676\n"
     ]
    }
   ],
   "source": [
    "rdr=RandomForestRegressor(criterion='mae',max_features=\"sqrt\")\n",
    "rdr.fit(x_train,y_train)\n",
    "rdr.score(x_train,y_train)\n",
    "pred_decision=rdr.predict(x_test)\n",
    "rfs=r2_score(y_test,pred_decision)\n",
    "print('R2 Score:',rfs*100)\n",
    "rdrscore=cross_val_score(rdr,x,y,cv=5)\n",
    "rfc=rdrscore.mean()\n",
    "print('cross val score:',rfc*100)"
   ]
  },
  {
   "cell_type": "code",
   "execution_count": 131,
   "metadata": {},
   "outputs": [],
   "source": [
    "#Method-2"
   ]
  },
  {
   "cell_type": "code",
   "execution_count": 109,
   "metadata": {},
   "outputs": [],
   "source": [
    "x_train,x_test,y_train,y_test=train_test_split(x,y,test_size=0.30,random_state=30)"
   ]
  },
  {
   "cell_type": "code",
   "execution_count": 110,
   "metadata": {},
   "outputs": [],
   "source": [
    "lm=LinearRegression()"
   ]
  },
  {
   "cell_type": "code",
   "execution_count": 111,
   "metadata": {},
   "outputs": [
    {
     "data": {
      "text/plain": [
       "LinearRegression()"
      ]
     },
     "execution_count": 111,
     "metadata": {},
     "output_type": "execute_result"
    }
   ],
   "source": [
    "lm.fit(x_train,y_train)\n",
    "LinearRegression()"
   ]
  },
  {
   "cell_type": "code",
   "execution_count": 112,
   "metadata": {},
   "outputs": [
    {
     "data": {
      "text/plain": [
       "array([ 2.22547238e+02, -1.93154781e+02,  4.41992105e+02,  3.93609322e+02,\n",
       "        1.16139017e+03,  2.40268177e+02, -3.88129948e+02, -3.04431477e+02,\n",
       "       -3.97903932e-13,  9.78563144e+01, -8.57608137e+01, -2.92037970e+02,\n",
       "       -6.32485694e+02, -1.39543858e+03, -1.41363019e+02,  4.26228279e+01,\n",
       "       -1.33612072e+02, -1.76211110e+01])"
      ]
     },
     "execution_count": 112,
     "metadata": {},
     "output_type": "execute_result"
    }
   ],
   "source": [
    "lm.coef_"
   ]
  },
  {
   "cell_type": "code",
   "execution_count": 113,
   "metadata": {},
   "outputs": [
    {
     "data": {
      "text/plain": [
       "7240.559109989294"
      ]
     },
     "execution_count": 113,
     "metadata": {},
     "output_type": "execute_result"
    }
   ],
   "source": [
    "lm.intercept_"
   ]
  },
  {
   "cell_type": "code",
   "execution_count": 114,
   "metadata": {},
   "outputs": [
    {
     "name": "stdout",
     "output_type": "stream",
     "text": [
      "Flight Price: [7092.35598358 7399.33628006 3436.38204288 ... 8315.60650877 4567.07542691\n",
      " 8651.04187318]\n",
      "Price 309          0.0\n",
      "549      11096.0\n",
      "1631      7229.0\n",
      "6625      5224.0\n",
      "7256     15764.0\n",
      "          ...   \n",
      "5141     10178.0\n",
      "1611         0.0\n",
      "10203    10262.0\n",
      "559          0.0\n",
      "1031         0.0\n",
      "Name: Price, Length: 4006, dtype: float64\n"
     ]
    }
   ],
   "source": [
    "pred=lm.predict(x_test)\n",
    "print(\"Flight Price:\",pred)\n",
    "print(\"Price\",y_test)"
   ]
  },
  {
   "cell_type": "code",
   "execution_count": 115,
   "metadata": {},
   "outputs": [
    {
     "name": "stdout",
     "output_type": "stream",
     "text": [
      "error:\n",
      "mean absolute error: 3563.3060418012765\n",
      "mean squared error: 23856316.721714593\n",
      "root mean squared error: 4884.292857898121\n"
     ]
    }
   ],
   "source": [
    "print('error:')\n",
    "\n",
    "print('mean absolute error:',mean_absolute_error(y_test,pred))\n",
    "print('mean squared error:',mean_squared_error(y_test,pred))\n",
    "print('root mean squared error:',np.sqrt(mean_squared_error(y_test,pred)))"
   ]
  },
  {
   "cell_type": "code",
   "execution_count": 116,
   "metadata": {},
   "outputs": [],
   "source": [
    "from sklearn.metrics import r2_score"
   ]
  },
  {
   "cell_type": "code",
   "execution_count": 117,
   "metadata": {},
   "outputs": [
    {
     "name": "stdout",
     "output_type": "stream",
     "text": [
      "0.21180876690182193\n"
     ]
    }
   ],
   "source": [
    "print(r2_score(y_test,pred))"
   ]
  },
  {
   "cell_type": "code",
   "execution_count": 118,
   "metadata": {},
   "outputs": [
    {
     "name": "stdout",
     "output_type": "stream",
     "text": [
      "At random state 0,the training accuracy is:-0.21857076420277988\n",
      "At random state 0,the testing accuracy is:-0.20911279460560006\n",
      "\n",
      "\n",
      "At random state 1,the training accuracy is:-0.22170982597644007\n",
      "At random state 1,the testing accuracy is:-0.19592571338124842\n",
      "\n",
      "\n",
      "At random state 2,the training accuracy is:-0.21288676375929516\n",
      "At random state 2,the testing accuracy is:-0.2314351903616455\n",
      "\n",
      "\n",
      "At random state 3,the training accuracy is:-0.21396127562496248\n",
      "At random state 3,the testing accuracy is:-0.22904707730708673\n",
      "\n",
      "\n",
      "At random state 4,the training accuracy is:-0.21588349359462067\n",
      "At random state 4,the testing accuracy is:-0.22127297427813764\n",
      "\n",
      "\n",
      "At random state 5,the training accuracy is:-0.22515540389592548\n",
      "At random state 5,the testing accuracy is:-0.1881662864581236\n",
      "\n",
      "\n",
      "At random state 6,the training accuracy is:-0.22107392864709574\n",
      "At random state 6,the testing accuracy is:-0.200328154713854\n",
      "\n",
      "\n",
      "At random state 7,the training accuracy is:-0.21542780720858523\n",
      "At random state 7,the testing accuracy is:-0.22175576391663887\n",
      "\n",
      "\n",
      "At random state 8,the training accuracy is:-0.21947125825186264\n",
      "At random state 8,the testing accuracy is:-0.20678650938056897\n",
      "\n",
      "\n",
      "At random state 9,the training accuracy is:-0.21877796683206552\n",
      "At random state 9,the testing accuracy is:-0.20834252385568042\n",
      "\n",
      "\n",
      "At random state 10,the training accuracy is:-0.21757164502638104\n",
      "At random state 10,the testing accuracy is:-0.21411758929487468\n",
      "\n",
      "\n",
      "At random state 11,the training accuracy is:-0.21413731166723082\n",
      "At random state 11,the testing accuracy is:-0.22416312189542875\n",
      "\n",
      "\n",
      "At random state 12,the training accuracy is:-0.21627260080959032\n",
      "At random state 12,the testing accuracy is:-0.2193466007839353\n",
      "\n",
      "\n",
      "At random state 13,the training accuracy is:-0.20972893922055447\n",
      "At random state 13,the testing accuracy is:-0.2445764214853804\n",
      "\n",
      "\n",
      "At random state 14,the training accuracy is:-0.21447211287489043\n",
      "At random state 14,the testing accuracy is:-0.22725335566674398\n",
      "\n",
      "\n",
      "At random state 15,the training accuracy is:-0.22131362941937738\n",
      "At random state 15,the testing accuracy is:-0.1988211732211329\n",
      "\n",
      "\n",
      "At random state 16,the training accuracy is:-0.21662805891489434\n",
      "At random state 16,the testing accuracy is:-0.21709401565818953\n",
      "\n",
      "\n",
      "At random state 17,the training accuracy is:-0.2178835452440161\n",
      "At random state 17,the testing accuracy is:-0.21264181556541795\n",
      "\n",
      "\n",
      "At random state 18,the training accuracy is:-0.21634339445051431\n",
      "At random state 18,the testing accuracy is:-0.2190139032343238\n",
      "\n",
      "\n",
      "At random state 19,the training accuracy is:-0.2192680141711396\n",
      "At random state 19,the testing accuracy is:-0.2076317975626767\n",
      "\n",
      "\n",
      "At random state 20,the training accuracy is:-0.21819066676766075\n",
      "At random state 20,the testing accuracy is:-0.21194124590766605\n",
      "\n",
      "\n",
      "At random state 21,the training accuracy is:-0.2195129047350204\n",
      "At random state 21,the testing accuracy is:-0.20546684095799939\n",
      "\n",
      "\n",
      "At random state 22,the training accuracy is:-0.21567652894264344\n",
      "At random state 22,the testing accuracy is:-0.22201693475797457\n",
      "\n",
      "\n",
      "At random state 23,the training accuracy is:-0.21756511442132775\n",
      "At random state 23,the testing accuracy is:-0.21468224402986014\n",
      "\n",
      "\n",
      "At random state 24,the training accuracy is:-0.2156663229713398\n",
      "At random state 24,the testing accuracy is:-0.22157252317075116\n",
      "\n",
      "\n",
      "At random state 25,the training accuracy is:-0.2115237601582124\n",
      "At random state 25,the testing accuracy is:-0.23777955885590207\n",
      "\n",
      "\n",
      "At random state 26,the training accuracy is:-0.2113364776770671\n",
      "At random state 26,the testing accuracy is:-0.24002635442757192\n",
      "\n",
      "\n",
      "At random state 27,the training accuracy is:-0.22050422389491553\n",
      "At random state 27,the testing accuracy is:-0.20258051890943407\n",
      "\n",
      "\n",
      "At random state 28,the training accuracy is:-0.22194916541754117\n",
      "At random state 28,the testing accuracy is:-0.19544562747855376\n",
      "\n",
      "\n",
      "At random state 29,the training accuracy is:-0.2107498454748885\n",
      "At random state 29,the testing accuracy is:-0.2381939411670766\n",
      "\n",
      "\n",
      "At random state 30,the training accuracy is:-0.21865675062139156\n",
      "At random state 30,the testing accuracy is:-0.20977530304656145\n",
      "\n",
      "\n",
      "At random state 31,the training accuracy is:-0.21632171409659684\n",
      "At random state 31,the testing accuracy is:-0.2193868138844508\n",
      "\n",
      "\n",
      "At random state 32,the training accuracy is:-0.2173242454687887\n",
      "At random state 32,the testing accuracy is:-0.21458414320671904\n",
      "\n",
      "\n",
      "At random state 33,the training accuracy is:-0.2195566153709062\n",
      "At random state 33,the testing accuracy is:-0.20603126170150965\n",
      "\n",
      "\n",
      "At random state 34,the training accuracy is:-0.21614564337772235\n",
      "At random state 34,the testing accuracy is:-0.21934802672259468\n",
      "\n",
      "\n",
      "At random state 35,the training accuracy is:-0.21419673083825053\n",
      "At random state 35,the testing accuracy is:-0.22719935987190065\n",
      "\n",
      "\n",
      "At random state 36,the training accuracy is:-0.21495138106666345\n",
      "At random state 36,the testing accuracy is:-0.22479901598333052\n",
      "\n",
      "\n",
      "At random state 37,the training accuracy is:-0.22208283020768338\n",
      "At random state 37,the testing accuracy is:-0.19306265250070953\n",
      "\n",
      "\n",
      "At random state 38,the training accuracy is:-0.21531507524985793\n",
      "At random state 38,the testing accuracy is:-0.22273504969131075\n",
      "\n",
      "\n",
      "At random state 39,the training accuracy is:-0.21784557390232862\n",
      "At random state 39,the testing accuracy is:-0.21239698654747052\n",
      "\n",
      "\n",
      "At random state 40,the training accuracy is:-0.21793120143699696\n",
      "At random state 40,the testing accuracy is:-0.21262658081454078\n",
      "\n",
      "\n",
      "At random state 41,the training accuracy is:-0.22085227810747787\n",
      "At random state 41,the testing accuracy is:-0.20214965662480355\n",
      "\n",
      "\n",
      "At random state 42,the training accuracy is:-0.22034412422269656\n",
      "At random state 42,the testing accuracy is:-0.2044963442341684\n",
      "\n",
      "\n",
      "At random state 43,the training accuracy is:-0.21986179385638815\n",
      "At random state 43,the testing accuracy is:-0.205956382346134\n",
      "\n",
      "\n",
      "At random state 44,the training accuracy is:-0.2203393313385703\n",
      "At random state 44,the testing accuracy is:-0.20152510107205668\n",
      "\n",
      "\n",
      "At random state 45,the training accuracy is:-0.21830812249038745\n",
      "At random state 45,the testing accuracy is:-0.21024559855167957\n",
      "\n",
      "\n",
      "At random state 46,the training accuracy is:-0.21816054427218612\n",
      "At random state 46,the testing accuracy is:-0.2117485206647175\n",
      "\n",
      "\n",
      "At random state 47,the training accuracy is:-0.21472502048573994\n",
      "At random state 47,the testing accuracy is:-0.22467288976250332\n",
      "\n",
      "\n",
      "At random state 48,the training accuracy is:-0.2222775950767939\n",
      "At random state 48,the testing accuracy is:-0.19450812884491064\n",
      "\n",
      "\n",
      "At random state 49,the training accuracy is:-0.21871059394996206\n",
      "At random state 49,the testing accuracy is:-0.2095088692780438\n",
      "\n",
      "\n",
      "At random state 50,the training accuracy is:-0.2145350812564656\n",
      "At random state 50,the testing accuracy is:-0.22658491900644928\n",
      "\n",
      "\n",
      "At random state 51,the training accuracy is:-0.21704285199709406\n",
      "At random state 51,the testing accuracy is:-0.2165531286938882\n",
      "\n",
      "\n",
      "At random state 52,the training accuracy is:-0.2195660521470959\n",
      "At random state 52,the testing accuracy is:-0.20406506864040797\n",
      "\n",
      "\n",
      "At random state 53,the training accuracy is:-0.21807697973628115\n",
      "At random state 53,the testing accuracy is:-0.2125325550563596\n",
      "\n",
      "\n",
      "At random state 54,the training accuracy is:-0.20927388609025366\n",
      "At random state 54,the testing accuracy is:-0.24394104428613028\n",
      "\n",
      "\n",
      "At random state 55,the training accuracy is:-0.2125574641867196\n",
      "At random state 55,the testing accuracy is:-0.23212645590634284\n",
      "\n",
      "\n",
      "At random state 56,the training accuracy is:-0.21862737244932484\n",
      "At random state 56,the testing accuracy is:-0.20861217690148615\n",
      "\n",
      "\n",
      "At random state 57,the training accuracy is:-0.21742627759517508\n",
      "At random state 57,the testing accuracy is:-0.2144664276700291\n",
      "\n",
      "\n",
      "At random state 58,the training accuracy is:-0.21561903078779843\n",
      "At random state 58,the testing accuracy is:-0.2212279780951535\n",
      "\n",
      "\n",
      "At random state 59,the training accuracy is:-0.20952654740921128\n",
      "At random state 59,the testing accuracy is:-0.24582839306628512\n",
      "\n",
      "\n",
      "At random state 60,the training accuracy is:-0.21992476389504323\n",
      "At random state 60,the testing accuracy is:-0.2060078979206219\n",
      "\n",
      "\n",
      "At random state 61,the training accuracy is:-0.21952863366213704\n",
      "At random state 61,the testing accuracy is:-0.20533082330098995\n",
      "\n",
      "\n",
      "At random state 62,the training accuracy is:-0.2153472646279756\n",
      "At random state 62,the testing accuracy is:-0.22337437324559484\n",
      "\n",
      "\n",
      "At random state 63,the training accuracy is:-0.21283294133886865\n",
      "At random state 63,the testing accuracy is:-0.23284685539114036\n",
      "\n",
      "\n",
      "At random state 64,the training accuracy is:-0.21714071427358672\n",
      "At random state 64,the testing accuracy is:-0.21540522467317358\n",
      "\n",
      "\n",
      "At random state 65,the training accuracy is:-0.22201386101779086\n",
      "At random state 65,the testing accuracy is:-0.19419941220462977\n",
      "\n",
      "\n",
      "At random state 66,the training accuracy is:-0.2142419637433901\n",
      "At random state 66,the testing accuracy is:-0.22875847418746953\n",
      "\n",
      "\n",
      "At random state 67,the training accuracy is:-0.21741355226037284\n",
      "At random state 67,the testing accuracy is:-0.21418490847441596\n",
      "\n",
      "\n",
      "At random state 68,the training accuracy is:-0.2120759849665944\n",
      "At random state 68,the testing accuracy is:-0.23616010077515237\n",
      "\n",
      "\n",
      "At random state 69,the training accuracy is:-0.2155694335017162\n",
      "At random state 69,the testing accuracy is:-0.22255305025247218\n",
      "\n",
      "\n",
      "At random state 70,the training accuracy is:-0.2162183978379445\n",
      "At random state 70,the testing accuracy is:-0.22009614417719203\n",
      "\n",
      "\n",
      "At random state 71,the training accuracy is:-0.21116053173688631\n",
      "At random state 71,the testing accuracy is:-0.23930441990915274\n",
      "\n",
      "\n",
      "At random state 72,the training accuracy is:-0.2213707718096085\n",
      "At random state 72,the testing accuracy is:-0.1987376742814707\n",
      "\n",
      "\n",
      "At random state 73,the training accuracy is:-0.209089817950038\n",
      "At random state 73,the testing accuracy is:-0.24653661334617993\n",
      "\n",
      "\n",
      "At random state 74,the training accuracy is:-0.2176013952493322\n",
      "At random state 74,the testing accuracy is:-0.21348900979465057\n",
      "\n",
      "\n",
      "At random state 75,the training accuracy is:-0.22123462826490803\n",
      "At random state 75,the testing accuracy is:-0.19835589688774302\n",
      "\n",
      "\n",
      "At random state 76,the training accuracy is:-0.21552393793783187\n",
      "At random state 76,the testing accuracy is:-0.2229722900346658\n",
      "\n",
      "\n",
      "At random state 77,the training accuracy is:-0.21476451124825868\n",
      "At random state 77,the testing accuracy is:-0.224614088908624\n",
      "\n",
      "\n",
      "At random state 78,the training accuracy is:-0.2103548577577431\n",
      "At random state 78,the testing accuracy is:-0.24487150244842704\n",
      "\n",
      "\n",
      "At random state 79,the training accuracy is:-0.2140386739457446\n",
      "At random state 79,the testing accuracy is:-0.229175598489877\n",
      "\n",
      "\n",
      "At random state 80,the training accuracy is:-0.21798507986696425\n",
      "At random state 80,the testing accuracy is:-0.21290711501864956\n",
      "\n",
      "\n",
      "At random state 81,the training accuracy is:-0.2125799387794377\n",
      "At random state 81,the testing accuracy is:-0.23302993227497304\n",
      "\n",
      "\n",
      "At random state 82,the training accuracy is:-0.21166193047995974\n",
      "At random state 82,the testing accuracy is:-0.2376428311992439\n",
      "\n",
      "\n",
      "At random state 83,the training accuracy is:-0.21768836649993417\n",
      "At random state 83,the testing accuracy is:-0.21344296453829747\n",
      "\n",
      "\n",
      "At random state 84,the training accuracy is:-0.21614843089254643\n",
      "At random state 84,the testing accuracy is:-0.21847707255177362\n",
      "\n",
      "\n",
      "At random state 85,the training accuracy is:-0.21683812838483374\n",
      "At random state 85,the testing accuracy is:-0.21749980495721066\n",
      "\n",
      "\n",
      "At random state 86,the training accuracy is:-0.21621209330444546\n",
      "At random state 86,the testing accuracy is:-0.21796217758316294\n",
      "\n",
      "\n",
      "At random state 87,the training accuracy is:-0.2185276820250952\n",
      "At random state 87,the testing accuracy is:-0.20995815273146845\n",
      "\n",
      "\n",
      "At random state 88,the training accuracy is:-0.21933613512077033\n",
      "At random state 88,the testing accuracy is:-0.20615867463271398\n",
      "\n",
      "\n",
      "At random state 89,the training accuracy is:-0.2137506753812517\n",
      "At random state 89,the testing accuracy is:-0.22924541875912496\n",
      "\n",
      "\n",
      "At random state 90,the training accuracy is:-0.21298069474772596\n",
      "At random state 90,the testing accuracy is:-0.23286236219345247\n",
      "\n",
      "\n",
      "At random state 91,the training accuracy is:-0.21932735872309572\n",
      "At random state 91,the testing accuracy is:-0.20765534798631902\n",
      "\n",
      "\n",
      "At random state 92,the training accuracy is:-0.21709720410198174\n",
      "At random state 92,the testing accuracy is:-0.2159256878367395\n",
      "\n",
      "\n",
      "At random state 93,the training accuracy is:-0.2158536511638116\n",
      "At random state 93,the testing accuracy is:-0.22074549616544026\n",
      "\n",
      "\n",
      "At random state 94,the training accuracy is:-0.22113702375504773\n",
      "At random state 94,the testing accuracy is:-0.1974214629485005\n",
      "\n",
      "\n",
      "At random state 95,the training accuracy is:-0.21693623740687706\n",
      "At random state 95,the testing accuracy is:-0.21615472039807115\n",
      "\n",
      "\n",
      "At random state 96,the training accuracy is:-0.21534537922209507\n",
      "At random state 96,the testing accuracy is:-0.22233866732076646\n",
      "\n",
      "\n",
      "At random state 97,the training accuracy is:-0.21947921762413702\n",
      "At random state 97,the testing accuracy is:-0.20715107645335995\n",
      "\n",
      "\n",
      "At random state 98,the training accuracy is:-0.21752365115779893\n",
      "At random state 98,the testing accuracy is:-0.21454341797801235\n",
      "\n",
      "\n",
      "At random state 99,the training accuracy is:-0.22029274392373943\n",
      "At random state 99,the testing accuracy is:-0.20171364263423763\n",
      "\n",
      "\n"
     ]
    }
   ],
   "source": [
    "for i in range(0,100):\n",
    "    x_train,x_test,y_train,y_test=train_test_split(x,y,test_size=0.2,random_state=i)\n",
    "    lm.fit(x_train,y_train)\n",
    "    pred_train=lm.predict(x_train)\n",
    "    pred_test=lm.predict(x_test)\n",
    "    print(f\"At random state {i},the training accuracy is:-{r2_score(y_train,pred_train)}\")\n",
    "    print(f\"At random state {i},the testing accuracy is:-{r2_score(y_test,pred_test)}\")\n",
    "    print(\"\\n\")"
   ]
  },
  {
   "cell_type": "code",
   "execution_count": 119,
   "metadata": {},
   "outputs": [],
   "source": [
    "x_train,x_test,y_train,y_test=train_test_split(x,y,test_size=0.30,random_state=54)"
   ]
  },
  {
   "cell_type": "code",
   "execution_count": 120,
   "metadata": {},
   "outputs": [
    {
     "data": {
      "text/plain": [
       "LinearRegression()"
      ]
     },
     "execution_count": 120,
     "metadata": {},
     "output_type": "execute_result"
    }
   ],
   "source": [
    "lm.fit(x_train,y_train)"
   ]
  },
  {
   "cell_type": "code",
   "execution_count": 121,
   "metadata": {},
   "outputs": [],
   "source": [
    "pred_test=lm.predict(x_test)"
   ]
  },
  {
   "cell_type": "code",
   "execution_count": 122,
   "metadata": {},
   "outputs": [
    {
     "name": "stdout",
     "output_type": "stream",
     "text": [
      "0.22546150505989038\n"
     ]
    }
   ],
   "source": [
    "print(r2_score(y_test,pred_test))"
   ]
  },
  {
   "cell_type": "code",
   "execution_count": 123,
   "metadata": {},
   "outputs": [],
   "source": [
    "from sklearn.linear_model import Lasso,Ridge"
   ]
  },
  {
   "cell_type": "code",
   "execution_count": 142,
   "metadata": {},
   "outputs": [
    {
     "data": {
      "text/plain": [
       "0.21228780085608534"
      ]
     },
     "execution_count": 142,
     "metadata": {},
     "output_type": "execute_result"
    }
   ],
   "source": [
    "ls=Lasso(alpha=0.001)\n",
    "ls.fit(x_train,y_train)\n",
    "ls.score(x_train,y_train)"
   ]
  },
  {
   "cell_type": "code",
   "execution_count": 124,
   "metadata": {},
   "outputs": [
    {
     "data": {
      "text/plain": [
       "0.2122878008577226"
      ]
     },
     "execution_count": 124,
     "metadata": {},
     "output_type": "execute_result"
    }
   ],
   "source": [
    "rd=Ridge(alpha=0.0001)\n",
    "rd.fit(x_train,y_train)\n",
    "rd.score(x_train,y_train)"
   ]
  },
  {
   "cell_type": "code",
   "execution_count": 125,
   "metadata": {},
   "outputs": [
    {
     "name": "stdout",
     "output_type": "stream",
     "text": [
      "0.2122877970754008\n"
     ]
    },
    {
     "data": {
      "text/plain": [
       "array([ 234.24069244, -136.08303583,  376.55078258,  356.32410747,\n",
       "       1642.94191411,  173.3362685 , -409.01051612, -338.9178234 ,\n",
       "          0.        ,   92.07330315, -117.74978163, -207.87210391,\n",
       "       -567.78051697, -954.64613326,  115.18529623,  123.4777313 ,\n",
       "        -85.38137195,    6.13675376])"
      ]
     },
     "execution_count": 125,
     "metadata": {},
     "output_type": "execute_result"
    }
   ],
   "source": [
    "from sklearn.linear_model import ElasticNet\n",
    "enr=ElasticNet(alpha=0.0001)\n",
    "enr.fit(x_train,y_train)\n",
    "enrpred=enr.predict(x_test)\n",
    "print(enr.score(x_train,y_train))\n",
    "enr.coef_"
   ]
  },
  {
   "cell_type": "code",
   "execution_count": 126,
   "metadata": {},
   "outputs": [],
   "source": [
    "from sklearn.svm import SVR\n",
    "svr=SVR(kernel='linear')\n",
    "svr.fit(x_train,y_train)\n",
    "svr.score(x_train,y_train)\n",
    "pred_y=svr.predict(x_test)"
   ]
  },
  {
   "cell_type": "code",
   "execution_count": 127,
   "metadata": {},
   "outputs": [],
   "source": [
    "svr=SVR(kernel='poly')\n",
    "svr.fit(x_train,y_train)\n",
    "svr.score(x_train,y_train)\n",
    "pred_y=svr.predict(x_test)"
   ]
  },
  {
   "cell_type": "code",
   "execution_count": 128,
   "metadata": {},
   "outputs": [],
   "source": [
    "svr=SVR(kernel='rbf')\n",
    "svr.fit(x_train,y_train)\n",
    "svr.score(x_train,y_train)\n",
    "pred_y=svr.predict(x_test)"
   ]
  },
  {
   "cell_type": "code",
   "execution_count": 129,
   "metadata": {},
   "outputs": [
    {
     "name": "stdout",
     "output_type": "stream",
     "text": [
      "0.183427463604517\n",
      "0.03178410785913688\n",
      "0.031841631451823504\n"
     ]
    }
   ],
   "source": [
    "from sklearn.svm import SVR\n",
    "kernellist=['linear','poly','rbf']\n",
    "for i in kernellist:\n",
    "    sv=SVR(kernel=i)\n",
    "    sv.fit(x_train,y_train)\n",
    "    print(sv.score(x_train,y_train))"
   ]
  },
  {
   "cell_type": "code",
   "execution_count": 130,
   "metadata": {},
   "outputs": [],
   "source": [
    "#Regularization\n",
    "\n",
    "from sklearn.model_selection import GridSearchCV\n",
    "from sklearn.model_selection import cross_val_score"
   ]
  },
  {
   "cell_type": "code",
   "execution_count": 150,
   "metadata": {},
   "outputs": [
    {
     "name": "stdout",
     "output_type": "stream",
     "text": [
      "{'alpha': 10, 'random_state': 0}\n"
     ]
    }
   ],
   "source": [
    "from sklearn.linear_model import Lasso\n",
    "parameters={'alpha':[.0001,.001,.01,.1,1,10],'random_state':list(range(0,10))}\n",
    "ls=Lasso()\n",
    "clf=GridSearchCV(ls,parameters)\n",
    "clf.fit(x_train,y_train)\n",
    "print(clf.best_params_)"
   ]
  },
  {
   "cell_type": "code",
   "execution_count": 151,
   "metadata": {},
   "outputs": [
    {
     "data": {
      "text/plain": [
       "0.22510821649656432"
      ]
     },
     "execution_count": 151,
     "metadata": {},
     "output_type": "execute_result"
    }
   ],
   "source": [
    "ls=Lasso(alpha=10,random_state=0)\n",
    "ls.fit(x_train,y_train)\n",
    "ls.score(x_train,y_train)\n",
    "pred_ls=ls.predict(x_test)\n",
    "lss=r2_score(y_test,pred_ls)\n",
    "lss"
   ]
  },
  {
   "cell_type": "code",
   "execution_count": 152,
   "metadata": {},
   "outputs": [
    {
     "name": "stdout",
     "output_type": "stream",
     "text": [
      "{'alpha': 10, 'random_state': 0}\n"
     ]
    }
   ],
   "source": [
    "from sklearn.linear_model import Ridge\n",
    "parameters={'alpha':[.0001,.001,.01,.1,1,10],'random_state':list(range(0,10))}\n",
    "rd=Ridge()\n",
    "clf=GridSearchCV(rd,parameters)\n",
    "clf.fit(x_train,y_train)\n",
    "print(clf.best_params_)"
   ]
  },
  {
   "cell_type": "code",
   "execution_count": 153,
   "metadata": {},
   "outputs": [
    {
     "data": {
      "text/plain": [
       "0.2254583037299568"
      ]
     },
     "execution_count": 153,
     "metadata": {},
     "output_type": "execute_result"
    }
   ],
   "source": [
    "rd=Ridge(alpha=10,random_state=0)\n",
    "rd.fit(x_train,y_train)\n",
    "rd.score(x_train,y_train)\n",
    "pred_rd=rd.predict(x_test)\n",
    "rdd=r2_score(y_test,pred_rd)\n",
    "rdd"
   ]
  },
  {
   "cell_type": "code",
   "execution_count": 154,
   "metadata": {},
   "outputs": [
    {
     "data": {
      "text/plain": [
       "0.1696310398569848"
      ]
     },
     "execution_count": 154,
     "metadata": {},
     "output_type": "execute_result"
    }
   ],
   "source": [
    "cv_score=cross_val_score(ls,x,y,cv=5)\n",
    "cv_mean=cv_score.mean()\n",
    "cv_mean"
   ]
  },
  {
   "cell_type": "code",
   "execution_count": 155,
   "metadata": {},
   "outputs": [
    {
     "data": {
      "text/plain": [
       "0.1711321346976704"
      ]
     },
     "execution_count": 155,
     "metadata": {},
     "output_type": "execute_result"
    }
   ],
   "source": [
    "cv_score=cross_val_score(rd,x,y,cv=5)\n",
    "cv_mean=cv_score.mean()\n",
    "cv_mean"
   ]
  },
  {
   "cell_type": "code",
   "execution_count": 132,
   "metadata": {},
   "outputs": [
    {
     "data": {
      "text/plain": [
       "['flightpriceprediction.pkl']"
      ]
     },
     "execution_count": 132,
     "metadata": {},
     "output_type": "execute_result"
    }
   ],
   "source": [
    "# Saving The Model\n",
    "\n",
    "import joblib\n",
    "joblib.dump(rfc,\"flightpriceprediction.pkl\")"
   ]
  },
  {
   "cell_type": "markdown",
   "metadata": {},
   "source": [
    "# Conclusion- RandomForestRegressor is more accurate model for price prediction"
   ]
  },
  {
   "cell_type": "code",
   "execution_count": null,
   "metadata": {},
   "outputs": [],
   "source": []
  }
 ],
 "metadata": {
  "kernelspec": {
   "display_name": "Python 3",
   "language": "python",
   "name": "python3"
  },
  "language_info": {
   "codemirror_mode": {
    "name": "ipython",
    "version": 3
   },
   "file_extension": ".py",
   "mimetype": "text/x-python",
   "name": "python",
   "nbconvert_exporter": "python",
   "pygments_lexer": "ipython3",
   "version": "3.8.5"
  }
 },
 "nbformat": 4,
 "nbformat_minor": 4
}
