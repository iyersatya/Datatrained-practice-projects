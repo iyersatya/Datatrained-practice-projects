{
 "cells": [
  {
   "cell_type": "code",
   "execution_count": 1,
   "metadata": {},
   "outputs": [],
   "source": [
    "import pandas as pd\n",
    "import numpy as np\n",
    "import matplotlib.pyplot as plt\n",
    "import seaborn as sn\n",
    "from sklearn.linear_model import LinearRegression\n",
    "from sklearn.metrics import mean_squared_error,mean_absolute_error\n",
    "from sklearn.model_selection import train_test_split\n",
    "from sklearn.metrics import r2_score\n",
    "import warnings\n",
    "warnings.filterwarnings('ignore')"
   ]
  },
  {
   "cell_type": "code",
   "execution_count": 2,
   "metadata": {},
   "outputs": [
    {
     "data": {
      "text/html": [
       "<div>\n",
       "<style scoped>\n",
       "    .dataframe tbody tr th:only-of-type {\n",
       "        vertical-align: middle;\n",
       "    }\n",
       "\n",
       "    .dataframe tbody tr th {\n",
       "        vertical-align: top;\n",
       "    }\n",
       "\n",
       "    .dataframe thead th {\n",
       "        text-align: right;\n",
       "    }\n",
       "</style>\n",
       "<table border=\"1\" class=\"dataframe\">\n",
       "  <thead>\n",
       "    <tr style=\"text-align: right;\">\n",
       "      <th></th>\n",
       "      <th>Unnamed: 0</th>\n",
       "      <th>TV</th>\n",
       "      <th>radio</th>\n",
       "      <th>newspaper</th>\n",
       "      <th>sales</th>\n",
       "    </tr>\n",
       "  </thead>\n",
       "  <tbody>\n",
       "    <tr>\n",
       "      <th>0</th>\n",
       "      <td>1</td>\n",
       "      <td>230.1</td>\n",
       "      <td>37.8</td>\n",
       "      <td>69.2</td>\n",
       "      <td>22.1</td>\n",
       "    </tr>\n",
       "    <tr>\n",
       "      <th>1</th>\n",
       "      <td>2</td>\n",
       "      <td>44.5</td>\n",
       "      <td>39.3</td>\n",
       "      <td>45.1</td>\n",
       "      <td>10.4</td>\n",
       "    </tr>\n",
       "    <tr>\n",
       "      <th>2</th>\n",
       "      <td>3</td>\n",
       "      <td>17.2</td>\n",
       "      <td>45.9</td>\n",
       "      <td>69.3</td>\n",
       "      <td>9.3</td>\n",
       "    </tr>\n",
       "    <tr>\n",
       "      <th>3</th>\n",
       "      <td>4</td>\n",
       "      <td>151.5</td>\n",
       "      <td>41.3</td>\n",
       "      <td>58.5</td>\n",
       "      <td>18.5</td>\n",
       "    </tr>\n",
       "    <tr>\n",
       "      <th>4</th>\n",
       "      <td>5</td>\n",
       "      <td>180.8</td>\n",
       "      <td>10.8</td>\n",
       "      <td>58.4</td>\n",
       "      <td>12.9</td>\n",
       "    </tr>\n",
       "    <tr>\n",
       "      <th>...</th>\n",
       "      <td>...</td>\n",
       "      <td>...</td>\n",
       "      <td>...</td>\n",
       "      <td>...</td>\n",
       "      <td>...</td>\n",
       "    </tr>\n",
       "    <tr>\n",
       "      <th>195</th>\n",
       "      <td>196</td>\n",
       "      <td>38.2</td>\n",
       "      <td>3.7</td>\n",
       "      <td>13.8</td>\n",
       "      <td>7.6</td>\n",
       "    </tr>\n",
       "    <tr>\n",
       "      <th>196</th>\n",
       "      <td>197</td>\n",
       "      <td>94.2</td>\n",
       "      <td>4.9</td>\n",
       "      <td>8.1</td>\n",
       "      <td>9.7</td>\n",
       "    </tr>\n",
       "    <tr>\n",
       "      <th>197</th>\n",
       "      <td>198</td>\n",
       "      <td>177.0</td>\n",
       "      <td>9.3</td>\n",
       "      <td>6.4</td>\n",
       "      <td>12.8</td>\n",
       "    </tr>\n",
       "    <tr>\n",
       "      <th>198</th>\n",
       "      <td>199</td>\n",
       "      <td>283.6</td>\n",
       "      <td>42.0</td>\n",
       "      <td>66.2</td>\n",
       "      <td>25.5</td>\n",
       "    </tr>\n",
       "    <tr>\n",
       "      <th>199</th>\n",
       "      <td>200</td>\n",
       "      <td>232.1</td>\n",
       "      <td>8.6</td>\n",
       "      <td>8.7</td>\n",
       "      <td>13.4</td>\n",
       "    </tr>\n",
       "  </tbody>\n",
       "</table>\n",
       "<p>200 rows × 5 columns</p>\n",
       "</div>"
      ],
      "text/plain": [
       "     Unnamed: 0     TV  radio  newspaper  sales\n",
       "0             1  230.1   37.8       69.2   22.1\n",
       "1             2   44.5   39.3       45.1   10.4\n",
       "2             3   17.2   45.9       69.3    9.3\n",
       "3             4  151.5   41.3       58.5   18.5\n",
       "4             5  180.8   10.8       58.4   12.9\n",
       "..          ...    ...    ...        ...    ...\n",
       "195         196   38.2    3.7       13.8    7.6\n",
       "196         197   94.2    4.9        8.1    9.7\n",
       "197         198  177.0    9.3        6.4   12.8\n",
       "198         199  283.6   42.0       66.2   25.5\n",
       "199         200  232.1    8.6        8.7   13.4\n",
       "\n",
       "[200 rows x 5 columns]"
      ]
     },
     "execution_count": 2,
     "metadata": {},
     "output_type": "execute_result"
    }
   ],
   "source": [
    "df=pd.read_csv('Advertising.csv')\n",
    "df"
   ]
  },
  {
   "cell_type": "code",
   "execution_count": 3,
   "metadata": {},
   "outputs": [
    {
     "data": {
      "text/html": [
       "<div>\n",
       "<style scoped>\n",
       "    .dataframe tbody tr th:only-of-type {\n",
       "        vertical-align: middle;\n",
       "    }\n",
       "\n",
       "    .dataframe tbody tr th {\n",
       "        vertical-align: top;\n",
       "    }\n",
       "\n",
       "    .dataframe thead th {\n",
       "        text-align: right;\n",
       "    }\n",
       "</style>\n",
       "<table border=\"1\" class=\"dataframe\">\n",
       "  <thead>\n",
       "    <tr style=\"text-align: right;\">\n",
       "      <th></th>\n",
       "      <th>TV</th>\n",
       "      <th>radio</th>\n",
       "      <th>newspaper</th>\n",
       "      <th>sales</th>\n",
       "    </tr>\n",
       "  </thead>\n",
       "  <tbody>\n",
       "    <tr>\n",
       "      <th>0</th>\n",
       "      <td>230.1</td>\n",
       "      <td>37.8</td>\n",
       "      <td>69.2</td>\n",
       "      <td>22.1</td>\n",
       "    </tr>\n",
       "    <tr>\n",
       "      <th>1</th>\n",
       "      <td>44.5</td>\n",
       "      <td>39.3</td>\n",
       "      <td>45.1</td>\n",
       "      <td>10.4</td>\n",
       "    </tr>\n",
       "    <tr>\n",
       "      <th>2</th>\n",
       "      <td>17.2</td>\n",
       "      <td>45.9</td>\n",
       "      <td>69.3</td>\n",
       "      <td>9.3</td>\n",
       "    </tr>\n",
       "    <tr>\n",
       "      <th>3</th>\n",
       "      <td>151.5</td>\n",
       "      <td>41.3</td>\n",
       "      <td>58.5</td>\n",
       "      <td>18.5</td>\n",
       "    </tr>\n",
       "    <tr>\n",
       "      <th>4</th>\n",
       "      <td>180.8</td>\n",
       "      <td>10.8</td>\n",
       "      <td>58.4</td>\n",
       "      <td>12.9</td>\n",
       "    </tr>\n",
       "    <tr>\n",
       "      <th>...</th>\n",
       "      <td>...</td>\n",
       "      <td>...</td>\n",
       "      <td>...</td>\n",
       "      <td>...</td>\n",
       "    </tr>\n",
       "    <tr>\n",
       "      <th>195</th>\n",
       "      <td>38.2</td>\n",
       "      <td>3.7</td>\n",
       "      <td>13.8</td>\n",
       "      <td>7.6</td>\n",
       "    </tr>\n",
       "    <tr>\n",
       "      <th>196</th>\n",
       "      <td>94.2</td>\n",
       "      <td>4.9</td>\n",
       "      <td>8.1</td>\n",
       "      <td>9.7</td>\n",
       "    </tr>\n",
       "    <tr>\n",
       "      <th>197</th>\n",
       "      <td>177.0</td>\n",
       "      <td>9.3</td>\n",
       "      <td>6.4</td>\n",
       "      <td>12.8</td>\n",
       "    </tr>\n",
       "    <tr>\n",
       "      <th>198</th>\n",
       "      <td>283.6</td>\n",
       "      <td>42.0</td>\n",
       "      <td>66.2</td>\n",
       "      <td>25.5</td>\n",
       "    </tr>\n",
       "    <tr>\n",
       "      <th>199</th>\n",
       "      <td>232.1</td>\n",
       "      <td>8.6</td>\n",
       "      <td>8.7</td>\n",
       "      <td>13.4</td>\n",
       "    </tr>\n",
       "  </tbody>\n",
       "</table>\n",
       "<p>200 rows × 4 columns</p>\n",
       "</div>"
      ],
      "text/plain": [
       "        TV  radio  newspaper  sales\n",
       "0    230.1   37.8       69.2   22.1\n",
       "1     44.5   39.3       45.1   10.4\n",
       "2     17.2   45.9       69.3    9.3\n",
       "3    151.5   41.3       58.5   18.5\n",
       "4    180.8   10.8       58.4   12.9\n",
       "..     ...    ...        ...    ...\n",
       "195   38.2    3.7       13.8    7.6\n",
       "196   94.2    4.9        8.1    9.7\n",
       "197  177.0    9.3        6.4   12.8\n",
       "198  283.6   42.0       66.2   25.5\n",
       "199  232.1    8.6        8.7   13.4\n",
       "\n",
       "[200 rows x 4 columns]"
      ]
     },
     "execution_count": 3,
     "metadata": {},
     "output_type": "execute_result"
    }
   ],
   "source": [
    "# to drop unnamed column\n",
    "\n",
    "df.columns.str.match(\"Unnamed\")\n",
    "df.loc[:,~df.columns.str.match(\"Unnamed\")]"
   ]
  },
  {
   "cell_type": "code",
   "execution_count": 4,
   "metadata": {},
   "outputs": [
    {
     "data": {
      "text/plain": [
       "Unnamed: 0    0\n",
       "TV            0\n",
       "radio         0\n",
       "newspaper     0\n",
       "sales         0\n",
       "dtype: int64"
      ]
     },
     "execution_count": 4,
     "metadata": {},
     "output_type": "execute_result"
    }
   ],
   "source": [
    "df.isnull().sum()\n",
    "\n",
    "\n",
    "# no null data"
   ]
  },
  {
   "cell_type": "code",
   "execution_count": 5,
   "metadata": {},
   "outputs": [
    {
     "data": {
      "text/plain": [
       "<AxesSubplot:>"
      ]
     },
     "execution_count": 5,
     "metadata": {},
     "output_type": "execute_result"
    },
    {
     "data": {
      "image/png": "[encoded data removed]",
      "text/plain": [
       "<Figure size 432x288 with 2 Axes>"
      ]
     },
     "metadata": {
      "needs_background": "light"
     },
     "output_type": "display_data"
    }
   ],
   "source": [
    "sn.heatmap(df.isnull())"
   ]
  },
  {
   "cell_type": "code",
   "execution_count": 6,
   "metadata": {},
   "outputs": [
    {
     "data": {
      "text/html": [
       "<div>\n",
       "<style scoped>\n",
       "    .dataframe tbody tr th:only-of-type {\n",
       "        vertical-align: middle;\n",
       "    }\n",
       "\n",
       "    .dataframe tbody tr th {\n",
       "        vertical-align: top;\n",
       "    }\n",
       "\n",
       "    .dataframe thead th {\n",
       "        text-align: right;\n",
       "    }\n",
       "</style>\n",
       "<table border=\"1\" class=\"dataframe\">\n",
       "  <thead>\n",
       "    <tr style=\"text-align: right;\">\n",
       "      <th></th>\n",
       "      <th>Unnamed: 0</th>\n",
       "      <th>TV</th>\n",
       "      <th>radio</th>\n",
       "      <th>newspaper</th>\n",
       "      <th>sales</th>\n",
       "    </tr>\n",
       "  </thead>\n",
       "  <tbody>\n",
       "    <tr>\n",
       "      <th>count</th>\n",
       "      <td>200.000000</td>\n",
       "      <td>200.000000</td>\n",
       "      <td>200.000000</td>\n",
       "      <td>200.000000</td>\n",
       "      <td>200.000000</td>\n",
       "    </tr>\n",
       "    <tr>\n",
       "      <th>mean</th>\n",
       "      <td>100.500000</td>\n",
       "      <td>147.042500</td>\n",
       "      <td>23.264000</td>\n",
       "      <td>30.554000</td>\n",
       "      <td>14.022500</td>\n",
       "    </tr>\n",
       "    <tr>\n",
       "      <th>std</th>\n",
       "      <td>57.879185</td>\n",
       "      <td>85.854236</td>\n",
       "      <td>14.846809</td>\n",
       "      <td>21.778621</td>\n",
       "      <td>5.217457</td>\n",
       "    </tr>\n",
       "    <tr>\n",
       "      <th>min</th>\n",
       "      <td>1.000000</td>\n",
       "      <td>0.700000</td>\n",
       "      <td>0.000000</td>\n",
       "      <td>0.300000</td>\n",
       "      <td>1.600000</td>\n",
       "    </tr>\n",
       "    <tr>\n",
       "      <th>25%</th>\n",
       "      <td>50.750000</td>\n",
       "      <td>74.375000</td>\n",
       "      <td>9.975000</td>\n",
       "      <td>12.750000</td>\n",
       "      <td>10.375000</td>\n",
       "    </tr>\n",
       "    <tr>\n",
       "      <th>50%</th>\n",
       "      <td>100.500000</td>\n",
       "      <td>149.750000</td>\n",
       "      <td>22.900000</td>\n",
       "      <td>25.750000</td>\n",
       "      <td>12.900000</td>\n",
       "    </tr>\n",
       "    <tr>\n",
       "      <th>75%</th>\n",
       "      <td>150.250000</td>\n",
       "      <td>218.825000</td>\n",
       "      <td>36.525000</td>\n",
       "      <td>45.100000</td>\n",
       "      <td>17.400000</td>\n",
       "    </tr>\n",
       "    <tr>\n",
       "      <th>max</th>\n",
       "      <td>200.000000</td>\n",
       "      <td>296.400000</td>\n",
       "      <td>49.600000</td>\n",
       "      <td>114.000000</td>\n",
       "      <td>27.000000</td>\n",
       "    </tr>\n",
       "  </tbody>\n",
       "</table>\n",
       "</div>"
      ],
      "text/plain": [
       "       Unnamed: 0          TV       radio   newspaper       sales\n",
       "count  200.000000  200.000000  200.000000  200.000000  200.000000\n",
       "mean   100.500000  147.042500   23.264000   30.554000   14.022500\n",
       "std     57.879185   85.854236   14.846809   21.778621    5.217457\n",
       "min      1.000000    0.700000    0.000000    0.300000    1.600000\n",
       "25%     50.750000   74.375000    9.975000   12.750000   10.375000\n",
       "50%    100.500000  149.750000   22.900000   25.750000   12.900000\n",
       "75%    150.250000  218.825000   36.525000   45.100000   17.400000\n",
       "max    200.000000  296.400000   49.600000  114.000000   27.000000"
      ]
     },
     "execution_count": 6,
     "metadata": {},
     "output_type": "execute_result"
    }
   ],
   "source": [
    "df.describe()"
   ]
  },
  {
   "cell_type": "markdown",
   "metadata": {},
   "source": [
    "# EDA"
   ]
  },
  {
   "cell_type": "code",
   "execution_count": 37,
   "metadata": {},
   "outputs": [
    {
     "data": {
      "text/plain": [
       "Unnamed: 0       AxesSubplot(0.125,0.657941;0.133621x0.222059)\n",
       "TV            AxesSubplot(0.285345,0.657941;0.133621x0.222059)\n",
       "radio          AxesSubplot(0.44569,0.657941;0.133621x0.222059)\n",
       "newspaper     AxesSubplot(0.606034,0.657941;0.133621x0.222059)\n",
       "sales         AxesSubplot(0.766379,0.657941;0.133621x0.222059)\n",
       "dtype: object"
      ]
     },
     "execution_count": 37,
     "metadata": {},
     "output_type": "execute_result"
    },
    {
     "data": {
      "image/png": "[encoded data removed]",
      "text/plain": [
       "<Figure size 432x288 with 15 Axes>"
      ]
     },
     "metadata": {
      "needs_background": "light"
     },
     "output_type": "display_data"
    }
   ],
   "source": [
    "df.plot(kind='box',subplots=True,layout=(3,5))\n",
    "\n",
    "# can't see outliers in dataset except newspaper, but that too are close to whiskers so not optning outliers removal"
   ]
  },
  {
   "cell_type": "code",
   "execution_count": 34,
   "metadata": {},
   "outputs": [
    {
     "data": {
      "text/plain": [
       "<AxesSubplot:xlabel='TV', ylabel='Density'>"
      ]
     },
     "execution_count": 34,
     "metadata": {},
     "output_type": "execute_result"
    },
    {
     "data": {
      "image/png": "[encoded data removed]",
      "text/plain": [
       "<Figure size 432x288 with 1 Axes>"
      ]
     },
     "metadata": {
      "needs_background": "light"
     },
     "output_type": "display_data"
    }
   ],
   "source": [
    "sn.distplot(df['TV'])"
   ]
  },
  {
   "cell_type": "code",
   "execution_count": 35,
   "metadata": {},
   "outputs": [
    {
     "data": {
      "text/plain": [
       "<AxesSubplot:xlabel='radio', ylabel='Density'>"
      ]
     },
     "execution_count": 35,
     "metadata": {},
     "output_type": "execute_result"
    },
    {
     "data": {
      "image/png": "[encoded data removed]",
      "text/plain": [
       "<Figure size 432x288 with 1 Axes>"
      ]
     },
     "metadata": {
      "needs_background": "light"
     },
     "output_type": "display_data"
    }
   ],
   "source": [
    "sn.distplot(df['radio'])"
   ]
  },
  {
   "cell_type": "code",
   "execution_count": 36,
   "metadata": {},
   "outputs": [
    {
     "data": {
      "text/plain": [
       "<AxesSubplot:xlabel='newspaper', ylabel='Density'>"
      ]
     },
     "execution_count": 36,
     "metadata": {},
     "output_type": "execute_result"
    },
    {
     "data": {
      "image/png": "[encoded data removed]",
      "text/plain": [
       "<Figure size 432x288 with 1 Axes>"
      ]
     },
     "metadata": {
      "needs_background": "light"
     },
     "output_type": "display_data"
    }
   ],
   "source": [
    "sn.distplot(df['newspaper'])"
   ]
  },
  {
   "cell_type": "code",
   "execution_count": 38,
   "metadata": {},
   "outputs": [],
   "source": [
    "# Model Building\n",
    "\n",
    "x=df.drop('sales',axis=1)\n",
    "y=df['sales']"
   ]
  },
  {
   "cell_type": "code",
   "execution_count": 9,
   "metadata": {},
   "outputs": [],
   "source": [
    "x_train,x_test,y_train,y_test = train_test_split(x,y,test_size=.33,random_state=30)"
   ]
  },
  {
   "cell_type": "code",
   "execution_count": 10,
   "metadata": {},
   "outputs": [],
   "source": [
    "lm=LinearRegression()"
   ]
  },
  {
   "cell_type": "code",
   "execution_count": 11,
   "metadata": {},
   "outputs": [
    {
     "data": {
      "text/plain": [
       "LinearRegression()"
      ]
     },
     "execution_count": 11,
     "metadata": {},
     "output_type": "execute_result"
    }
   ],
   "source": [
    "lm.fit(x_train,y_train)\n",
    "LinearRegression()"
   ]
  },
  {
   "cell_type": "code",
   "execution_count": 12,
   "metadata": {},
   "outputs": [
    {
     "data": {
      "text/plain": [
       "array([-0.00278674,  0.0438837 ,  0.18126274,  0.00772456])"
      ]
     },
     "execution_count": 12,
     "metadata": {},
     "output_type": "execute_result"
    }
   ],
   "source": [
    "lm.coef_"
   ]
  },
  {
   "cell_type": "code",
   "execution_count": 13,
   "metadata": {},
   "outputs": [
    {
     "data": {
      "text/plain": [
       "3.4195229498767628"
      ]
     },
     "execution_count": 13,
     "metadata": {},
     "output_type": "execute_result"
    }
   ],
   "source": [
    "lm.intercept_"
   ]
  },
  {
   "cell_type": "code",
   "execution_count": 14,
   "metadata": {},
   "outputs": [
    {
     "data": {
      "text/plain": [
       "0.8871971941705347"
      ]
     },
     "execution_count": 14,
     "metadata": {},
     "output_type": "execute_result"
    }
   ],
   "source": [
    "lm.score(x_train,y_train)"
   ]
  },
  {
   "cell_type": "code",
   "execution_count": 15,
   "metadata": {},
   "outputs": [],
   "source": [
    "cor=df.corr()"
   ]
  },
  {
   "cell_type": "code",
   "execution_count": 16,
   "metadata": {},
   "outputs": [
    {
     "data": {
      "text/html": [
       "<div>\n",
       "<style scoped>\n",
       "    .dataframe tbody tr th:only-of-type {\n",
       "        vertical-align: middle;\n",
       "    }\n",
       "\n",
       "    .dataframe tbody tr th {\n",
       "        vertical-align: top;\n",
       "    }\n",
       "\n",
       "    .dataframe thead th {\n",
       "        text-align: right;\n",
       "    }\n",
       "</style>\n",
       "<table border=\"1\" class=\"dataframe\">\n",
       "  <thead>\n",
       "    <tr style=\"text-align: right;\">\n",
       "      <th></th>\n",
       "      <th>Unnamed: 0</th>\n",
       "      <th>TV</th>\n",
       "      <th>radio</th>\n",
       "      <th>newspaper</th>\n",
       "      <th>sales</th>\n",
       "    </tr>\n",
       "  </thead>\n",
       "  <tbody>\n",
       "    <tr>\n",
       "      <th>Unnamed: 0</th>\n",
       "      <td>1.000000</td>\n",
       "      <td>0.017715</td>\n",
       "      <td>-0.110680</td>\n",
       "      <td>-0.154944</td>\n",
       "      <td>-0.051616</td>\n",
       "    </tr>\n",
       "    <tr>\n",
       "      <th>TV</th>\n",
       "      <td>0.017715</td>\n",
       "      <td>1.000000</td>\n",
       "      <td>0.054809</td>\n",
       "      <td>0.056648</td>\n",
       "      <td>0.782224</td>\n",
       "    </tr>\n",
       "    <tr>\n",
       "      <th>radio</th>\n",
       "      <td>-0.110680</td>\n",
       "      <td>0.054809</td>\n",
       "      <td>1.000000</td>\n",
       "      <td>0.354104</td>\n",
       "      <td>0.576223</td>\n",
       "    </tr>\n",
       "    <tr>\n",
       "      <th>newspaper</th>\n",
       "      <td>-0.154944</td>\n",
       "      <td>0.056648</td>\n",
       "      <td>0.354104</td>\n",
       "      <td>1.000000</td>\n",
       "      <td>0.228299</td>\n",
       "    </tr>\n",
       "    <tr>\n",
       "      <th>sales</th>\n",
       "      <td>-0.051616</td>\n",
       "      <td>0.782224</td>\n",
       "      <td>0.576223</td>\n",
       "      <td>0.228299</td>\n",
       "      <td>1.000000</td>\n",
       "    </tr>\n",
       "  </tbody>\n",
       "</table>\n",
       "</div>"
      ],
      "text/plain": [
       "            Unnamed: 0        TV     radio  newspaper     sales\n",
       "Unnamed: 0    1.000000  0.017715 -0.110680  -0.154944 -0.051616\n",
       "TV            0.017715  1.000000  0.054809   0.056648  0.782224\n",
       "radio        -0.110680  0.054809  1.000000   0.354104  0.576223\n",
       "newspaper    -0.154944  0.056648  0.354104   1.000000  0.228299\n",
       "sales        -0.051616  0.782224  0.576223   0.228299  1.000000"
      ]
     },
     "execution_count": 16,
     "metadata": {},
     "output_type": "execute_result"
    }
   ],
   "source": [
    "cor"
   ]
  },
  {
   "cell_type": "code",
   "execution_count": 17,
   "metadata": {},
   "outputs": [
    {
     "data": {
      "text/plain": [
       "<AxesSubplot:>"
      ]
     },
     "execution_count": 17,
     "metadata": {},
     "output_type": "execute_result"
    },
    {
     "data": {
      "image/png": "[encoded data removed]",
      "text/plain": [
       "<Figure size 432x288 with 2 Axes>"
      ]
     },
     "metadata": {
      "needs_background": "light"
     },
     "output_type": "display_data"
    }
   ],
   "source": [
    "sn.heatmap(cor,annot=True)"
   ]
  },
  {
   "cell_type": "code",
   "execution_count": 39,
   "metadata": {},
   "outputs": [],
   "source": [
    "# TV advertising has got high correlation with sales feature"
   ]
  },
  {
   "cell_type": "code",
   "execution_count": 18,
   "metadata": {},
   "outputs": [
    {
     "name": "stdout",
     "output_type": "stream",
     "text": [
      "At random state 0,the training accuracy is:-0.9073274552252846\n",
      "At random state 0,the testing accuracy is:-0.8564802143279249\n",
      "\n",
      "\n",
      "At random state 1,the training accuracy is:-0.8959391993971187\n",
      "At random state 1,the testing accuracy is:-0.8928781912093181\n",
      "\n",
      "\n",
      "At random state 2,the training accuracy is:-0.9152614531156524\n",
      "At random state 2,the testing accuracy is:-0.7570326409482369\n",
      "\n",
      "\n",
      "At random state 3,the training accuracy is:-0.8931443451313652\n",
      "At random state 3,the testing accuracy is:-0.913444967458206\n",
      "\n",
      "\n",
      "At random state 4,the training accuracy is:-0.8911682084041699\n",
      "At random state 4,the testing accuracy is:-0.9084934434517353\n",
      "\n",
      "\n",
      "At random state 5,the training accuracy is:-0.89570620107301\n",
      "At random state 5,the testing accuracy is:-0.8985195836305802\n",
      "\n",
      "\n",
      "At random state 6,the training accuracy is:-0.8915582028345674\n",
      "At random state 6,the testing accuracy is:-0.9219412229135812\n",
      "\n",
      "\n",
      "At random state 7,the training accuracy is:-0.8929171093102488\n",
      "At random state 7,the testing accuracy is:-0.9094946118605033\n",
      "\n",
      "\n",
      "At random state 8,the training accuracy is:-0.9089671598668992\n",
      "At random state 8,the testing accuracy is:-0.8454524606304806\n",
      "\n",
      "\n",
      "At random state 9,the training accuracy is:-0.8897879071515497\n",
      "At random state 9,the testing accuracy is:-0.9254791165935141\n",
      "\n",
      "\n",
      "At random state 10,the training accuracy is:-0.9210064755430887\n",
      "At random state 10,the testing accuracy is:-0.8350889287403332\n",
      "\n",
      "\n",
      "At random state 11,the training accuracy is:-0.9111623809104602\n",
      "At random state 11,the testing accuracy is:-0.8449820092996335\n",
      "\n",
      "\n",
      "At random state 12,the training accuracy is:-0.891807549912906\n",
      "At random state 12,the testing accuracy is:-0.9110007582766771\n",
      "\n",
      "\n",
      "At random state 13,the training accuracy is:-0.887016186914774\n",
      "At random state 13,the testing accuracy is:-0.930587014890429\n",
      "\n",
      "\n",
      "At random state 14,the training accuracy is:-0.9086355983008996\n",
      "At random state 14,the testing accuracy is:-0.8549475163509118\n",
      "\n",
      "\n",
      "At random state 15,the training accuracy is:-0.8938079254185115\n",
      "At random state 15,the testing accuracy is:-0.905569241231097\n",
      "\n",
      "\n",
      "At random state 16,the training accuracy is:-0.8926643673594483\n",
      "At random state 16,the testing accuracy is:-0.9179051167419227\n",
      "\n",
      "\n",
      "At random state 17,the training accuracy is:-0.9116703196823301\n",
      "At random state 17,the testing accuracy is:-0.826014416384263\n",
      "\n",
      "\n",
      "At random state 18,the training accuracy is:-0.9058537276169787\n",
      "At random state 18,the testing accuracy is:-0.8692586836034337\n",
      "\n",
      "\n",
      "At random state 19,the training accuracy is:-0.8936964884458825\n",
      "At random state 19,the testing accuracy is:-0.9035293150713194\n",
      "\n",
      "\n",
      "At random state 20,the training accuracy is:-0.8940674217997686\n",
      "At random state 20,the testing accuracy is:-0.9028631545455049\n",
      "\n",
      "\n",
      "At random state 21,the training accuracy is:-0.8890540600770627\n",
      "At random state 21,the testing accuracy is:-0.9146569039385174\n",
      "\n",
      "\n",
      "At random state 22,the training accuracy is:-0.8899973381223143\n",
      "At random state 22,the testing accuracy is:-0.9182082402965812\n",
      "\n",
      "\n",
      "At random state 23,the training accuracy is:-0.8921767001074105\n",
      "At random state 23,the testing accuracy is:-0.9099324713476881\n",
      "\n",
      "\n",
      "At random state 24,the training accuracy is:-0.8948669853718487\n",
      "At random state 24,the testing accuracy is:-0.9031175758867457\n",
      "\n",
      "\n",
      "At random state 25,the training accuracy is:-0.901084029469538\n",
      "At random state 25,the testing accuracy is:-0.8720389628792302\n",
      "\n",
      "\n",
      "At random state 26,the training accuracy is:-0.9008142925470226\n",
      "At random state 26,the testing accuracy is:-0.8660817826604933\n",
      "\n",
      "\n",
      "At random state 27,the training accuracy is:-0.8949084508267352\n",
      "At random state 27,the testing accuracy is:-0.9055839757493602\n",
      "\n",
      "\n",
      "At random state 28,the training accuracy is:-0.8997566457323917\n",
      "At random state 28,the testing accuracy is:-0.882889952375476\n",
      "\n",
      "\n",
      "At random state 29,the training accuracy is:-0.8897990754621425\n",
      "At random state 29,the testing accuracy is:-0.9121642709962423\n",
      "\n",
      "\n",
      "At random state 30,the training accuracy is:-0.8935867104133169\n",
      "At random state 30,the testing accuracy is:-0.9070725716744537\n",
      "\n",
      "\n",
      "At random state 31,the training accuracy is:-0.8861151331622692\n",
      "At random state 31,the testing accuracy is:-0.9274231828872666\n",
      "\n",
      "\n",
      "At random state 32,the training accuracy is:-0.9172993061976911\n",
      "At random state 32,the testing accuracy is:-0.7769624816211903\n",
      "\n",
      "\n",
      "At random state 33,the training accuracy is:-0.8962944220552961\n",
      "At random state 33,the testing accuracy is:-0.8938166042095905\n",
      "\n",
      "\n",
      "At random state 34,the training accuracy is:-0.8970815554113069\n",
      "At random state 34,the testing accuracy is:-0.8919648426080482\n",
      "\n",
      "\n",
      "At random state 35,the training accuracy is:-0.9149816013369177\n",
      "At random state 35,the testing accuracy is:-0.7863735877300151\n",
      "\n",
      "\n",
      "At random state 36,the training accuracy is:-0.8887390025066806\n",
      "At random state 36,the testing accuracy is:-0.9265569630488937\n",
      "\n",
      "\n",
      "At random state 37,the training accuracy is:-0.8998734924150504\n",
      "At random state 37,the testing accuracy is:-0.883238146412001\n",
      "\n",
      "\n",
      "At random state 38,the training accuracy is:-0.8972914103912516\n",
      "At random state 38,the testing accuracy is:-0.8908696135503189\n",
      "\n",
      "\n",
      "At random state 39,the training accuracy is:-0.9002556473795614\n",
      "At random state 39,the testing accuracy is:-0.8690558832908659\n",
      "\n",
      "\n",
      "At random state 40,the training accuracy is:-0.9204058033654225\n",
      "At random state 40,the testing accuracy is:-0.7965905680536844\n",
      "\n",
      "\n",
      "At random state 41,the training accuracy is:-0.9006927327079468\n",
      "At random state 41,the testing accuracy is:-0.882047061468867\n",
      "\n",
      "\n",
      "At random state 42,the training accuracy is:-0.8957553000540606\n",
      "At random state 42,the testing accuracy is:-0.8986489151417081\n",
      "\n",
      "\n",
      "At random state 43,the training accuracy is:-0.8886405668646471\n",
      "At random state 43,the testing accuracy is:-0.9279997802005557\n",
      "\n",
      "\n",
      "At random state 44,the training accuracy is:-0.9065906284233083\n",
      "At random state 44,the testing accuracy is:-0.8309225032852494\n",
      "\n",
      "\n",
      "At random state 45,the training accuracy is:-0.8963875424029035\n",
      "At random state 45,the testing accuracy is:-0.8915316806090341\n",
      "\n",
      "\n",
      "At random state 46,the training accuracy is:-0.9036235036433335\n",
      "At random state 46,the testing accuracy is:-0.8503383755246359\n",
      "\n",
      "\n",
      "At random state 47,the training accuracy is:-0.8988386546103042\n",
      "At random state 47,the testing accuracy is:-0.8849834045904889\n",
      "\n",
      "\n",
      "At random state 48,the training accuracy is:-0.890542166403924\n",
      "At random state 48,the testing accuracy is:-0.9189262097926163\n",
      "\n",
      "\n",
      "At random state 49,the training accuracy is:-0.913865852180709\n",
      "At random state 49,the testing accuracy is:-0.8231216329494809\n",
      "\n",
      "\n",
      "At random state 50,the training accuracy is:-0.9013718398317787\n",
      "At random state 50,the testing accuracy is:-0.8476464379397717\n",
      "\n",
      "\n",
      "At random state 51,the training accuracy is:-0.8936175989328148\n",
      "At random state 51,the testing accuracy is:-0.9076546711720631\n",
      "\n",
      "\n",
      "At random state 52,the training accuracy is:-0.9018604295382086\n",
      "At random state 52,the testing accuracy is:-0.8807089729330375\n",
      "\n",
      "\n",
      "At random state 53,the training accuracy is:-0.888857938922339\n",
      "At random state 53,the testing accuracy is:-0.9251773581549693\n",
      "\n",
      "\n",
      "At random state 54,the training accuracy is:-0.8920887237166686\n",
      "At random state 54,the testing accuracy is:-0.9172149618279113\n",
      "\n",
      "\n",
      "At random state 55,the training accuracy is:-0.894930160761274\n",
      "At random state 55,the testing accuracy is:-0.8978864477773827\n",
      "\n",
      "\n",
      "At random state 56,the training accuracy is:-0.8989201587327643\n",
      "At random state 56,the testing accuracy is:-0.8882246349534562\n",
      "\n",
      "\n",
      "At random state 57,the training accuracy is:-0.8825879766148067\n",
      "At random state 57,the testing accuracy is:-0.9408099432427623\n",
      "\n",
      "\n",
      "At random state 58,the training accuracy is:-0.9127355018257423\n",
      "At random state 58,the testing accuracy is:-0.8401442189987403\n",
      "\n",
      "\n",
      "At random state 59,the training accuracy is:-0.8893758445368163\n",
      "At random state 59,the testing accuracy is:-0.9250247055288899\n",
      "\n",
      "\n",
      "At random state 60,the training accuracy is:-0.8929488169971975\n",
      "At random state 60,the testing accuracy is:-0.9074416119003318\n",
      "\n",
      "\n",
      "At random state 61,the training accuracy is:-0.8995558396715964\n",
      "At random state 61,the testing accuracy is:-0.8781016428825579\n",
      "\n",
      "\n",
      "At random state 62,the training accuracy is:-0.9120188082159291\n",
      "At random state 62,the testing accuracy is:-0.8418326614272955\n",
      "\n",
      "\n",
      "At random state 63,the training accuracy is:-0.8951057681539462\n",
      "At random state 63,the testing accuracy is:-0.9005058624602785\n",
      "\n",
      "\n",
      "At random state 64,the training accuracy is:-0.8977795664080803\n",
      "At random state 64,the testing accuracy is:-0.8817995595827233\n",
      "\n",
      "\n",
      "At random state 65,the training accuracy is:-0.8969891176837769\n",
      "At random state 65,the testing accuracy is:-0.8942556589953751\n",
      "\n",
      "\n",
      "At random state 66,the training accuracy is:-0.8992060099166295\n",
      "At random state 66,the testing accuracy is:-0.8838295132236417\n",
      "\n",
      "\n",
      "At random state 67,the training accuracy is:-0.8995954079489461\n",
      "At random state 67,the testing accuracy is:-0.8813062371563375\n",
      "\n",
      "\n",
      "At random state 68,the training accuracy is:-0.9004472797727481\n",
      "At random state 68,the testing accuracy is:-0.866986256617689\n",
      "\n",
      "\n",
      "At random state 69,the training accuracy is:-0.8870476050134384\n",
      "At random state 69,the testing accuracy is:-0.9233095015758521\n",
      "\n",
      "\n",
      "At random state 70,the training accuracy is:-0.8862589587247461\n",
      "At random state 70,the testing accuracy is:-0.9261899619072468\n",
      "\n",
      "\n",
      "At random state 71,the training accuracy is:-0.9170792242159567\n",
      "At random state 71,the testing accuracy is:-0.8214330315197063\n",
      "\n",
      "\n",
      "At random state 72,the training accuracy is:-0.8939630309765105\n",
      "At random state 72,the testing accuracy is:-0.9063814288042916\n",
      "\n",
      "\n",
      "At random state 73,the training accuracy is:-0.9081745525874726\n",
      "At random state 73,the testing accuracy is:-0.8382456514164831\n",
      "\n",
      "\n",
      "At random state 74,the training accuracy is:-0.8980451797105264\n",
      "At random state 74,the testing accuracy is:-0.8802918295913444\n",
      "\n",
      "\n",
      "At random state 75,the training accuracy is:-0.8944097316106918\n",
      "At random state 75,the testing accuracy is:-0.9074740863261651\n",
      "\n",
      "\n",
      "At random state 76,the training accuracy is:-0.9092071576699313\n",
      "At random state 76,the testing accuracy is:-0.7531289748171519\n",
      "\n",
      "\n",
      "At random state 77,the training accuracy is:-0.8859821552154192\n",
      "At random state 77,the testing accuracy is:-0.937956975915543\n",
      "\n",
      "\n",
      "At random state 78,the training accuracy is:-0.8957614044756782\n",
      "At random state 78,the testing accuracy is:-0.9027962436962178\n",
      "\n",
      "\n",
      "At random state 79,the training accuracy is:-0.8918809749821501\n",
      "At random state 79,the testing accuracy is:-0.9039590138288894\n",
      "\n",
      "\n",
      "At random state 80,the training accuracy is:-0.9169729628077916\n",
      "At random state 80,the testing accuracy is:-0.8002879936768355\n",
      "\n",
      "\n",
      "At random state 81,the training accuracy is:-0.9035712487248864\n",
      "At random state 81,the testing accuracy is:-0.8609698767855934\n",
      "\n",
      "\n",
      "At random state 82,the training accuracy is:-0.9154275126468338\n",
      "At random state 82,the testing accuracy is:-0.8013214526563002\n",
      "\n",
      "\n",
      "At random state 83,the training accuracy is:-0.8842230653829803\n",
      "At random state 83,the testing accuracy is:-0.936533183297641\n",
      "\n",
      "\n",
      "At random state 84,the training accuracy is:-0.8954723130793452\n",
      "At random state 84,the testing accuracy is:-0.8982625547501826\n",
      "\n",
      "\n",
      "At random state 85,the training accuracy is:-0.9086556153894079\n",
      "At random state 85,the testing accuracy is:-0.8439750044569613\n",
      "\n",
      "\n",
      "At random state 86,the training accuracy is:-0.8941933141983467\n",
      "At random state 86,the testing accuracy is:-0.9101136416354886\n",
      "\n",
      "\n",
      "At random state 87,the training accuracy is:-0.9120854281966964\n",
      "At random state 87,the testing accuracy is:-0.759031834404437\n",
      "\n",
      "\n",
      "At random state 88,the training accuracy is:-0.909607024863585\n",
      "At random state 88,the testing accuracy is:-0.8387190488012206\n",
      "\n",
      "\n",
      "At random state 89,the training accuracy is:-0.9007733237783739\n",
      "At random state 89,the testing accuracy is:-0.8715218402293794\n",
      "\n",
      "\n",
      "At random state 90,the training accuracy is:-0.9035155910972225\n",
      "At random state 90,the testing accuracy is:-0.8470679956762824\n",
      "\n",
      "\n",
      "At random state 91,the training accuracy is:-0.8874503790642361\n",
      "At random state 91,the testing accuracy is:-0.9040620243534964\n",
      "\n",
      "\n",
      "At random state 92,the training accuracy is:-0.879228484038034\n",
      "At random state 92,the testing accuracy is:-0.9509833392692769\n",
      "\n",
      "\n",
      "At random state 93,the training accuracy is:-0.8934257355566151\n",
      "At random state 93,the testing accuracy is:-0.9092789029786972\n",
      "\n",
      "\n",
      "At random state 94,the training accuracy is:-0.9084405371218475\n",
      "At random state 94,the testing accuracy is:-0.8559756457570239\n",
      "\n",
      "\n",
      "At random state 95,the training accuracy is:-0.893566152267436\n",
      "At random state 95,the testing accuracy is:-0.8951483094107862\n",
      "\n",
      "\n",
      "At random state 96,the training accuracy is:-0.9038616523881903\n",
      "At random state 96,the testing accuracy is:-0.8580098720885361\n",
      "\n",
      "\n",
      "At random state 97,the training accuracy is:-0.8906962083562392\n",
      "At random state 97,the testing accuracy is:-0.907763020464028\n",
      "\n",
      "\n",
      "At random state 98,the training accuracy is:-0.8820113423343214\n",
      "At random state 98,the testing accuracy is:-0.9393724951506759\n",
      "\n",
      "\n",
      "At random state 99,the training accuracy is:-0.8906644266587815\n",
      "At random state 99,the testing accuracy is:-0.9201416862699034\n",
      "\n",
      "\n"
     ]
    }
   ],
   "source": [
    "for i in range(0,100):\n",
    "    x_train,x_test,y_train,y_test=train_test_split(x,y,test_size=0.2,random_state=i)\n",
    "    lm.fit(x_train,y_train)\n",
    "    pred_train=lm.predict(x_train)\n",
    "    pred_test=lm.predict(x_test)\n",
    "    print(f\"At random state {i},the training accuracy is:-{r2_score(y_train,pred_train)}\")\n",
    "    print(f\"At random state {i},the testing accuracy is:-{r2_score(y_test,pred_test)}\")\n",
    "    print(\"\\n\")"
   ]
  },
  {
   "cell_type": "code",
   "execution_count": 19,
   "metadata": {},
   "outputs": [],
   "source": [
    "x_train,x_test,y_train,y_test=train_test_split(x,y,test_size=0.2,random_state=12)"
   ]
  },
  {
   "cell_type": "code",
   "execution_count": 20,
   "metadata": {},
   "outputs": [
    {
     "data": {
      "text/plain": [
       "LinearRegression()"
      ]
     },
     "execution_count": 20,
     "metadata": {},
     "output_type": "execute_result"
    }
   ],
   "source": [
    "lm.fit(x_train,y_train)"
   ]
  },
  {
   "cell_type": "code",
   "execution_count": 21,
   "metadata": {},
   "outputs": [],
   "source": [
    "pred_test=lm.predict(x_test)"
   ]
  },
  {
   "cell_type": "code",
   "execution_count": 22,
   "metadata": {},
   "outputs": [
    {
     "name": "stdout",
     "output_type": "stream",
     "text": [
      "0.9110007582766771\n"
     ]
    }
   ],
   "source": [
    "print(r2_score(y_test,pred_test))"
   ]
  },
  {
   "cell_type": "markdown",
   "metadata": {},
   "source": [
    "# Cross Validation of the Model"
   ]
  },
  {
   "cell_type": "code",
   "execution_count": 23,
   "metadata": {},
   "outputs": [
    {
     "name": "stdout",
     "output_type": "stream",
     "text": [
      "At cross fold2 the cv score is 0.8557808905096392 and accuracy score for training is -1.1005688286388953and accuracy for the testing is 0.9110007582766771\n",
      "\n",
      "\n",
      "At cross fold3 the cv score is 0.8913539823868294 and accuracy score for training is -1.1005688286388953and accuracy for the testing is 0.9110007582766771\n",
      "\n",
      "\n",
      "At cross fold4 the cv score is 0.8858779626590164 and accuracy score for training is -1.1005688286388953and accuracy for the testing is 0.9110007582766771\n",
      "\n",
      "\n",
      "At cross fold5 the cv score is 0.8842777844741689 and accuracy score for training is -1.1005688286388953and accuracy for the testing is 0.9110007582766771\n",
      "\n",
      "\n",
      "At cross fold6 the cv score is 0.8877823078964706 and accuracy score for training is -1.1005688286388953and accuracy for the testing is 0.9110007582766771\n",
      "\n",
      "\n",
      "At cross fold7 the cv score is 0.8830284351379023 and accuracy score for training is -1.1005688286388953and accuracy for the testing is 0.9110007582766771\n",
      "\n",
      "\n",
      "At cross fold8 the cv score is 0.879505934736525 and accuracy score for training is -1.1005688286388953and accuracy for the testing is 0.9110007582766771\n",
      "\n",
      "\n",
      "At cross fold9 the cv score is 0.879704245100306 and accuracy score for training is -1.1005688286388953and accuracy for the testing is 0.9110007582766771\n",
      "\n",
      "\n"
     ]
    }
   ],
   "source": [
    "train_accuracy=r2_score(y_train,pred_train)\n",
    "test_accuracy=r2_score(y_test,pred_test)\n",
    "from sklearn.model_selection import cross_val_score\n",
    "for j in range(2,10):\n",
    "    cv_score=cross_val_score(lm,x,y,cv=j)\n",
    "    cv_mean=cv_score.mean()\n",
    "    print(f\"At cross fold{j} the cv score is {cv_mean} and accuracy score for training is {train_accuracy}and accuracy for the testing is {test_accuracy}\")\n",
    "    print(\"\\n\")"
   ]
  },
  {
   "cell_type": "markdown",
   "metadata": {},
   "source": [
    "# Regularization"
   ]
  },
  {
   "cell_type": "code",
   "execution_count": 24,
   "metadata": {},
   "outputs": [],
   "source": [
    "from sklearn.model_selection import GridSearchCV\n",
    "from sklearn.model_selection import cross_val_score\n"
   ]
  },
  {
   "cell_type": "code",
   "execution_count": 25,
   "metadata": {},
   "outputs": [
    {
     "name": "stdout",
     "output_type": "stream",
     "text": [
      "{'alpha': 0.01, 'random_state': 0}\n"
     ]
    }
   ],
   "source": [
    "from sklearn.linear_model import Lasso\n",
    "parameters={'alpha':[.0001,.001,.01,.1,1,10],'random_state':list(range(0,10))}\n",
    "ls=Lasso()\n",
    "clf=GridSearchCV(ls,parameters)\n",
    "clf.fit(x_train,y_train)\n",
    "print(clf.best_params_)"
   ]
  },
  {
   "cell_type": "code",
   "execution_count": 26,
   "metadata": {},
   "outputs": [
    {
     "data": {
      "text/plain": [
       "0.9110263280759735"
      ]
     },
     "execution_count": 26,
     "metadata": {},
     "output_type": "execute_result"
    }
   ],
   "source": [
    "ls=Lasso(alpha=0.01,random_state=0)\n",
    "ls.fit(x_train,y_train)\n",
    "ls.score(x_train,y_train)\n",
    "pred_ls=ls.predict(x_test)\n",
    "lss=r2_score(y_test,pred_ls)\n",
    "lss"
   ]
  },
  {
   "cell_type": "code",
   "execution_count": 27,
   "metadata": {},
   "outputs": [
    {
     "name": "stdout",
     "output_type": "stream",
     "text": [
      "{'alpha': 10, 'random_state': 0}\n"
     ]
    }
   ],
   "source": [
    "from sklearn.linear_model import Ridge\n",
    "parameters={'alpha':[.0001,.001,.01,.1,1,10],'random_state':list(range(0,10))}\n",
    "rd=Ridge()\n",
    "clf=GridSearchCV(rd,parameters)\n",
    "clf.fit(x_train,y_train)\n",
    "print(clf.best_params_)\n"
   ]
  },
  {
   "cell_type": "code",
   "execution_count": 28,
   "metadata": {},
   "outputs": [
    {
     "data": {
      "text/plain": [
       "0.9110144294727794"
      ]
     },
     "execution_count": 28,
     "metadata": {},
     "output_type": "execute_result"
    }
   ],
   "source": [
    "rd=Ridge(alpha=10,random_state=0)\n",
    "rd.fit(x_train,y_train)\n",
    "rd.score(x_train,y_train)\n",
    "pred_rd=rd.predict(x_test)\n",
    "rdd=r2_score(y_test,pred_rd)\n",
    "rdd"
   ]
  },
  {
   "cell_type": "code",
   "execution_count": 29,
   "metadata": {},
   "outputs": [
    {
     "data": {
      "text/plain": [
       "0.8842974176393481"
      ]
     },
     "execution_count": 29,
     "metadata": {},
     "output_type": "execute_result"
    }
   ],
   "source": [
    "cv_score=cross_val_score(ls,x,y,cv=5)\n",
    "cv_mean=cv_score.mean()\n",
    "cv_mean"
   ]
  },
  {
   "cell_type": "code",
   "execution_count": 30,
   "metadata": {},
   "outputs": [
    {
     "data": {
      "text/plain": [
       "0.8842812917853875"
      ]
     },
     "execution_count": 30,
     "metadata": {},
     "output_type": "execute_result"
    }
   ],
   "source": [
    "cv_score=cross_val_score(rd,x,y,cv=5)\n",
    "cv_mean=cv_score.mean()\n",
    "cv_mean"
   ]
  },
  {
   "cell_type": "markdown",
   "metadata": {},
   "source": [
    "# Ensemble Technique"
   ]
  },
  {
   "cell_type": "code",
   "execution_count": 31,
   "metadata": {},
   "outputs": [
    {
     "name": "stdout",
     "output_type": "stream",
     "text": [
      "{'criterion': 'mse', 'max_features': 'auto'}\n"
     ]
    }
   ],
   "source": [
    "from sklearn.model_selection import GridSearchCV\n",
    "from sklearn.ensemble import RandomForestRegressor\n",
    "parameters={'criterion':['mse','mae'],'max_features':[\"auto\",\"sqrt\",\"log2\"]}\n",
    "rf=RandomForestRegressor()\n",
    "clf=GridSearchCV(rf,parameters)\n",
    "clf.fit(x_train,y_train)\n",
    "print(clf.best_params_)"
   ]
  },
  {
   "cell_type": "code",
   "execution_count": 32,
   "metadata": {},
   "outputs": [
    {
     "name": "stdout",
     "output_type": "stream",
     "text": [
      "R2 Score: 98.2743980741481\n",
      "cross val score: 97.22769468541867\n"
     ]
    }
   ],
   "source": [
    "rf=RandomForestRegressor(criterion='mae',max_features=\"auto\")\n",
    "rf.fit(x_train,y_train)\n",
    "rf.score(x_train,y_train)\n",
    "pred_decision=rf.predict(x_test)\n",
    "rfs=r2_score(y_test,pred_decision)\n",
    "print('R2 Score:',rfs*100)\n",
    "rfscore=cross_val_score(rf,x,y,cv=5)\n",
    "rfc=rfscore.mean()\n",
    "print('cross val score:',rfc*100)"
   ]
  },
  {
   "cell_type": "markdown",
   "metadata": {},
   "source": [
    "# Random forest regressor is performing with 98% accuracy compared to Lasso and Ridge, so we chose Random Forest model"
   ]
  },
  {
   "cell_type": "code",
   "execution_count": 33,
   "metadata": {},
   "outputs": [
    {
     "data": {
      "text/plain": [
       "['salesprediction.pkl']"
      ]
     },
     "execution_count": 33,
     "metadata": {},
     "output_type": "execute_result"
    }
   ],
   "source": [
    "# Saving The Model\n",
    "\n",
    "import joblib\n",
    "joblib.dump(rfc,\"salesprediction.pkl\")"
   ]
  },
  {
   "cell_type": "code",
   "execution_count": null,
   "metadata": {},
   "outputs": [],
   "source": []
  }
 ],
 "metadata": {
  "kernelspec": {
   "display_name": "Python 3",
   "language": "python",
   "name": "python3"
  },
  "language_info": {
   "codemirror_mode": {
    "name": "ipython",
    "version": 3
   },
   "file_extension": ".py",
   "mimetype": "text/x-python",
   "name": "python",
   "nbconvert_exporter": "python",
   "pygments_lexer": "ipython3",
   "version": "3.8.5"
  }
 },
 "nbformat": 4,
 "nbformat_minor": 4
}
