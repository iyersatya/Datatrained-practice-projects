{
 "cells": [
  {
   "cell_type": "code",
   "execution_count": 1,
   "metadata": {},
   "outputs": [],
   "source": [
    "import pandas as pd\n",
    "import numpy as np\n",
    "import matplotlib.pyplot as plt\n",
    "import seaborn as sn\n",
    "from sklearn.linear_model import LinearRegression\n",
    "from sklearn.metrics import mean_squared_error,mean_absolute_error\n",
    "from sklearn.model_selection import train_test_split\n",
    "from sklearn.metrics import r2_score\n",
    "import warnings\n",
    "warnings.filterwarnings('ignore')"
   ]
  },
  {
   "cell_type": "code",
   "execution_count": 2,
   "metadata": {},
   "outputs": [],
   "source": [
    "train=pd.read_excel('C:/Users/a5fwpzz/Desktop/Train.xlsx')"
   ]
  },
  {
   "cell_type": "code",
   "execution_count": 3,
   "metadata": {},
   "outputs": [],
   "source": [
    "test=pd.read_excel('C:/Users/a5fwpzz/Desktop/Test.xlsx')"
   ]
  },
  {
   "cell_type": "code",
   "execution_count": 4,
   "metadata": {},
   "outputs": [
    {
     "data": {
      "text/html": [
       "<div>\n",
       "<style scoped>\n",
       "    .dataframe tbody tr th:only-of-type {\n",
       "        vertical-align: middle;\n",
       "    }\n",
       "\n",
       "    .dataframe tbody tr th {\n",
       "        vertical-align: top;\n",
       "    }\n",
       "\n",
       "    .dataframe thead th {\n",
       "        text-align: right;\n",
       "    }\n",
       "</style>\n",
       "<table border=\"1\" class=\"dataframe\">\n",
       "  <thead>\n",
       "    <tr style=\"text-align: right;\">\n",
       "      <th></th>\n",
       "      <th>Qualification</th>\n",
       "      <th>Experience</th>\n",
       "      <th>Rating</th>\n",
       "      <th>Place</th>\n",
       "      <th>Profile</th>\n",
       "      <th>Miscellaneous_Info</th>\n",
       "      <th>Fees</th>\n",
       "    </tr>\n",
       "  </thead>\n",
       "  <tbody>\n",
       "    <tr>\n",
       "      <th>0</th>\n",
       "      <td>BHMS, MD - Homeopathy</td>\n",
       "      <td>24 years experience</td>\n",
       "      <td>100%</td>\n",
       "      <td>Kakkanad, Ernakulam</td>\n",
       "      <td>Homeopath</td>\n",
       "      <td>100% 16 Feedback Kakkanad, Ernakulam</td>\n",
       "      <td>100</td>\n",
       "    </tr>\n",
       "    <tr>\n",
       "      <th>1</th>\n",
       "      <td>BAMS, MD - Ayurveda Medicine</td>\n",
       "      <td>12 years experience</td>\n",
       "      <td>98%</td>\n",
       "      <td>Whitefield, Bangalore</td>\n",
       "      <td>Ayurveda</td>\n",
       "      <td>98% 76 Feedback Whitefield, Bangalore</td>\n",
       "      <td>350</td>\n",
       "    </tr>\n",
       "    <tr>\n",
       "      <th>2</th>\n",
       "      <td>MBBS, MS - Otorhinolaryngology</td>\n",
       "      <td>9 years experience</td>\n",
       "      <td>NaN</td>\n",
       "      <td>Mathikere - BEL, Bangalore</td>\n",
       "      <td>ENT Specialist</td>\n",
       "      <td>NaN</td>\n",
       "      <td>300</td>\n",
       "    </tr>\n",
       "    <tr>\n",
       "      <th>3</th>\n",
       "      <td>BSc - Zoology, BAMS</td>\n",
       "      <td>12 years experience</td>\n",
       "      <td>NaN</td>\n",
       "      <td>Bannerghatta Road, Bangalore</td>\n",
       "      <td>Ayurveda</td>\n",
       "      <td>Bannerghatta Road, Bangalore ₹250 Available on...</td>\n",
       "      <td>250</td>\n",
       "    </tr>\n",
       "    <tr>\n",
       "      <th>4</th>\n",
       "      <td>BAMS</td>\n",
       "      <td>20 years experience</td>\n",
       "      <td>100%</td>\n",
       "      <td>Keelkattalai, Chennai</td>\n",
       "      <td>Ayurveda</td>\n",
       "      <td>100% 4 Feedback Keelkattalai, Chennai</td>\n",
       "      <td>250</td>\n",
       "    </tr>\n",
       "  </tbody>\n",
       "</table>\n",
       "</div>"
      ],
      "text/plain": [
       "                    Qualification           Experience Rating  \\\n",
       "0           BHMS, MD - Homeopathy  24 years experience   100%   \n",
       "1    BAMS, MD - Ayurveda Medicine  12 years experience    98%   \n",
       "2  MBBS, MS - Otorhinolaryngology   9 years experience    NaN   \n",
       "3             BSc - Zoology, BAMS  12 years experience    NaN   \n",
       "4                            BAMS  20 years experience   100%   \n",
       "\n",
       "                          Place         Profile  \\\n",
       "0           Kakkanad, Ernakulam       Homeopath   \n",
       "1         Whitefield, Bangalore        Ayurveda   \n",
       "2    Mathikere - BEL, Bangalore  ENT Specialist   \n",
       "3  Bannerghatta Road, Bangalore        Ayurveda   \n",
       "4         Keelkattalai, Chennai        Ayurveda   \n",
       "\n",
       "                                  Miscellaneous_Info  Fees  \n",
       "0               100% 16 Feedback Kakkanad, Ernakulam   100  \n",
       "1              98% 76 Feedback Whitefield, Bangalore   350  \n",
       "2                                                NaN   300  \n",
       "3  Bannerghatta Road, Bangalore ₹250 Available on...   250  \n",
       "4              100% 4 Feedback Keelkattalai, Chennai   250  "
      ]
     },
     "execution_count": 4,
     "metadata": {},
     "output_type": "execute_result"
    }
   ],
   "source": [
    "train.head()"
   ]
  },
  {
   "cell_type": "code",
   "execution_count": 5,
   "metadata": {},
   "outputs": [
    {
     "data": {
      "text/html": [
       "<div>\n",
       "<style scoped>\n",
       "    .dataframe tbody tr th:only-of-type {\n",
       "        vertical-align: middle;\n",
       "    }\n",
       "\n",
       "    .dataframe tbody tr th {\n",
       "        vertical-align: top;\n",
       "    }\n",
       "\n",
       "    .dataframe thead th {\n",
       "        text-align: right;\n",
       "    }\n",
       "</style>\n",
       "<table border=\"1\" class=\"dataframe\">\n",
       "  <thead>\n",
       "    <tr style=\"text-align: right;\">\n",
       "      <th></th>\n",
       "      <th>Qualification</th>\n",
       "      <th>Experience</th>\n",
       "      <th>Rating</th>\n",
       "      <th>Place</th>\n",
       "      <th>Profile</th>\n",
       "      <th>Miscellaneous_Info</th>\n",
       "    </tr>\n",
       "  </thead>\n",
       "  <tbody>\n",
       "    <tr>\n",
       "      <th>0</th>\n",
       "      <td>MBBS</td>\n",
       "      <td>35 years experience</td>\n",
       "      <td>NaN</td>\n",
       "      <td>Ghatkopar East, Mumbai</td>\n",
       "      <td>General Medicine</td>\n",
       "      <td>NaN</td>\n",
       "    </tr>\n",
       "    <tr>\n",
       "      <th>1</th>\n",
       "      <td>MBBS, Diploma in Otorhinolaryngology (DLO)</td>\n",
       "      <td>31 years experience</td>\n",
       "      <td>NaN</td>\n",
       "      <td>West Marredpally, Hyderabad</td>\n",
       "      <td>ENT Specialist</td>\n",
       "      <td>NaN</td>\n",
       "    </tr>\n",
       "    <tr>\n",
       "      <th>2</th>\n",
       "      <td>MBBS, DDVL</td>\n",
       "      <td>40 years experience</td>\n",
       "      <td>70%</td>\n",
       "      <td>KK Nagar, Chennai</td>\n",
       "      <td>Dermatologists</td>\n",
       "      <td>70% 4 Feedback KK Nagar, Chennai</td>\n",
       "    </tr>\n",
       "    <tr>\n",
       "      <th>3</th>\n",
       "      <td>BAMS</td>\n",
       "      <td>0 years experience</td>\n",
       "      <td>NaN</td>\n",
       "      <td>New Ashok Nagar, Delhi</td>\n",
       "      <td>Ayurveda</td>\n",
       "      <td>NaN</td>\n",
       "    </tr>\n",
       "    <tr>\n",
       "      <th>4</th>\n",
       "      <td>BDS, MDS - Conservative Dentistry &amp; Endodontics</td>\n",
       "      <td>16 years experience</td>\n",
       "      <td>100%</td>\n",
       "      <td>Kanakpura Road, Bangalore</td>\n",
       "      <td>Dentist</td>\n",
       "      <td>General Dentistry Conservative Dentistry Cosme...</td>\n",
       "    </tr>\n",
       "  </tbody>\n",
       "</table>\n",
       "</div>"
      ],
      "text/plain": [
       "                                     Qualification           Experience  \\\n",
       "0                                             MBBS  35 years experience   \n",
       "1       MBBS, Diploma in Otorhinolaryngology (DLO)  31 years experience   \n",
       "2                                       MBBS, DDVL  40 years experience   \n",
       "3                                             BAMS   0 years experience   \n",
       "4  BDS, MDS - Conservative Dentistry & Endodontics  16 years experience   \n",
       "\n",
       "  Rating                        Place           Profile  \\\n",
       "0    NaN       Ghatkopar East, Mumbai  General Medicine   \n",
       "1    NaN  West Marredpally, Hyderabad    ENT Specialist   \n",
       "2    70%            KK Nagar, Chennai    Dermatologists   \n",
       "3    NaN       New Ashok Nagar, Delhi          Ayurveda   \n",
       "4   100%    Kanakpura Road, Bangalore           Dentist   \n",
       "\n",
       "                                  Miscellaneous_Info  \n",
       "0                                                NaN  \n",
       "1                                                NaN  \n",
       "2                   70% 4 Feedback KK Nagar, Chennai  \n",
       "3                                                NaN  \n",
       "4  General Dentistry Conservative Dentistry Cosme...  "
      ]
     },
     "execution_count": 5,
     "metadata": {},
     "output_type": "execute_result"
    }
   ],
   "source": [
    "test.head()"
   ]
  },
  {
   "cell_type": "code",
   "execution_count": 8,
   "metadata": {},
   "outputs": [
    {
     "data": {
      "text/plain": [
       "((5961, 7), (1987, 6))"
      ]
     },
     "execution_count": 8,
     "metadata": {},
     "output_type": "execute_result"
    }
   ],
   "source": [
    "train.shape,test.shape"
   ]
  },
  {
   "cell_type": "code",
   "execution_count": 9,
   "metadata": {},
   "outputs": [
    {
     "name": "stdout",
     "output_type": "stream",
     "text": [
      "(5961, 7) (1987, 6) (7948, 7)\n"
     ]
    }
   ],
   "source": [
    "# we need to merge data first\n",
    "\n",
    "df=pd.concat([train,test],sort=False)\n",
    "print(train.shape,test.shape,df.shape)"
   ]
  },
  {
   "cell_type": "code",
   "execution_count": 10,
   "metadata": {},
   "outputs": [
    {
     "data": {
      "text/html": [
       "<div>\n",
       "<style scoped>\n",
       "    .dataframe tbody tr th:only-of-type {\n",
       "        vertical-align: middle;\n",
       "    }\n",
       "\n",
       "    .dataframe tbody tr th {\n",
       "        vertical-align: top;\n",
       "    }\n",
       "\n",
       "    .dataframe thead th {\n",
       "        text-align: right;\n",
       "    }\n",
       "</style>\n",
       "<table border=\"1\" class=\"dataframe\">\n",
       "  <thead>\n",
       "    <tr style=\"text-align: right;\">\n",
       "      <th></th>\n",
       "      <th>Qualification</th>\n",
       "      <th>Experience</th>\n",
       "      <th>Rating</th>\n",
       "      <th>Place</th>\n",
       "      <th>Profile</th>\n",
       "      <th>Miscellaneous_Info</th>\n",
       "      <th>Fees</th>\n",
       "    </tr>\n",
       "  </thead>\n",
       "  <tbody>\n",
       "    <tr>\n",
       "      <th>0</th>\n",
       "      <td>BHMS, MD - Homeopathy</td>\n",
       "      <td>24 years experience</td>\n",
       "      <td>100%</td>\n",
       "      <td>Kakkanad, Ernakulam</td>\n",
       "      <td>Homeopath</td>\n",
       "      <td>100% 16 Feedback Kakkanad, Ernakulam</td>\n",
       "      <td>100.0</td>\n",
       "    </tr>\n",
       "    <tr>\n",
       "      <th>1</th>\n",
       "      <td>BAMS, MD - Ayurveda Medicine</td>\n",
       "      <td>12 years experience</td>\n",
       "      <td>98%</td>\n",
       "      <td>Whitefield, Bangalore</td>\n",
       "      <td>Ayurveda</td>\n",
       "      <td>98% 76 Feedback Whitefield, Bangalore</td>\n",
       "      <td>350.0</td>\n",
       "    </tr>\n",
       "    <tr>\n",
       "      <th>2</th>\n",
       "      <td>MBBS, MS - Otorhinolaryngology</td>\n",
       "      <td>9 years experience</td>\n",
       "      <td>NaN</td>\n",
       "      <td>Mathikere - BEL, Bangalore</td>\n",
       "      <td>ENT Specialist</td>\n",
       "      <td>NaN</td>\n",
       "      <td>300.0</td>\n",
       "    </tr>\n",
       "    <tr>\n",
       "      <th>3</th>\n",
       "      <td>BSc - Zoology, BAMS</td>\n",
       "      <td>12 years experience</td>\n",
       "      <td>NaN</td>\n",
       "      <td>Bannerghatta Road, Bangalore</td>\n",
       "      <td>Ayurveda</td>\n",
       "      <td>Bannerghatta Road, Bangalore ₹250 Available on...</td>\n",
       "      <td>250.0</td>\n",
       "    </tr>\n",
       "    <tr>\n",
       "      <th>4</th>\n",
       "      <td>BAMS</td>\n",
       "      <td>20 years experience</td>\n",
       "      <td>100%</td>\n",
       "      <td>Keelkattalai, Chennai</td>\n",
       "      <td>Ayurveda</td>\n",
       "      <td>100% 4 Feedback Keelkattalai, Chennai</td>\n",
       "      <td>250.0</td>\n",
       "    </tr>\n",
       "  </tbody>\n",
       "</table>\n",
       "</div>"
      ],
      "text/plain": [
       "                    Qualification           Experience Rating  \\\n",
       "0           BHMS, MD - Homeopathy  24 years experience   100%   \n",
       "1    BAMS, MD - Ayurveda Medicine  12 years experience    98%   \n",
       "2  MBBS, MS - Otorhinolaryngology   9 years experience    NaN   \n",
       "3             BSc - Zoology, BAMS  12 years experience    NaN   \n",
       "4                            BAMS  20 years experience   100%   \n",
       "\n",
       "                          Place         Profile  \\\n",
       "0           Kakkanad, Ernakulam       Homeopath   \n",
       "1         Whitefield, Bangalore        Ayurveda   \n",
       "2    Mathikere - BEL, Bangalore  ENT Specialist   \n",
       "3  Bannerghatta Road, Bangalore        Ayurveda   \n",
       "4         Keelkattalai, Chennai        Ayurveda   \n",
       "\n",
       "                                  Miscellaneous_Info   Fees  \n",
       "0               100% 16 Feedback Kakkanad, Ernakulam  100.0  \n",
       "1              98% 76 Feedback Whitefield, Bangalore  350.0  \n",
       "2                                                NaN  300.0  \n",
       "3  Bannerghatta Road, Bangalore ₹250 Available on...  250.0  \n",
       "4              100% 4 Feedback Keelkattalai, Chennai  250.0  "
      ]
     },
     "execution_count": 10,
     "metadata": {},
     "output_type": "execute_result"
    }
   ],
   "source": [
    "df.head()"
   ]
  },
  {
   "cell_type": "code",
   "execution_count": 11,
   "metadata": {},
   "outputs": [
    {
     "data": {
      "text/plain": [
       "(7948, 7)"
      ]
     },
     "execution_count": 11,
     "metadata": {},
     "output_type": "execute_result"
    }
   ],
   "source": [
    "df.shape"
   ]
  },
  {
   "cell_type": "code",
   "execution_count": 12,
   "metadata": {},
   "outputs": [
    {
     "data": {
      "text/html": [
       "<div>\n",
       "<style scoped>\n",
       "    .dataframe tbody tr th:only-of-type {\n",
       "        vertical-align: middle;\n",
       "    }\n",
       "\n",
       "    .dataframe tbody tr th {\n",
       "        vertical-align: top;\n",
       "    }\n",
       "\n",
       "    .dataframe thead th {\n",
       "        text-align: right;\n",
       "    }\n",
       "</style>\n",
       "<table border=\"1\" class=\"dataframe\">\n",
       "  <thead>\n",
       "    <tr style=\"text-align: right;\">\n",
       "      <th></th>\n",
       "      <th>Qualification</th>\n",
       "      <th>Experience</th>\n",
       "      <th>Rating</th>\n",
       "      <th>Place</th>\n",
       "      <th>Profile</th>\n",
       "      <th>Miscellaneous_Info</th>\n",
       "    </tr>\n",
       "  </thead>\n",
       "  <tbody>\n",
       "    <tr>\n",
       "      <th>0</th>\n",
       "      <td>BHMS, MD - Homeopathy</td>\n",
       "      <td>24 years experience</td>\n",
       "      <td>100%</td>\n",
       "      <td>Kakkanad, Ernakulam</td>\n",
       "      <td>Homeopath</td>\n",
       "      <td>100% 16 Feedback Kakkanad, Ernakulam</td>\n",
       "    </tr>\n",
       "    <tr>\n",
       "      <th>1</th>\n",
       "      <td>BAMS, MD - Ayurveda Medicine</td>\n",
       "      <td>12 years experience</td>\n",
       "      <td>98%</td>\n",
       "      <td>Whitefield, Bangalore</td>\n",
       "      <td>Ayurveda</td>\n",
       "      <td>98% 76 Feedback Whitefield, Bangalore</td>\n",
       "    </tr>\n",
       "    <tr>\n",
       "      <th>2</th>\n",
       "      <td>MBBS, MS - Otorhinolaryngology</td>\n",
       "      <td>9 years experience</td>\n",
       "      <td>NaN</td>\n",
       "      <td>Mathikere - BEL, Bangalore</td>\n",
       "      <td>ENT Specialist</td>\n",
       "      <td>NaN</td>\n",
       "    </tr>\n",
       "    <tr>\n",
       "      <th>3</th>\n",
       "      <td>BSc - Zoology, BAMS</td>\n",
       "      <td>12 years experience</td>\n",
       "      <td>NaN</td>\n",
       "      <td>Bannerghatta Road, Bangalore</td>\n",
       "      <td>Ayurveda</td>\n",
       "      <td>Bannerghatta Road, Bangalore ₹250 Available on...</td>\n",
       "    </tr>\n",
       "    <tr>\n",
       "      <th>4</th>\n",
       "      <td>BAMS</td>\n",
       "      <td>20 years experience</td>\n",
       "      <td>100%</td>\n",
       "      <td>Keelkattalai, Chennai</td>\n",
       "      <td>Ayurveda</td>\n",
       "      <td>100% 4 Feedback Keelkattalai, Chennai</td>\n",
       "    </tr>\n",
       "  </tbody>\n",
       "</table>\n",
       "</div>"
      ],
      "text/plain": [
       "                    Qualification           Experience Rating  \\\n",
       "0           BHMS, MD - Homeopathy  24 years experience   100%   \n",
       "1    BAMS, MD - Ayurveda Medicine  12 years experience    98%   \n",
       "2  MBBS, MS - Otorhinolaryngology   9 years experience    NaN   \n",
       "3             BSc - Zoology, BAMS  12 years experience    NaN   \n",
       "4                            BAMS  20 years experience   100%   \n",
       "\n",
       "                          Place         Profile  \\\n",
       "0           Kakkanad, Ernakulam       Homeopath   \n",
       "1         Whitefield, Bangalore        Ayurveda   \n",
       "2    Mathikere - BEL, Bangalore  ENT Specialist   \n",
       "3  Bannerghatta Road, Bangalore        Ayurveda   \n",
       "4         Keelkattalai, Chennai        Ayurveda   \n",
       "\n",
       "                                  Miscellaneous_Info  \n",
       "0               100% 16 Feedback Kakkanad, Ernakulam  \n",
       "1              98% 76 Feedback Whitefield, Bangalore  \n",
       "2                                                NaN  \n",
       "3  Bannerghatta Road, Bangalore ₹250 Available on...  \n",
       "4              100% 4 Feedback Keelkattalai, Chennai  "
      ]
     },
     "execution_count": 12,
     "metadata": {},
     "output_type": "execute_result"
    }
   ],
   "source": [
    "#to select categorical features\n",
    "categorical_features=df.select_dtypes(include=[np.object])\n",
    "categorical_features.head()"
   ]
  },
  {
   "cell_type": "code",
   "execution_count": 13,
   "metadata": {},
   "outputs": [
    {
     "data": {
      "text/html": [
       "<div>\n",
       "<style scoped>\n",
       "    .dataframe tbody tr th:only-of-type {\n",
       "        vertical-align: middle;\n",
       "    }\n",
       "\n",
       "    .dataframe tbody tr th {\n",
       "        vertical-align: top;\n",
       "    }\n",
       "\n",
       "    .dataframe thead th {\n",
       "        text-align: right;\n",
       "    }\n",
       "</style>\n",
       "<table border=\"1\" class=\"dataframe\">\n",
       "  <thead>\n",
       "    <tr style=\"text-align: right;\">\n",
       "      <th></th>\n",
       "      <th>Fees</th>\n",
       "    </tr>\n",
       "  </thead>\n",
       "  <tbody>\n",
       "    <tr>\n",
       "      <th>0</th>\n",
       "      <td>100.0</td>\n",
       "    </tr>\n",
       "    <tr>\n",
       "      <th>1</th>\n",
       "      <td>350.0</td>\n",
       "    </tr>\n",
       "    <tr>\n",
       "      <th>2</th>\n",
       "      <td>300.0</td>\n",
       "    </tr>\n",
       "    <tr>\n",
       "      <th>3</th>\n",
       "      <td>250.0</td>\n",
       "    </tr>\n",
       "    <tr>\n",
       "      <th>4</th>\n",
       "      <td>250.0</td>\n",
       "    </tr>\n",
       "  </tbody>\n",
       "</table>\n",
       "</div>"
      ],
      "text/plain": [
       "    Fees\n",
       "0  100.0\n",
       "1  350.0\n",
       "2  300.0\n",
       "3  250.0\n",
       "4  250.0"
      ]
     },
     "execution_count": 13,
     "metadata": {},
     "output_type": "execute_result"
    }
   ],
   "source": [
    "#to select numerical features\n",
    "\n",
    "numerical_features=df.select_dtypes(include=[np.number])\n",
    "numerical_features.head()"
   ]
  },
  {
   "cell_type": "code",
   "execution_count": 14,
   "metadata": {},
   "outputs": [],
   "source": [
    "# dropping miscellaneous info column as an overview it has all same features from other columns and won't affect prediction"
   ]
  },
  {
   "cell_type": "code",
   "execution_count": 18,
   "metadata": {},
   "outputs": [],
   "source": [
    "df.drop(['Miscellaneous_Info'],axis=1,inplace=True)"
   ]
  },
  {
   "cell_type": "code",
   "execution_count": 20,
   "metadata": {},
   "outputs": [
    {
     "data": {
      "text/plain": [
       "Qualification       0\n",
       "Experience          0\n",
       "Rating           4392\n",
       "Place              31\n",
       "Profile             0\n",
       "Fees             1987\n",
       "dtype: int64"
      ]
     },
     "execution_count": 20,
     "metadata": {},
     "output_type": "execute_result"
    }
   ],
   "source": [
    "df.isnull().sum()"
   ]
  },
  {
   "cell_type": "code",
   "execution_count": 21,
   "metadata": {},
   "outputs": [
    {
     "data": {
      "text/plain": [
       "<AxesSubplot:>"
      ]
     },
     "execution_count": 21,
     "metadata": {},
     "output_type": "execute_result"
    },
    {
     "data": {
      "image/png": "[encoded data removed]",
      "text/plain": [
       "<Figure size 432x288 with 2 Axes>"
      ]
     },
     "metadata": {
      "needs_background": "light"
     },
     "output_type": "display_data"
    }
   ],
   "source": [
    "sn.heatmap(df.isnull())"
   ]
  },
  {
   "cell_type": "code",
   "execution_count": 22,
   "metadata": {},
   "outputs": [],
   "source": [
    "# to correct nan,infinity values\n",
    "\n",
    "df=df[~df.isin([np.nan,np.inf,-np.inf]).any(1)]"
   ]
  },
  {
   "cell_type": "code",
   "execution_count": 23,
   "metadata": {},
   "outputs": [
    {
     "data": {
      "text/plain": [
       "<AxesSubplot:>"
      ]
     },
     "execution_count": 23,
     "metadata": {},
     "output_type": "execute_result"
    },
    {
     "data": {
      "image/png": "[encoded data removed]",
      "text/plain": [
       "<Figure size 432x288 with 2 Axes>"
      ]
     },
     "metadata": {
      "needs_background": "light"
     },
     "output_type": "display_data"
    }
   ],
   "source": [
    "sn.heatmap(df.isnull())"
   ]
  },
  {
   "cell_type": "code",
   "execution_count": 24,
   "metadata": {},
   "outputs": [
    {
     "data": {
      "text/plain": [
       "Qualification    0\n",
       "Experience       0\n",
       "Rating           0\n",
       "Place            0\n",
       "Profile          0\n",
       "Fees             0\n",
       "dtype: int64"
      ]
     },
     "execution_count": 24,
     "metadata": {},
     "output_type": "execute_result"
    }
   ],
   "source": [
    "df.isnull().sum()"
   ]
  },
  {
   "cell_type": "code",
   "execution_count": 25,
   "metadata": {},
   "outputs": [
    {
     "data": {
      "text/html": [
       "<div>\n",
       "<style scoped>\n",
       "    .dataframe tbody tr th:only-of-type {\n",
       "        vertical-align: middle;\n",
       "    }\n",
       "\n",
       "    .dataframe tbody tr th {\n",
       "        vertical-align: top;\n",
       "    }\n",
       "\n",
       "    .dataframe thead th {\n",
       "        text-align: right;\n",
       "    }\n",
       "</style>\n",
       "<table border=\"1\" class=\"dataframe\">\n",
       "  <thead>\n",
       "    <tr style=\"text-align: right;\">\n",
       "      <th></th>\n",
       "      <th>Qualification</th>\n",
       "      <th>Experience</th>\n",
       "      <th>Rating</th>\n",
       "      <th>Place</th>\n",
       "      <th>Profile</th>\n",
       "      <th>Fees</th>\n",
       "    </tr>\n",
       "  </thead>\n",
       "  <tbody>\n",
       "    <tr>\n",
       "      <th>0</th>\n",
       "      <td>BHMS, MD - Homeopathy</td>\n",
       "      <td>24 years experience</td>\n",
       "      <td>100%</td>\n",
       "      <td>Kakkanad, Ernakulam</td>\n",
       "      <td>Homeopath</td>\n",
       "      <td>100.0</td>\n",
       "    </tr>\n",
       "    <tr>\n",
       "      <th>1</th>\n",
       "      <td>BAMS, MD - Ayurveda Medicine</td>\n",
       "      <td>12 years experience</td>\n",
       "      <td>98%</td>\n",
       "      <td>Whitefield, Bangalore</td>\n",
       "      <td>Ayurveda</td>\n",
       "      <td>350.0</td>\n",
       "    </tr>\n",
       "    <tr>\n",
       "      <th>4</th>\n",
       "      <td>BAMS</td>\n",
       "      <td>20 years experience</td>\n",
       "      <td>100%</td>\n",
       "      <td>Keelkattalai, Chennai</td>\n",
       "      <td>Ayurveda</td>\n",
       "      <td>250.0</td>\n",
       "    </tr>\n",
       "    <tr>\n",
       "      <th>7</th>\n",
       "      <td>BDS</td>\n",
       "      <td>10 years experience</td>\n",
       "      <td>99%</td>\n",
       "      <td>Arekere, Bangalore</td>\n",
       "      <td>Dentist</td>\n",
       "      <td>200.0</td>\n",
       "    </tr>\n",
       "    <tr>\n",
       "      <th>12</th>\n",
       "      <td>BDS, MDS</td>\n",
       "      <td>9 years experience</td>\n",
       "      <td>98%</td>\n",
       "      <td>Coimbatore Racecourse, Coimbatore</td>\n",
       "      <td>Dentist</td>\n",
       "      <td>200.0</td>\n",
       "    </tr>\n",
       "  </tbody>\n",
       "</table>\n",
       "</div>"
      ],
      "text/plain": [
       "                   Qualification           Experience Rating  \\\n",
       "0          BHMS, MD - Homeopathy  24 years experience   100%   \n",
       "1   BAMS, MD - Ayurveda Medicine  12 years experience    98%   \n",
       "4                           BAMS  20 years experience   100%   \n",
       "7                            BDS  10 years experience    99%   \n",
       "12                      BDS, MDS   9 years experience    98%   \n",
       "\n",
       "                                Place    Profile   Fees  \n",
       "0                 Kakkanad, Ernakulam  Homeopath  100.0  \n",
       "1               Whitefield, Bangalore   Ayurveda  350.0  \n",
       "4               Keelkattalai, Chennai   Ayurveda  250.0  \n",
       "7                  Arekere, Bangalore    Dentist  200.0  \n",
       "12  Coimbatore Racecourse, Coimbatore    Dentist  200.0  "
      ]
     },
     "execution_count": 25,
     "metadata": {},
     "output_type": "execute_result"
    }
   ],
   "source": [
    "df.head()"
   ]
  },
  {
   "cell_type": "code",
   "execution_count": 26,
   "metadata": {},
   "outputs": [],
   "source": [
    "# need to correct qualifaication,experience,place,misc.info and rating, many string working need to be done\n",
    "# to make experience as only integer \n",
    "\n",
    "df['Experience']=df['Experience'].str.replace('years experience','').astype(int)"
   ]
  },
  {
   "cell_type": "code",
   "execution_count": 27,
   "metadata": {},
   "outputs": [],
   "source": [
    "# in qualification, need to correct regular expressions so importing re library\n",
    "import re"
   ]
  },
  {
   "cell_type": "code",
   "execution_count": 28,
   "metadata": {},
   "outputs": [],
   "source": [
    "def clean_text(text):\n",
    "    text=str(text).lower()\n",
    "    text=re.sub(r'[^a-z]','',text)\n",
    "    text=re.sub(r'\\s+','',text)\n",
    "    return text\n",
    "\n",
    "df['Qualification']=df['Qualification'].apply(clean_text)\n",
    "    "
   ]
  },
  {
   "cell_type": "code",
   "execution_count": 29,
   "metadata": {},
   "outputs": [],
   "source": [
    "# in place column too applying the same function and to treat missing values\n",
    "\n",
    "def clean_place(text):\n",
    "    text=str(text).lower()\n",
    "    text=re.sub(r'[^a-z0-9]','',text)\n",
    "    text=re.sub(r'\\s+','',text)\n",
    "    return text\n",
    "\n",
    "df['Place']=df['Place'].apply(clean_place)"
   ]
  },
  {
   "cell_type": "code",
   "execution_count": 30,
   "metadata": {},
   "outputs": [],
   "source": [
    "# in rating column removing %\n",
    "def clean_rating(text):\n",
    "    text=re.sub(r'%','',str(text))\n",
    "    return text\n",
    "df['Rating']=df['Rating'].apply(clean_rating)"
   ]
  },
  {
   "cell_type": "code",
   "execution_count": 31,
   "metadata": {},
   "outputs": [
    {
     "data": {
      "text/html": [
       "<div>\n",
       "<style scoped>\n",
       "    .dataframe tbody tr th:only-of-type {\n",
       "        vertical-align: middle;\n",
       "    }\n",
       "\n",
       "    .dataframe tbody tr th {\n",
       "        vertical-align: top;\n",
       "    }\n",
       "\n",
       "    .dataframe thead th {\n",
       "        text-align: right;\n",
       "    }\n",
       "</style>\n",
       "<table border=\"1\" class=\"dataframe\">\n",
       "  <thead>\n",
       "    <tr style=\"text-align: right;\">\n",
       "      <th></th>\n",
       "      <th>Qualification</th>\n",
       "      <th>Experience</th>\n",
       "      <th>Rating</th>\n",
       "      <th>Place</th>\n",
       "      <th>Profile</th>\n",
       "      <th>Fees</th>\n",
       "    </tr>\n",
       "  </thead>\n",
       "  <tbody>\n",
       "    <tr>\n",
       "      <th>0</th>\n",
       "      <td>bhmsmdhomeopathy</td>\n",
       "      <td>24</td>\n",
       "      <td>100</td>\n",
       "      <td>kakkanadernakulam</td>\n",
       "      <td>Homeopath</td>\n",
       "      <td>100.0</td>\n",
       "    </tr>\n",
       "    <tr>\n",
       "      <th>1</th>\n",
       "      <td>bamsmdayurvedamedicine</td>\n",
       "      <td>12</td>\n",
       "      <td>98</td>\n",
       "      <td>whitefieldbangalore</td>\n",
       "      <td>Ayurveda</td>\n",
       "      <td>350.0</td>\n",
       "    </tr>\n",
       "    <tr>\n",
       "      <th>4</th>\n",
       "      <td>bams</td>\n",
       "      <td>20</td>\n",
       "      <td>100</td>\n",
       "      <td>keelkattalaichennai</td>\n",
       "      <td>Ayurveda</td>\n",
       "      <td>250.0</td>\n",
       "    </tr>\n",
       "    <tr>\n",
       "      <th>7</th>\n",
       "      <td>bds</td>\n",
       "      <td>10</td>\n",
       "      <td>99</td>\n",
       "      <td>arekerebangalore</td>\n",
       "      <td>Dentist</td>\n",
       "      <td>200.0</td>\n",
       "    </tr>\n",
       "    <tr>\n",
       "      <th>12</th>\n",
       "      <td>bdsmds</td>\n",
       "      <td>9</td>\n",
       "      <td>98</td>\n",
       "      <td>coimbatoreracecoursecoimbatore</td>\n",
       "      <td>Dentist</td>\n",
       "      <td>200.0</td>\n",
       "    </tr>\n",
       "  </tbody>\n",
       "</table>\n",
       "</div>"
      ],
      "text/plain": [
       "             Qualification  Experience Rating                           Place  \\\n",
       "0         bhmsmdhomeopathy          24    100               kakkanadernakulam   \n",
       "1   bamsmdayurvedamedicine          12     98             whitefieldbangalore   \n",
       "4                     bams          20    100             keelkattalaichennai   \n",
       "7                      bds          10     99                arekerebangalore   \n",
       "12                  bdsmds           9     98  coimbatoreracecoursecoimbatore   \n",
       "\n",
       "      Profile   Fees  \n",
       "0   Homeopath  100.0  \n",
       "1    Ayurveda  350.0  \n",
       "4    Ayurveda  250.0  \n",
       "7     Dentist  200.0  \n",
       "12    Dentist  200.0  "
      ]
     },
     "execution_count": 31,
     "metadata": {},
     "output_type": "execute_result"
    }
   ],
   "source": [
    "df.head()"
   ]
  },
  {
   "cell_type": "code",
   "execution_count": 32,
   "metadata": {},
   "outputs": [],
   "source": [
    "# finding relationship between income and other features"
   ]
  },
  {
   "cell_type": "code",
   "execution_count": 33,
   "metadata": {},
   "outputs": [
    {
     "data": {
      "text/plain": [
       "<AxesSubplot:xlabel='count', ylabel='Qualification'>"
      ]
     },
     "execution_count": 33,
     "metadata": {},
     "output_type": "execute_result"
    },
    {
     "data": {
      "image/png": "[encoded data removed]",
      "text/plain": [
       "<Figure size 432x288 with 1 Axes>"
      ]
     },
     "metadata": {
      "needs_background": "light"
     },
     "output_type": "display_data"
    }
   ],
   "source": [
    "sn.countplot(y='Qualification',hue='Fees',data=df,)"
   ]
  },
  {
   "cell_type": "code",
   "execution_count": 34,
   "metadata": {},
   "outputs": [
    {
     "data": {
      "text/plain": [
       "<AxesSubplot:xlabel='count', ylabel='Experience'>"
      ]
     },
     "execution_count": 34,
     "metadata": {},
     "output_type": "execute_result"
    },
    {
     "data": {
      "image/png": "[encoded data removed]",
      "text/plain": [
       "<Figure size 432x288 with 1 Axes>"
      ]
     },
     "metadata": {
      "needs_background": "light"
     },
     "output_type": "display_data"
    }
   ],
   "source": [
    "sn.countplot(y='Experience',hue='Fees',data=df,)"
   ]
  },
  {
   "cell_type": "code",
   "execution_count": 35,
   "metadata": {},
   "outputs": [
    {
     "data": {
      "text/plain": [
       "<AxesSubplot:xlabel='count', ylabel='Rating'>"
      ]
     },
     "execution_count": 35,
     "metadata": {},
     "output_type": "execute_result"
    },
    {
     "data": {
      "image/png": "[encoded data removed]",
      "text/plain": [
       "<Figure size 432x288 with 1 Axes>"
      ]
     },
     "metadata": {
      "needs_background": "light"
     },
     "output_type": "display_data"
    }
   ],
   "source": [
    "sn.countplot(y='Rating',hue='Fees',data=df,)"
   ]
  },
  {
   "cell_type": "code",
   "execution_count": 36,
   "metadata": {},
   "outputs": [
    {
     "data": {
      "text/plain": [
       "<AxesSubplot:xlabel='count', ylabel='Profile'>"
      ]
     },
     "execution_count": 36,
     "metadata": {},
     "output_type": "execute_result"
    },
    {
     "data": {
      "image/png": "[encoded data removed]",
      "text/plain": [
       "<Figure size 432x288 with 1 Axes>"
      ]
     },
     "metadata": {
      "needs_background": "light"
     },
     "output_type": "display_data"
    }
   ],
   "source": [
    "sn.countplot(y='Profile',hue='Fees',data=df,)"
   ]
  },
  {
   "cell_type": "code",
   "execution_count": 37,
   "metadata": {},
   "outputs": [
    {
     "data": {
      "text/plain": [
       "bds                                                                          248\n",
       "mbbsmddermatology                                                            121\n",
       "bhms                                                                         117\n",
       "mbbsmsent                                                                    100\n",
       "bams                                                                          83\n",
       "                                                                            ... \n",
       "mdayurvedamedicine                                                             1\n",
       "mdsprosthodonticsbdscertificateindentalimplants                                1\n",
       "msentmbbsmsotorhinolaryngology                                                 1\n",
       "mbbsdiplomainotorhinolaryngologydlodnbfellowshipinheadneckoncologysurgery      1\n",
       "mdacupuncturephdayurvedabemsmbbs                                               1\n",
       "Name: Qualification, Length: 862, dtype: int64"
      ]
     },
     "execution_count": 37,
     "metadata": {},
     "output_type": "execute_result"
    }
   ],
   "source": [
    "df['Qualification'].value_counts()"
   ]
  },
  {
   "cell_type": "code",
   "execution_count": 38,
   "metadata": {},
   "outputs": [
    {
     "data": {
      "text/plain": [
       "9     173\n",
       "12    163\n",
       "10    148\n",
       "11    141\n",
       "19    140\n",
       "14    135\n",
       "13    131\n",
       "15    114\n",
       "8     105\n",
       "7     103\n",
       "18    102\n",
       "17    100\n",
       "16     96\n",
       "21     87\n",
       "20     78\n",
       "22     75\n",
       "6      70\n",
       "5      65\n",
       "23     65\n",
       "24     47\n",
       "28     40\n",
       "25     39\n",
       "27     36\n",
       "29     29\n",
       "26     27\n",
       "33     26\n",
       "38     26\n",
       "37     24\n",
       "34     24\n",
       "31     23\n",
       "32     23\n",
       "30     21\n",
       "4      18\n",
       "35     17\n",
       "40     16\n",
       "36     14\n",
       "3      14\n",
       "39     12\n",
       "0      12\n",
       "46     11\n",
       "41     11\n",
       "44      8\n",
       "2       8\n",
       "43      8\n",
       "45      8\n",
       "42      6\n",
       "47      5\n",
       "48      3\n",
       "50      3\n",
       "49      3\n",
       "51      2\n",
       "53      1\n",
       "52      1\n",
       "58      1\n",
       "56      1\n",
       "Name: Experience, dtype: int64"
      ]
     },
     "execution_count": 38,
     "metadata": {},
     "output_type": "execute_result"
    }
   ],
   "source": [
    "df['Experience'].value_counts()"
   ]
  },
  {
   "cell_type": "code",
   "execution_count": 39,
   "metadata": {},
   "outputs": [
    {
     "data": {
      "text/plain": [
       "100    684\n",
       "98     290\n",
       "99     259\n",
       "97     241\n",
       "96     220\n",
       "95     178\n",
       "94     115\n",
       "93     109\n",
       "92      66\n",
       "90      66\n",
       "91      60\n",
       "89      42\n",
       "88      41\n",
       "85      27\n",
       "82      23\n",
       "83      21\n",
       "86      21\n",
       "80      19\n",
       "77      16\n",
       "87      14\n",
       "79      13\n",
       "84      13\n",
       "67      12\n",
       "81      12\n",
       "76       9\n",
       "71       9\n",
       "75       8\n",
       "73       8\n",
       "60       7\n",
       "74       7\n",
       "78       6\n",
       "68       5\n",
       "56       5\n",
       "69       4\n",
       "70       4\n",
       "72       3\n",
       "57       3\n",
       "64       2\n",
       "33       2\n",
       "62       2\n",
       "55       2\n",
       "63       2\n",
       "48       1\n",
       "47       1\n",
       "45       1\n",
       "7        1\n",
       "36       1\n",
       "58       1\n",
       "53       1\n",
       "65       1\n",
       "40       1\n",
       "Name: Rating, dtype: int64"
      ]
     },
     "execution_count": 39,
     "metadata": {},
     "output_type": "execute_result"
    }
   ],
   "source": [
    "df['Rating'].value_counts()"
   ]
  },
  {
   "cell_type": "code",
   "execution_count": 40,
   "metadata": {},
   "outputs": [
    {
     "data": {
      "text/plain": [
       "Dentist             881\n",
       "Dermatologists      638\n",
       "General Medicine    390\n",
       "ENT Specialist      304\n",
       "Homeopath           260\n",
       "Ayurveda            186\n",
       "Name: Profile, dtype: int64"
      ]
     },
     "execution_count": 40,
     "metadata": {},
     "output_type": "execute_result"
    }
   ],
   "source": [
    "df['Profile'].value_counts()"
   ]
  },
  {
   "cell_type": "code",
   "execution_count": 41,
   "metadata": {},
   "outputs": [
    {
     "data": {
      "text/plain": [
       "<AxesSubplot:xlabel='Profile', ylabel='count'>"
      ]
     },
     "execution_count": 41,
     "metadata": {},
     "output_type": "execute_result"
    },
    {
     "data": {
      "image/png": "[encoded data removed]",
      "text/plain": [
       "<Figure size 432x288 with 1 Axes>"
      ]
     },
     "metadata": {
      "needs_background": "light"
     },
     "output_type": "display_data"
    }
   ],
   "source": [
    "sn.countplot(df['Profile'])"
   ]
  },
  {
   "cell_type": "code",
   "execution_count": 42,
   "metadata": {},
   "outputs": [],
   "source": [
    "# converting categorical values into numeric\n",
    "\n",
    "\n",
    "from sklearn.preprocessing import LabelEncoder\n",
    "LE=LabelEncoder()\n",
    "\n",
    "df['Qualification']=LE.fit_transform(df['Qualification'])\n",
    "df['Place']=LE.fit_transform(df['Place'])\n",
    "df['Profile']=LE.fit_transform(df['Profile'])\n"
   ]
  },
  {
   "cell_type": "code",
   "execution_count": 43,
   "metadata": {},
   "outputs": [
    {
     "data": {
      "text/html": [
       "<div>\n",
       "<style scoped>\n",
       "    .dataframe tbody tr th:only-of-type {\n",
       "        vertical-align: middle;\n",
       "    }\n",
       "\n",
       "    .dataframe tbody tr th {\n",
       "        vertical-align: top;\n",
       "    }\n",
       "\n",
       "    .dataframe thead th {\n",
       "        text-align: right;\n",
       "    }\n",
       "</style>\n",
       "<table border=\"1\" class=\"dataframe\">\n",
       "  <thead>\n",
       "    <tr style=\"text-align: right;\">\n",
       "      <th></th>\n",
       "      <th>Qualification</th>\n",
       "      <th>Experience</th>\n",
       "      <th>Rating</th>\n",
       "      <th>Place</th>\n",
       "      <th>Profile</th>\n",
       "      <th>Fees</th>\n",
       "    </tr>\n",
       "  </thead>\n",
       "  <tbody>\n",
       "    <tr>\n",
       "      <th>0</th>\n",
       "      <td>263</td>\n",
       "      <td>24</td>\n",
       "      <td>100</td>\n",
       "      <td>204</td>\n",
       "      <td>5</td>\n",
       "      <td>100.0</td>\n",
       "    </tr>\n",
       "    <tr>\n",
       "      <th>1</th>\n",
       "      <td>24</td>\n",
       "      <td>12</td>\n",
       "      <td>98</td>\n",
       "      <td>560</td>\n",
       "      <td>0</td>\n",
       "      <td>350.0</td>\n",
       "    </tr>\n",
       "    <tr>\n",
       "      <th>4</th>\n",
       "      <td>0</td>\n",
       "      <td>20</td>\n",
       "      <td>100</td>\n",
       "      <td>227</td>\n",
       "      <td>0</td>\n",
       "      <td>250.0</td>\n",
       "    </tr>\n",
       "    <tr>\n",
       "      <th>7</th>\n",
       "      <td>51</td>\n",
       "      <td>10</td>\n",
       "      <td>99</td>\n",
       "      <td>25</td>\n",
       "      <td>1</td>\n",
       "      <td>200.0</td>\n",
       "    </tr>\n",
       "    <tr>\n",
       "      <th>12</th>\n",
       "      <td>112</td>\n",
       "      <td>9</td>\n",
       "      <td>98</td>\n",
       "      <td>94</td>\n",
       "      <td>1</td>\n",
       "      <td>200.0</td>\n",
       "    </tr>\n",
       "  </tbody>\n",
       "</table>\n",
       "</div>"
      ],
      "text/plain": [
       "    Qualification  Experience Rating  Place  Profile   Fees\n",
       "0             263          24    100    204        5  100.0\n",
       "1              24          12     98    560        0  350.0\n",
       "4               0          20    100    227        0  250.0\n",
       "7              51          10     99     25        1  200.0\n",
       "12            112           9     98     94        1  200.0"
      ]
     },
     "execution_count": 43,
     "metadata": {},
     "output_type": "execute_result"
    }
   ],
   "source": [
    "df.head()"
   ]
  },
  {
   "cell_type": "code",
   "execution_count": 44,
   "metadata": {},
   "outputs": [],
   "source": [
    "collist=df.columns.values\n",
    "ncol=15\n",
    "nrows=10"
   ]
  },
  {
   "cell_type": "code",
   "execution_count": 45,
   "metadata": {},
   "outputs": [
    {
     "data": {
      "image/png": "[encoded data removed]",
      "text/plain": [
       "<Figure size 1440x1152 with 6 Axes>"
      ]
     },
     "metadata": {
      "needs_background": "light"
     },
     "output_type": "display_data"
    }
   ],
   "source": [
    "# snapshot of distribution curves of all input datas\n",
    "\n",
    "plt.figure(figsize=(20,16))\n",
    "for i in range(0,len(collist)):\n",
    "    plt.subplot(nrows,ncol,i+1)\n",
    "    sn.distplot(df[collist[i]])"
   ]
  },
  {
   "cell_type": "code",
   "execution_count": 46,
   "metadata": {},
   "outputs": [
    {
     "data": {
      "text/plain": [
       "Qualification       AxesSubplot(0.125,0.657941;0.133621x0.222059)\n",
       "Experience       AxesSubplot(0.285345,0.657941;0.133621x0.222059)\n",
       "Place             AxesSubplot(0.44569,0.657941;0.133621x0.222059)\n",
       "Profile          AxesSubplot(0.606034,0.657941;0.133621x0.222059)\n",
       "Fees             AxesSubplot(0.766379,0.657941;0.133621x0.222059)\n",
       "dtype: object"
      ]
     },
     "execution_count": 46,
     "metadata": {},
     "output_type": "execute_result"
    },
    {
     "data": {
      "image/png": "[encoded data removed]",
      "text/plain": [
       "<Figure size 432x288 with 15 Axes>"
      ]
     },
     "metadata": {
      "needs_background": "light"
     },
     "output_type": "display_data"
    }
   ],
   "source": [
    "df.plot(kind='box',subplots=True,layout=(3,5))"
   ]
  },
  {
   "cell_type": "code",
   "execution_count": 47,
   "metadata": {},
   "outputs": [
    {
     "data": {
      "text/html": [
       "<div>\n",
       "<style scoped>\n",
       "    .dataframe tbody tr th:only-of-type {\n",
       "        vertical-align: middle;\n",
       "    }\n",
       "\n",
       "    .dataframe tbody tr th {\n",
       "        vertical-align: top;\n",
       "    }\n",
       "\n",
       "    .dataframe thead th {\n",
       "        text-align: right;\n",
       "    }\n",
       "</style>\n",
       "<table border=\"1\" class=\"dataframe\">\n",
       "  <thead>\n",
       "    <tr style=\"text-align: right;\">\n",
       "      <th></th>\n",
       "      <th>Qualification</th>\n",
       "      <th>Experience</th>\n",
       "      <th>Place</th>\n",
       "      <th>Profile</th>\n",
       "      <th>Fees</th>\n",
       "    </tr>\n",
       "  </thead>\n",
       "  <tbody>\n",
       "    <tr>\n",
       "      <th>count</th>\n",
       "      <td>2659.000000</td>\n",
       "      <td>2659.000000</td>\n",
       "      <td>2659.000000</td>\n",
       "      <td>2659.000000</td>\n",
       "      <td>2659.000000</td>\n",
       "    </tr>\n",
       "    <tr>\n",
       "      <th>mean</th>\n",
       "      <td>375.066942</td>\n",
       "      <td>17.067695</td>\n",
       "      <td>270.673561</td>\n",
       "      <td>2.229786</td>\n",
       "      <td>342.890184</td>\n",
       "    </tr>\n",
       "    <tr>\n",
       "      <th>std</th>\n",
       "      <td>253.061070</td>\n",
       "      <td>9.441073</td>\n",
       "      <td>166.095117</td>\n",
       "      <td>1.462936</td>\n",
       "      <td>192.858008</td>\n",
       "    </tr>\n",
       "    <tr>\n",
       "      <th>min</th>\n",
       "      <td>0.000000</td>\n",
       "      <td>0.000000</td>\n",
       "      <td>0.000000</td>\n",
       "      <td>0.000000</td>\n",
       "      <td>50.000000</td>\n",
       "    </tr>\n",
       "    <tr>\n",
       "      <th>25%</th>\n",
       "      <td>149.000000</td>\n",
       "      <td>10.000000</td>\n",
       "      <td>131.000000</td>\n",
       "      <td>1.000000</td>\n",
       "      <td>200.000000</td>\n",
       "    </tr>\n",
       "    <tr>\n",
       "      <th>50%</th>\n",
       "      <td>365.000000</td>\n",
       "      <td>15.000000</td>\n",
       "      <td>261.000000</td>\n",
       "      <td>2.000000</td>\n",
       "      <td>300.000000</td>\n",
       "    </tr>\n",
       "    <tr>\n",
       "      <th>75%</th>\n",
       "      <td>581.000000</td>\n",
       "      <td>21.000000</td>\n",
       "      <td>411.000000</td>\n",
       "      <td>3.000000</td>\n",
       "      <td>500.000000</td>\n",
       "    </tr>\n",
       "    <tr>\n",
       "      <th>max</th>\n",
       "      <td>861.000000</td>\n",
       "      <td>58.000000</td>\n",
       "      <td>567.000000</td>\n",
       "      <td>5.000000</td>\n",
       "      <td>950.000000</td>\n",
       "    </tr>\n",
       "  </tbody>\n",
       "</table>\n",
       "</div>"
      ],
      "text/plain": [
       "       Qualification   Experience        Place      Profile         Fees\n",
       "count    2659.000000  2659.000000  2659.000000  2659.000000  2659.000000\n",
       "mean      375.066942    17.067695   270.673561     2.229786   342.890184\n",
       "std       253.061070     9.441073   166.095117     1.462936   192.858008\n",
       "min         0.000000     0.000000     0.000000     0.000000    50.000000\n",
       "25%       149.000000    10.000000   131.000000     1.000000   200.000000\n",
       "50%       365.000000    15.000000   261.000000     2.000000   300.000000\n",
       "75%       581.000000    21.000000   411.000000     3.000000   500.000000\n",
       "max       861.000000    58.000000   567.000000     5.000000   950.000000"
      ]
     },
     "execution_count": 47,
     "metadata": {},
     "output_type": "execute_result"
    }
   ],
   "source": [
    "df.describe()"
   ]
  },
  {
   "cell_type": "code",
   "execution_count": 48,
   "metadata": {},
   "outputs": [],
   "source": [
    "cor=df.corr()"
   ]
  },
  {
   "cell_type": "code",
   "execution_count": 49,
   "metadata": {},
   "outputs": [
    {
     "data": {
      "text/html": [
       "<div>\n",
       "<style scoped>\n",
       "    .dataframe tbody tr th:only-of-type {\n",
       "        vertical-align: middle;\n",
       "    }\n",
       "\n",
       "    .dataframe tbody tr th {\n",
       "        vertical-align: top;\n",
       "    }\n",
       "\n",
       "    .dataframe thead th {\n",
       "        text-align: right;\n",
       "    }\n",
       "</style>\n",
       "<table border=\"1\" class=\"dataframe\">\n",
       "  <thead>\n",
       "    <tr style=\"text-align: right;\">\n",
       "      <th></th>\n",
       "      <th>Qualification</th>\n",
       "      <th>Experience</th>\n",
       "      <th>Place</th>\n",
       "      <th>Profile</th>\n",
       "      <th>Fees</th>\n",
       "    </tr>\n",
       "  </thead>\n",
       "  <tbody>\n",
       "    <tr>\n",
       "      <th>Qualification</th>\n",
       "      <td>1.000000</td>\n",
       "      <td>0.120197</td>\n",
       "      <td>-0.008495</td>\n",
       "      <td>0.426416</td>\n",
       "      <td>0.252836</td>\n",
       "    </tr>\n",
       "    <tr>\n",
       "      <th>Experience</th>\n",
       "      <td>0.120197</td>\n",
       "      <td>1.000000</td>\n",
       "      <td>-0.004259</td>\n",
       "      <td>0.202379</td>\n",
       "      <td>0.059045</td>\n",
       "    </tr>\n",
       "    <tr>\n",
       "      <th>Place</th>\n",
       "      <td>-0.008495</td>\n",
       "      <td>-0.004259</td>\n",
       "      <td>1.000000</td>\n",
       "      <td>-0.003752</td>\n",
       "      <td>-0.046546</td>\n",
       "    </tr>\n",
       "    <tr>\n",
       "      <th>Profile</th>\n",
       "      <td>0.426416</td>\n",
       "      <td>0.202379</td>\n",
       "      <td>-0.003752</td>\n",
       "      <td>1.000000</td>\n",
       "      <td>0.156301</td>\n",
       "    </tr>\n",
       "    <tr>\n",
       "      <th>Fees</th>\n",
       "      <td>0.252836</td>\n",
       "      <td>0.059045</td>\n",
       "      <td>-0.046546</td>\n",
       "      <td>0.156301</td>\n",
       "      <td>1.000000</td>\n",
       "    </tr>\n",
       "  </tbody>\n",
       "</table>\n",
       "</div>"
      ],
      "text/plain": [
       "               Qualification  Experience     Place   Profile      Fees\n",
       "Qualification       1.000000    0.120197 -0.008495  0.426416  0.252836\n",
       "Experience          0.120197    1.000000 -0.004259  0.202379  0.059045\n",
       "Place              -0.008495   -0.004259  1.000000 -0.003752 -0.046546\n",
       "Profile             0.426416    0.202379 -0.003752  1.000000  0.156301\n",
       "Fees                0.252836    0.059045 -0.046546  0.156301  1.000000"
      ]
     },
     "execution_count": 49,
     "metadata": {},
     "output_type": "execute_result"
    }
   ],
   "source": [
    "cor"
   ]
  },
  {
   "cell_type": "code",
   "execution_count": 51,
   "metadata": {},
   "outputs": [
    {
     "data": {
      "text/plain": [
       "<AxesSubplot:>"
      ]
     },
     "execution_count": 51,
     "metadata": {},
     "output_type": "execute_result"
    },
    {
     "data": {
      "image/png": "[encoded data removed]",
      "text/plain": [
       "<Figure size 576x432 with 2 Axes>"
      ]
     },
     "metadata": {
      "needs_background": "light"
     },
     "output_type": "display_data"
    }
   ],
   "source": [
    "plt.figure(figsize=(8,6))\n",
    "sn.heatmap(cor,annot=True,linewidth=3,linecolor='blue')"
   ]
  },
  {
   "cell_type": "code",
   "execution_count": null,
   "metadata": {},
   "outputs": [],
   "source": [
    "# qualification and profile are more corelated with fees"
   ]
  },
  {
   "cell_type": "code",
   "execution_count": 55,
   "metadata": {},
   "outputs": [
    {
     "data": {
      "text/plain": [
       "Qualification    0.182249\n",
       "Experience       1.120093\n",
       "Rating          -3.277801\n",
       "Place            0.122053\n",
       "Profile          0.495594\n",
       "Fees             0.562546\n",
       "dtype: float64"
      ]
     },
     "execution_count": 55,
     "metadata": {},
     "output_type": "execute_result"
    }
   ],
   "source": [
    "df.skew()"
   ]
  },
  {
   "cell_type": "code",
   "execution_count": 56,
   "metadata": {},
   "outputs": [],
   "source": [
    "# to standardise the data using standard scaler\n",
    "from sklearn.preprocessing import StandardScaler\n",
    "scaler=StandardScaler()\n",
    "scaledx=scaler.fit_transform(df)"
   ]
  },
  {
   "cell_type": "code",
   "execution_count": 57,
   "metadata": {},
   "outputs": [],
   "source": [
    "scaledx=df"
   ]
  },
  {
   "cell_type": "code",
   "execution_count": 58,
   "metadata": {},
   "outputs": [
    {
     "data": {
      "text/html": [
       "<div>\n",
       "<style scoped>\n",
       "    .dataframe tbody tr th:only-of-type {\n",
       "        vertical-align: middle;\n",
       "    }\n",
       "\n",
       "    .dataframe tbody tr th {\n",
       "        vertical-align: top;\n",
       "    }\n",
       "\n",
       "    .dataframe thead th {\n",
       "        text-align: right;\n",
       "    }\n",
       "</style>\n",
       "<table border=\"1\" class=\"dataframe\">\n",
       "  <thead>\n",
       "    <tr style=\"text-align: right;\">\n",
       "      <th></th>\n",
       "      <th>Qualification</th>\n",
       "      <th>Experience</th>\n",
       "      <th>Rating</th>\n",
       "      <th>Place</th>\n",
       "      <th>Profile</th>\n",
       "      <th>Fees</th>\n",
       "    </tr>\n",
       "  </thead>\n",
       "  <tbody>\n",
       "    <tr>\n",
       "      <th>0</th>\n",
       "      <td>263</td>\n",
       "      <td>24</td>\n",
       "      <td>100</td>\n",
       "      <td>204</td>\n",
       "      <td>5</td>\n",
       "      <td>100.0</td>\n",
       "    </tr>\n",
       "    <tr>\n",
       "      <th>1</th>\n",
       "      <td>24</td>\n",
       "      <td>12</td>\n",
       "      <td>98</td>\n",
       "      <td>560</td>\n",
       "      <td>0</td>\n",
       "      <td>350.0</td>\n",
       "    </tr>\n",
       "    <tr>\n",
       "      <th>4</th>\n",
       "      <td>0</td>\n",
       "      <td>20</td>\n",
       "      <td>100</td>\n",
       "      <td>227</td>\n",
       "      <td>0</td>\n",
       "      <td>250.0</td>\n",
       "    </tr>\n",
       "    <tr>\n",
       "      <th>7</th>\n",
       "      <td>51</td>\n",
       "      <td>10</td>\n",
       "      <td>99</td>\n",
       "      <td>25</td>\n",
       "      <td>1</td>\n",
       "      <td>200.0</td>\n",
       "    </tr>\n",
       "    <tr>\n",
       "      <th>12</th>\n",
       "      <td>112</td>\n",
       "      <td>9</td>\n",
       "      <td>98</td>\n",
       "      <td>94</td>\n",
       "      <td>1</td>\n",
       "      <td>200.0</td>\n",
       "    </tr>\n",
       "    <tr>\n",
       "      <th>...</th>\n",
       "      <td>...</td>\n",
       "      <td>...</td>\n",
       "      <td>...</td>\n",
       "      <td>...</td>\n",
       "      <td>...</td>\n",
       "      <td>...</td>\n",
       "    </tr>\n",
       "    <tr>\n",
       "      <th>5953</th>\n",
       "      <td>774</td>\n",
       "      <td>35</td>\n",
       "      <td>92</td>\n",
       "      <td>297</td>\n",
       "      <td>5</td>\n",
       "      <td>100.0</td>\n",
       "    </tr>\n",
       "    <tr>\n",
       "      <th>5956</th>\n",
       "      <td>666</td>\n",
       "      <td>19</td>\n",
       "      <td>98</td>\n",
       "      <td>50</td>\n",
       "      <td>3</td>\n",
       "      <td>300.0</td>\n",
       "    </tr>\n",
       "    <tr>\n",
       "      <th>5958</th>\n",
       "      <td>361</td>\n",
       "      <td>41</td>\n",
       "      <td>97</td>\n",
       "      <td>147</td>\n",
       "      <td>4</td>\n",
       "      <td>600.0</td>\n",
       "    </tr>\n",
       "    <tr>\n",
       "      <th>5959</th>\n",
       "      <td>581</td>\n",
       "      <td>15</td>\n",
       "      <td>90</td>\n",
       "      <td>550</td>\n",
       "      <td>4</td>\n",
       "      <td>100.0</td>\n",
       "    </tr>\n",
       "    <tr>\n",
       "      <th>5960</th>\n",
       "      <td>157</td>\n",
       "      <td>17</td>\n",
       "      <td>100</td>\n",
       "      <td>401</td>\n",
       "      <td>1</td>\n",
       "      <td>200.0</td>\n",
       "    </tr>\n",
       "  </tbody>\n",
       "</table>\n",
       "<p>2659 rows × 6 columns</p>\n",
       "</div>"
      ],
      "text/plain": [
       "      Qualification  Experience Rating  Place  Profile   Fees\n",
       "0               263          24    100    204        5  100.0\n",
       "1                24          12     98    560        0  350.0\n",
       "4                 0          20    100    227        0  250.0\n",
       "7                51          10     99     25        1  200.0\n",
       "12              112           9     98     94        1  200.0\n",
       "...             ...         ...    ...    ...      ...    ...\n",
       "5953            774          35     92    297        5  100.0\n",
       "5956            666          19     98     50        3  300.0\n",
       "5958            361          41     97    147        4  600.0\n",
       "5959            581          15     90    550        4  100.0\n",
       "5960            157          17    100    401        1  200.0\n",
       "\n",
       "[2659 rows x 6 columns]"
      ]
     },
     "execution_count": 58,
     "metadata": {},
     "output_type": "execute_result"
    }
   ],
   "source": [
    "df"
   ]
  },
  {
   "cell_type": "code",
   "execution_count": 60,
   "metadata": {},
   "outputs": [],
   "source": [
    "# Model Building\n",
    "\n",
    "x=df.drop('Fees',axis=1)\n",
    "y=df['Fees']"
   ]
  },
  {
   "cell_type": "code",
   "execution_count": 61,
   "metadata": {},
   "outputs": [
    {
     "data": {
      "text/html": [
       "<div>\n",
       "<style scoped>\n",
       "    .dataframe tbody tr th:only-of-type {\n",
       "        vertical-align: middle;\n",
       "    }\n",
       "\n",
       "    .dataframe tbody tr th {\n",
       "        vertical-align: top;\n",
       "    }\n",
       "\n",
       "    .dataframe thead th {\n",
       "        text-align: right;\n",
       "    }\n",
       "</style>\n",
       "<table border=\"1\" class=\"dataframe\">\n",
       "  <thead>\n",
       "    <tr style=\"text-align: right;\">\n",
       "      <th></th>\n",
       "      <th>Qualification</th>\n",
       "      <th>Experience</th>\n",
       "      <th>Rating</th>\n",
       "      <th>Place</th>\n",
       "      <th>Profile</th>\n",
       "    </tr>\n",
       "  </thead>\n",
       "  <tbody>\n",
       "    <tr>\n",
       "      <th>0</th>\n",
       "      <td>263</td>\n",
       "      <td>24</td>\n",
       "      <td>100</td>\n",
       "      <td>204</td>\n",
       "      <td>5</td>\n",
       "    </tr>\n",
       "    <tr>\n",
       "      <th>1</th>\n",
       "      <td>24</td>\n",
       "      <td>12</td>\n",
       "      <td>98</td>\n",
       "      <td>560</td>\n",
       "      <td>0</td>\n",
       "    </tr>\n",
       "    <tr>\n",
       "      <th>4</th>\n",
       "      <td>0</td>\n",
       "      <td>20</td>\n",
       "      <td>100</td>\n",
       "      <td>227</td>\n",
       "      <td>0</td>\n",
       "    </tr>\n",
       "    <tr>\n",
       "      <th>7</th>\n",
       "      <td>51</td>\n",
       "      <td>10</td>\n",
       "      <td>99</td>\n",
       "      <td>25</td>\n",
       "      <td>1</td>\n",
       "    </tr>\n",
       "    <tr>\n",
       "      <th>12</th>\n",
       "      <td>112</td>\n",
       "      <td>9</td>\n",
       "      <td>98</td>\n",
       "      <td>94</td>\n",
       "      <td>1</td>\n",
       "    </tr>\n",
       "    <tr>\n",
       "      <th>...</th>\n",
       "      <td>...</td>\n",
       "      <td>...</td>\n",
       "      <td>...</td>\n",
       "      <td>...</td>\n",
       "      <td>...</td>\n",
       "    </tr>\n",
       "    <tr>\n",
       "      <th>5953</th>\n",
       "      <td>774</td>\n",
       "      <td>35</td>\n",
       "      <td>92</td>\n",
       "      <td>297</td>\n",
       "      <td>5</td>\n",
       "    </tr>\n",
       "    <tr>\n",
       "      <th>5956</th>\n",
       "      <td>666</td>\n",
       "      <td>19</td>\n",
       "      <td>98</td>\n",
       "      <td>50</td>\n",
       "      <td>3</td>\n",
       "    </tr>\n",
       "    <tr>\n",
       "      <th>5958</th>\n",
       "      <td>361</td>\n",
       "      <td>41</td>\n",
       "      <td>97</td>\n",
       "      <td>147</td>\n",
       "      <td>4</td>\n",
       "    </tr>\n",
       "    <tr>\n",
       "      <th>5959</th>\n",
       "      <td>581</td>\n",
       "      <td>15</td>\n",
       "      <td>90</td>\n",
       "      <td>550</td>\n",
       "      <td>4</td>\n",
       "    </tr>\n",
       "    <tr>\n",
       "      <th>5960</th>\n",
       "      <td>157</td>\n",
       "      <td>17</td>\n",
       "      <td>100</td>\n",
       "      <td>401</td>\n",
       "      <td>1</td>\n",
       "    </tr>\n",
       "  </tbody>\n",
       "</table>\n",
       "<p>2659 rows × 5 columns</p>\n",
       "</div>"
      ],
      "text/plain": [
       "      Qualification  Experience Rating  Place  Profile\n",
       "0               263          24    100    204        5\n",
       "1                24          12     98    560        0\n",
       "4                 0          20    100    227        0\n",
       "7                51          10     99     25        1\n",
       "12              112           9     98     94        1\n",
       "...             ...         ...    ...    ...      ...\n",
       "5953            774          35     92    297        5\n",
       "5956            666          19     98     50        3\n",
       "5958            361          41     97    147        4\n",
       "5959            581          15     90    550        4\n",
       "5960            157          17    100    401        1\n",
       "\n",
       "[2659 rows x 5 columns]"
      ]
     },
     "execution_count": 61,
     "metadata": {},
     "output_type": "execute_result"
    }
   ],
   "source": [
    "x"
   ]
  },
  {
   "cell_type": "code",
   "execution_count": 62,
   "metadata": {},
   "outputs": [
    {
     "data": {
      "text/plain": [
       "0       100.0\n",
       "1       350.0\n",
       "4       250.0\n",
       "7       200.0\n",
       "12      200.0\n",
       "        ...  \n",
       "5953    100.0\n",
       "5956    300.0\n",
       "5958    600.0\n",
       "5959    100.0\n",
       "5960    200.0\n",
       "Name: Fees, Length: 2659, dtype: float64"
      ]
     },
     "execution_count": 62,
     "metadata": {},
     "output_type": "execute_result"
    }
   ],
   "source": [
    "y"
   ]
  },
  {
   "cell_type": "code",
   "execution_count": 63,
   "metadata": {},
   "outputs": [],
   "source": [
    "x_train,x_test,y_train,y_test=train_test_split(x,y,test_size=0.30,random_state=30)"
   ]
  },
  {
   "cell_type": "code",
   "execution_count": 64,
   "metadata": {},
   "outputs": [],
   "source": [
    "lm=LinearRegression()"
   ]
  },
  {
   "cell_type": "code",
   "execution_count": 65,
   "metadata": {},
   "outputs": [
    {
     "data": {
      "text/plain": [
       "LinearRegression()"
      ]
     },
     "execution_count": 65,
     "metadata": {},
     "output_type": "execute_result"
    }
   ],
   "source": [
    "lm.fit(x_train,y_train)\n",
    "LinearRegression()"
   ]
  },
  {
   "cell_type": "code",
   "execution_count": 66,
   "metadata": {},
   "outputs": [
    {
     "data": {
      "text/plain": [
       "array([ 0.14292492, -0.15853429, -1.35810297, -0.06616508, 10.46909275])"
      ]
     },
     "execution_count": 66,
     "metadata": {},
     "output_type": "execute_result"
    }
   ],
   "source": [
    "lm.coef_"
   ]
  },
  {
   "cell_type": "code",
   "execution_count": 67,
   "metadata": {},
   "outputs": [
    {
     "data": {
      "text/plain": [
       "417.70758716842624"
      ]
     },
     "execution_count": 67,
     "metadata": {},
     "output_type": "execute_result"
    }
   ],
   "source": [
    "lm.intercept_"
   ]
  },
  {
   "cell_type": "code",
   "execution_count": 68,
   "metadata": {},
   "outputs": [
    {
     "data": {
      "text/plain": [
       "0.0663195547725216"
      ]
     },
     "execution_count": 68,
     "metadata": {},
     "output_type": "execute_result"
    }
   ],
   "source": [
    "lm.score(x_train,y_train)"
   ]
  },
  {
   "cell_type": "code",
   "execution_count": 69,
   "metadata": {},
   "outputs": [
    {
     "name": "stdout",
     "output_type": "stream",
     "text": [
      "predicted Fees: [300.38270496 285.67996832 285.8906762  402.22857254 293.06446615\n",
      " 290.2876259  351.9617798  283.69129985 380.21247301 419.42973817\n",
      " 275.09462995 290.04611233 384.71265895 378.05358397 361.31255496\n",
      " 415.78463759 360.37162038 295.28611794 339.16612729 292.541469\n",
      " 319.43006843 367.73303109 369.47698629 336.42379645 372.87495624\n",
      " 274.11531583 352.67973044 330.50581459 376.86376436 408.3684954\n",
      " 370.4986096  351.79073214 354.15516943 396.82927521 388.39433401\n",
      " 320.46170556 278.97339676 414.85264118 295.5763858  289.67726141\n",
      " 388.67149935 370.95234641 342.72701942 371.1562653  343.82209743\n",
      " 386.88422012 394.11888955 329.01495797 411.28578331 280.457499\n",
      " 292.59521667 372.15444979 421.2027381  367.36098363 336.1708051\n",
      " 359.62724135 348.02186302 285.71322544 366.57641351 359.63730544\n",
      " 293.29226356 366.25090085 296.54325451 356.93826434 376.77005349\n",
      " 383.75736921 262.52932083 303.15990479 365.7065008  355.3367526\n",
      " 265.8566817  349.00979532 391.33553726 387.93380414 358.12623374\n",
      " 366.29294902 342.92323715 379.29355313 289.9074172  378.17765699\n",
      " 269.42634457 433.82320353 360.56432045 384.54649913 355.28416681\n",
      " 302.61900389 370.77532577 333.85393814 405.6680835  279.55568076\n",
      " 413.77159657 302.59438427 298.7109186  449.81484277 295.87893706\n",
      " 374.60750243 285.63062961 285.32786375 417.34392652 384.84954037\n",
      " 299.11712905 362.02283034 374.15000989 429.18249604 322.68582854\n",
      " 298.41028756 374.42564812 380.45508264 282.23566436 258.82448878\n",
      " 302.88372034 385.40575005 388.87175768 405.52249324 362.21317413\n",
      " 385.48637505 278.95380447 344.76260914 286.58589727 362.39698784\n",
      " 369.43493244 374.24210492 391.8666823  297.76648672 434.35363559\n",
      " 378.93025816 375.45609072 278.04243232 285.17874513 377.7885984\n",
      " 272.97988789 361.16646797 342.49970099 387.46847396 327.26590654\n",
      " 411.13887117 376.1437386  405.87558185 441.4974432  297.93657136\n",
      " 378.42523526 294.16285573 350.9773503  385.12474093 366.88328227\n",
      " 280.19550229 435.24662277 308.84221886 362.39445439 372.18295091\n",
      " 408.05715147 276.57357565 432.11337443 383.99221182 350.80905382\n",
      " 357.63822008 430.01965179 338.36647715 377.39941397 265.49938344\n",
      " 344.00459697 354.62490134 324.70692538 337.45092508 388.22335242\n",
      " 398.48336696 354.38702434 276.03443415 345.40280325 276.9295345\n",
      " 411.95169181 306.09445179 291.02534852 370.00015935 370.48574924\n",
      " 374.02610156 350.31797202 359.31157261 293.36069489 274.07848352\n",
      " 285.32538671 250.64255538 421.15346613 412.09968402 293.25346348\n",
      " 373.56137913 263.81045506 373.92883857 280.94017002 406.6035\n",
      " 359.7718495  291.6622725  261.51205438 282.62238302 302.97697447\n",
      " 279.0546282  445.44850217 382.68511613 310.05836042 294.64771808\n",
      " 422.20242103 417.6071872  397.68308922 289.18543428 312.62554765\n",
      " 362.03473208 338.35969899 423.50170494 356.03736835 263.61770821\n",
      " 414.99748135 352.81714228 398.23840106 285.24144028 281.05847168\n",
      " 349.30422467 252.00484734 287.01376051 320.68784908 403.26506938\n",
      " 342.40492116 366.81639777 297.36621175 298.07471996 358.43479996\n",
      " 382.55457196 257.64540341 315.98384802 377.86881645 283.93169812\n",
      " 429.63116526 283.19528503 412.47107251 284.75550972 331.47056148\n",
      " 374.92192391 338.13585083 289.7676172  375.82798465 444.11675603\n",
      " 399.43462912 382.25421288 386.25250544 383.68971904 289.16453494\n",
      " 355.53607299 407.51603625 289.41249193 425.16049229 372.860074\n",
      " 438.10740669 368.98467342 353.19870277 423.27084277 409.29447919\n",
      " 372.33003411 295.49682411 274.1182214  339.91882855 415.85740395\n",
      " 263.51312143 342.98173552 421.2949778  356.61513916 276.12347429\n",
      " 363.08862634 389.62396488 291.78542515 417.63696043 346.93450652\n",
      " 361.69141445 383.31305296 410.27864693 367.41552417 295.93532147\n",
      " 403.98835684 400.11069989 339.38874008 320.23437612 409.3266828\n",
      " 397.02661996 244.47152871 263.59435286 290.56790052 367.99017583\n",
      " 306.24355221 398.61178341 371.50530773 309.41293304 353.33771614\n",
      " 289.05800298 328.93166984 292.84316952 352.59103281 285.87175308\n",
      " 337.86213697 274.34896893 305.08071586 411.24929222 356.99404273\n",
      " 416.25170884 362.98074392 370.74365828 339.09814318 275.25758416\n",
      " 286.86792638 357.75857141 364.76147994 371.43319356 270.27460142\n",
      " 376.94211226 383.86219321 455.70382745 357.50970351 364.66850064\n",
      " 409.25908219 291.63709516 349.87672086 365.36955533 410.38127664\n",
      " 311.87668725 371.21398528 376.97778806 344.52629901 385.03758784\n",
      " 407.78918899 360.83344131 420.07896684 297.71989689 264.02109418\n",
      " 339.88795841 386.70369019 350.86677479 392.41486115 282.24779889\n",
      " 373.55819809 362.00555659 285.91433988 326.15308251 384.7986059\n",
      " 338.5405873  275.42981925 284.67057318 385.89294556 367.88887782\n",
      " 270.22782577 272.47392605 348.41392594 387.72106103 385.85403115\n",
      " 350.88168142 394.28402689 391.18972254 337.56332292 271.90898212\n",
      " 292.94798604 291.06915959 287.22706925 273.56482463 361.91309284\n",
      " 365.61926347 374.24828657 341.87539207 408.94948475 344.03001662\n",
      " 370.32921251 397.32000309 414.91064732 378.43776151 384.70629041\n",
      " 364.36447886 433.9080112  311.31401808 278.31174594 276.00990772\n",
      " 385.98986417 284.485809   357.8696758  254.37392568 395.89709027\n",
      " 410.73364535 336.54329963 376.06255286 423.84711659 409.09117243\n",
      " 299.98002348 379.06368364 372.81870578 404.80169325 279.69274694\n",
      " 298.18108416 395.07234789 419.4987913  270.88749985 264.82913542\n",
      " 282.37402011 415.76702174 301.24422411 308.36376653 400.84378748\n",
      " 370.91886128 255.37205736 259.52572533 341.58583714 343.57401901\n",
      " 381.44688572 301.62829069 286.88315244 283.58361129 271.14772295\n",
      " 320.34691166 358.0955394  271.93762245 352.96987732 432.21876558\n",
      " 352.30452948 373.51266574 281.97844748 356.4734162  361.5063309\n",
      " 371.44927941 268.4262533  359.46244419 429.99881222 256.33143933\n",
      " 402.65663232 376.86694271 472.12455924 416.05243475 267.02518737\n",
      " 362.86612155 344.08353025 394.79096843 362.83778877 387.73166071\n",
      " 299.64185015 397.32002556 397.88358204 279.05331867 364.99380543\n",
      " 315.1747311  371.18130472 270.82050962 273.07774457 244.83969602\n",
      " 253.89536964 337.93149271 351.16680492 279.34549266 406.49407057\n",
      " 415.37511856 294.48863792 405.92420045 311.51228897 288.39512109\n",
      " 335.58971712 429.14956116 312.88205741 280.78228661 314.63569319\n",
      " 374.63000718 289.17128686 400.07513628 412.97253088 260.66091806\n",
      " 386.4905288  385.88453566 265.05858187 399.81766044 411.80352892\n",
      " 365.74801947 308.84032964 291.98171392 304.48183351 339.29845745\n",
      " 285.06833759 377.08354908 314.62398201 339.00670844 375.27510285\n",
      " 385.2612053  359.25369572 277.20427892 261.34166151 344.61144048\n",
      " 373.71337275 361.31873533 400.65780196 400.27123128 287.03027413\n",
      " 384.03166035 378.68090482 373.97880486 293.85071211 343.82081037\n",
      " 282.48897486 413.83654111 253.75182324 246.85820734 279.27288088\n",
      " 277.53716579 297.7377714  290.53744777 287.19310956 331.62936446\n",
      " 318.10459431 442.87184063 394.52412959 374.71467144 332.64585074\n",
      " 393.86434798 383.64562973 411.93788461 348.60494358 277.67760876\n",
      " 277.44497099 301.46399872 395.00467771 398.00904502 300.72607033\n",
      " 358.16798811 373.21785225 264.72788331 283.87632826 368.72523788\n",
      " 427.52485149 328.95566007 368.91243938 329.23532069 411.94067029\n",
      " 278.29986969 352.73344823 311.55764724 303.09135882 348.21458856\n",
      " 297.07452138 374.21379363 367.29282658 402.47588903 412.42417786\n",
      " 361.30751079 290.5330992  371.7573087  371.20071598 272.48258979\n",
      " 349.55054166 372.03380373 344.44463982 389.63444025 265.27722465\n",
      " 410.35261608 351.15115937 404.41524261 360.59890229 405.00714318\n",
      " 361.58843153 305.38170223 364.02955699 411.04635835 275.85650314\n",
      " 409.86638944 346.53994512 388.38294492 277.39743599 372.02993333\n",
      " 261.88333178 262.06700262 374.44890258 352.8123896  370.73291819\n",
      " 348.75525114 390.72960498 407.14788225 377.75050262 403.24343335\n",
      " 362.9271046  286.3164644  370.04118672 383.76994805 367.26143476\n",
      " 353.88438079 365.11999754 250.93640338 331.86012721 372.88074033\n",
      " 335.12620047 412.35639421 381.65183922 388.86024823 268.07122447\n",
      " 407.6930811  372.54730892 390.53782744 284.62825017 270.86391477\n",
      " 359.5505731  350.37967426 289.67091777 296.36665991 375.58355642\n",
      " 271.85508149 394.72898758 378.87355238 354.85584907 396.60023805\n",
      " 312.91377826 376.01955552 427.54783544 274.56227766 316.28764766\n",
      " 265.63704943 387.01273334 418.53990158 367.8092355  307.42334511\n",
      " 281.2372356  387.3003355  335.25000931 277.43738967 415.18549896\n",
      " 308.61028782 346.22722118 313.15379384 349.03418173 406.86236998\n",
      " 366.87931537 411.45703246 376.4323049  319.63463133 315.106549\n",
      " 299.29820931 362.87587273 373.29743186 328.32365455 353.66038998\n",
      " 392.10088817 297.79546975 271.27506801 303.39475282 296.38193405\n",
      " 398.26939066 390.83642057 358.94451781 407.44840038 389.95540946\n",
      " 334.00052853 291.30859135 297.89103154 291.51175157 301.06650879\n",
      " 358.84365805 359.24416506 361.69672211 343.2370186  397.60707342\n",
      " 262.29979593 345.70918281 364.825666   286.05578086 363.01748331\n",
      " 361.09254666 407.01293303 346.07576263 292.08026654 310.06738172\n",
      " 310.18060219 333.19718632 287.35060172 280.74232551 359.23156398\n",
      " 277.97632274 297.19442635 403.18538584 269.94874139 266.80033108\n",
      " 415.51135415 305.04008155 352.07273212 246.58357325 374.55051992\n",
      " 295.82387608 308.12023732 294.16697768 327.86241529 389.83317168\n",
      " 359.57737583 386.40371772 345.3636785  364.29077498 359.29537212\n",
      " 405.02970265 311.65807803 388.06915928 383.59408822 364.86351426\n",
      " 261.07835403 364.76249224 274.76197823 383.84109768 356.77689579\n",
      " 306.65719768 359.6798783  430.5000683  349.31077593 245.87120323\n",
      " 323.56400253 370.50644078 377.22604346 407.00770586 427.33385651\n",
      " 355.82978297 431.50495386 311.74032847 354.44727121 388.64718871\n",
      " 376.60872379 443.05519801 281.30352372 428.74503626 367.11653118\n",
      " 360.53364067 378.6057569  380.64192125 320.89596054 381.49751432\n",
      " 262.6742141  412.62294805 316.17008241 350.35568997 352.47132849\n",
      " 269.54898058 363.49850943 284.84226214 288.5281814  374.69427754\n",
      " 336.40756217 362.00470296 278.15845716 311.58212261 390.73053249\n",
      " 269.87012901 310.67108862 358.71540058 316.2547588  357.66353965\n",
      " 289.30489667 382.35427615 379.81772697 435.67883976 417.99481813\n",
      " 328.09337932 291.02534852 357.10629277 304.43035936 277.73132655\n",
      " 389.30693394 422.5638298  419.09825485 368.5941516  303.3604939\n",
      " 360.51909276 395.5309074  372.22697563 364.69934351 384.58721368\n",
      " 291.30504973 392.80889066 399.31832544 379.5101076  296.91087944\n",
      " 406.29406658 281.27631478 345.92436293 290.65456215 371.43589651\n",
      " 410.94507508 299.31150863 392.87323808 300.70117573 261.21887905\n",
      " 310.29060396 388.88024216 295.64401896 289.62724066 408.00368717\n",
      " 341.85874814 343.75920291 346.92817431 360.84924366 404.57185959\n",
      " 265.49938344 361.90580154 363.25061674 398.32597816 294.10242746\n",
      " 309.86040078 288.44213154 391.06152539]\n",
      "Fees 4645    300.0\n",
      "1680    200.0\n",
      "4435    200.0\n",
      "2222    100.0\n",
      "5604    200.0\n",
      "        ...  \n",
      "1953    400.0\n",
      "2876    200.0\n",
      "2020    300.0\n",
      "5201    200.0\n",
      "1935    500.0\n",
      "Name: Fees, Length: 798, dtype: float64\n"
     ]
    }
   ],
   "source": [
    "pred=lm.predict(x_test)\n",
    "print(\"predicted Fees:\",pred)\n",
    "print(\"Fees\",y_test)"
   ]
  },
  {
   "cell_type": "code",
   "execution_count": 70,
   "metadata": {},
   "outputs": [
    {
     "name": "stdout",
     "output_type": "stream",
     "text": [
      "error:\n",
      "mean absolute error: 151.77018150476155\n",
      "mean squared error: 33515.72424678773\n",
      "root mean squared error: 183.07300250661683\n"
     ]
    }
   ],
   "source": [
    "print('error:')\n",
    "\n",
    "print('mean absolute error:',mean_absolute_error(y_test,pred))\n",
    "print('mean squared error:',mean_squared_error(y_test,pred))\n",
    "print('root mean squared error:',np.sqrt(mean_squared_error(y_test,pred)))"
   ]
  },
  {
   "cell_type": "code",
   "execution_count": 71,
   "metadata": {},
   "outputs": [],
   "source": [
    "from sklearn.metrics import r2_score"
   ]
  },
  {
   "cell_type": "code",
   "execution_count": 73,
   "metadata": {},
   "outputs": [
    {
     "name": "stdout",
     "output_type": "stream",
     "text": [
      "0.08419486301447976\n"
     ]
    }
   ],
   "source": [
    "print(r2_score(y_test,pred))"
   ]
  },
  {
   "cell_type": "code",
   "execution_count": 74,
   "metadata": {},
   "outputs": [
    {
     "name": "stdout",
     "output_type": "stream",
     "text": [
      "At random state 0,the training accuracy is:-0.07203426933642942\n",
      "At random state 0,the testing accuracy is:-0.0792569913591602\n",
      "\n",
      "\n",
      "At random state 1,the training accuracy is:-0.0693637646500429\n",
      "At random state 1,the testing accuracy is:-0.08406855771399868\n",
      "\n",
      "\n",
      "At random state 2,the training accuracy is:-0.07392781193488673\n",
      "At random state 2,the testing accuracy is:-0.07037950617831734\n",
      "\n",
      "\n",
      "At random state 3,the training accuracy is:-0.07254843563902458\n",
      "At random state 3,the testing accuracy is:-0.07486508815284543\n",
      "\n",
      "\n",
      "At random state 4,the training accuracy is:-0.07242902313703492\n",
      "At random state 4,the testing accuracy is:-0.07696720037002225\n",
      "\n",
      "\n",
      "At random state 5,the training accuracy is:-0.0774156656765086\n",
      "At random state 5,the testing accuracy is:-0.05025747855492502\n",
      "\n",
      "\n",
      "At random state 6,the training accuracy is:-0.07663888127102447\n",
      "At random state 6,the testing accuracy is:-0.05704964065399987\n",
      "\n",
      "\n",
      "At random state 7,the training accuracy is:-0.07042840524389038\n",
      "At random state 7,the testing accuracy is:-0.07748491945482694\n",
      "\n",
      "\n",
      "At random state 8,the training accuracy is:-0.06935843919792961\n",
      "At random state 8,the testing accuracy is:-0.08499006854526936\n",
      "\n",
      "\n",
      "At random state 9,the training accuracy is:-0.07438644444678744\n",
      "At random state 9,the testing accuracy is:-0.06630565512997699\n",
      "\n",
      "\n",
      "At random state 10,the training accuracy is:-0.07943428749840276\n",
      "At random state 10,the testing accuracy is:-0.04850403485733801\n",
      "\n",
      "\n",
      "At random state 11,the training accuracy is:-0.07638036293955042\n",
      "At random state 11,the testing accuracy is:-0.057236926216000295\n",
      "\n",
      "\n",
      "At random state 12,the training accuracy is:-0.06938016373979305\n",
      "At random state 12,the testing accuracy is:-0.08227988353330651\n",
      "\n",
      "\n",
      "At random state 13,the training accuracy is:-0.06958000728935054\n",
      "At random state 13,the testing accuracy is:-0.08388635222042251\n",
      "\n",
      "\n",
      "At random state 14,the training accuracy is:-0.07398829075036706\n",
      "At random state 14,the testing accuracy is:-0.06728503261764318\n",
      "\n",
      "\n",
      "At random state 15,the training accuracy is:-0.06534729462618527\n",
      "At random state 15,the testing accuracy is:-0.09874525287997149\n",
      "\n",
      "\n",
      "At random state 16,the training accuracy is:-0.07993818280238263\n",
      "At random state 16,the testing accuracy is:-0.04432096127900975\n",
      "\n",
      "\n",
      "At random state 17,the training accuracy is:-0.06850290365170764\n",
      "At random state 17,the testing accuracy is:-0.08814236012718957\n",
      "\n",
      "\n",
      "At random state 18,the training accuracy is:-0.07658956997463884\n",
      "At random state 18,the testing accuracy is:-0.051516798502013184\n",
      "\n",
      "\n",
      "At random state 19,the training accuracy is:-0.07490318241382687\n",
      "At random state 19,the testing accuracy is:-0.06580949331872299\n",
      "\n",
      "\n",
      "At random state 20,the training accuracy is:-0.07252427888643476\n",
      "At random state 20,the testing accuracy is:-0.0746701706242664\n",
      "\n",
      "\n",
      "At random state 21,the training accuracy is:-0.0780624947843388\n",
      "At random state 21,the testing accuracy is:-0.05303839093636031\n",
      "\n",
      "\n",
      "At random state 22,the training accuracy is:-0.07685777184579379\n",
      "At random state 22,the testing accuracy is:-0.055325122803453475\n",
      "\n",
      "\n",
      "At random state 23,the training accuracy is:-0.07079611748365888\n",
      "At random state 23,the testing accuracy is:-0.07375216767520831\n",
      "\n",
      "\n",
      "At random state 24,the training accuracy is:-0.07981228946433494\n",
      "At random state 24,the testing accuracy is:-0.03747384478830873\n",
      "\n",
      "\n",
      "At random state 25,the training accuracy is:-0.07805325252692497\n",
      "At random state 25,the testing accuracy is:-0.051262687276607655\n",
      "\n",
      "\n",
      "At random state 26,the training accuracy is:-0.0701251285916823\n",
      "At random state 26,the testing accuracy is:-0.07897819562048491\n",
      "\n",
      "\n",
      "At random state 27,the training accuracy is:-0.08488468354958822\n",
      "At random state 27,the testing accuracy is:-0.02046469221568581\n",
      "\n",
      "\n",
      "At random state 28,the training accuracy is:-0.076400050718887\n",
      "At random state 28,the testing accuracy is:-0.055840738957550706\n",
      "\n",
      "\n",
      "At random state 29,the training accuracy is:-0.07113942338587942\n",
      "At random state 29,the testing accuracy is:-0.07657996217027796\n",
      "\n",
      "\n",
      "At random state 30,the training accuracy is:-0.07026824440592983\n",
      "At random state 30,the testing accuracy is:-0.08124645147064047\n",
      "\n",
      "\n",
      "At random state 31,the training accuracy is:-0.07862840113552438\n",
      "At random state 31,the testing accuracy is:-0.04641636792921644\n",
      "\n",
      "\n",
      "At random state 32,the training accuracy is:-0.08143326744370316\n",
      "At random state 32,the testing accuracy is:-0.039090087485741276\n",
      "\n",
      "\n",
      "At random state 33,the training accuracy is:-0.0782908458675855\n",
      "At random state 33,the testing accuracy is:-0.04605160814993947\n",
      "\n",
      "\n",
      "At random state 34,the training accuracy is:-0.0790664844938418\n",
      "At random state 34,the testing accuracy is:-0.045998505589319505\n",
      "\n",
      "\n",
      "At random state 35,the training accuracy is:-0.07836033313357249\n",
      "At random state 35,the testing accuracy is:-0.040541669028479\n",
      "\n",
      "\n",
      "At random state 36,the training accuracy is:-0.07995944032310898\n",
      "At random state 36,the testing accuracy is:-0.044796273534439934\n",
      "\n",
      "\n",
      "At random state 37,the training accuracy is:-0.07883896731418538\n",
      "At random state 37,the testing accuracy is:-0.04283684293224832\n",
      "\n",
      "\n",
      "At random state 38,the training accuracy is:-0.0690438258886501\n",
      "At random state 38,the testing accuracy is:-0.08806930232534915\n",
      "\n",
      "\n",
      "At random state 39,the training accuracy is:-0.0725746186525803\n",
      "At random state 39,the testing accuracy is:-0.07666054748979534\n",
      "\n",
      "\n",
      "At random state 40,the training accuracy is:-0.07782807748895582\n",
      "At random state 40,the testing accuracy is:-0.05032232075839682\n",
      "\n",
      "\n",
      "At random state 41,the training accuracy is:-0.07243256523294928\n",
      "At random state 41,the testing accuracy is:-0.06113247963955182\n",
      "\n",
      "\n",
      "At random state 42,the training accuracy is:-0.07470050777055526\n",
      "At random state 42,the testing accuracy is:-0.06593229146282076\n",
      "\n",
      "\n",
      "At random state 43,the training accuracy is:-0.0826177842404412\n",
      "At random state 43,the testing accuracy is:-0.02696936639068892\n",
      "\n",
      "\n",
      "At random state 44,the training accuracy is:-0.07089800755948228\n",
      "At random state 44,the testing accuracy is:-0.08028757934377184\n",
      "\n",
      "\n",
      "At random state 45,the training accuracy is:-0.07298001348876049\n",
      "At random state 45,the testing accuracy is:-0.072634469205896\n",
      "\n",
      "\n",
      "At random state 46,the training accuracy is:-0.06902371223700887\n",
      "At random state 46,the testing accuracy is:-0.08742567901500242\n",
      "\n",
      "\n",
      "At random state 47,the training accuracy is:-0.07383243703792441\n",
      "At random state 47,the testing accuracy is:-0.06750867994159493\n",
      "\n",
      "\n",
      "At random state 48,the training accuracy is:-0.0705681666479443\n",
      "At random state 48,the testing accuracy is:-0.08344273004887381\n",
      "\n",
      "\n",
      "At random state 49,the training accuracy is:-0.08192200494553836\n",
      "At random state 49,the testing accuracy is:-0.03471465094548054\n",
      "\n",
      "\n",
      "At random state 50,the training accuracy is:-0.07874748518182428\n",
      "At random state 50,the testing accuracy is:-0.03718974486847626\n",
      "\n",
      "\n",
      "At random state 51,the training accuracy is:-0.07298666659114672\n",
      "At random state 51,the testing accuracy is:-0.07243959216727247\n",
      "\n",
      "\n",
      "At random state 52,the training accuracy is:-0.07170686035037455\n",
      "At random state 52,the testing accuracy is:-0.07647892211004148\n",
      "\n",
      "\n",
      "At random state 53,the training accuracy is:-0.0739707244602752\n",
      "At random state 53,the testing accuracy is:-0.07073979018032395\n",
      "\n",
      "\n",
      "At random state 54,the training accuracy is:-0.07400690623084749\n",
      "At random state 54,the testing accuracy is:-0.06717260060868147\n",
      "\n",
      "\n",
      "At random state 55,the training accuracy is:-0.07600413332451428\n",
      "At random state 55,the testing accuracy is:-0.05692495572809497\n",
      "\n",
      "\n",
      "At random state 56,the training accuracy is:-0.07033955154220672\n",
      "At random state 56,the testing accuracy is:-0.08418494841060498\n",
      "\n",
      "\n",
      "At random state 57,the training accuracy is:-0.07826734028872906\n",
      "At random state 57,the testing accuracy is:-0.045362576068514904\n",
      "\n",
      "\n",
      "At random state 58,the training accuracy is:-0.06628487055397225\n",
      "At random state 58,the testing accuracy is:-0.09772043555650844\n",
      "\n",
      "\n",
      "At random state 59,the training accuracy is:-0.06658067151680647\n",
      "At random state 59,the testing accuracy is:-0.10066161812042318\n",
      "\n",
      "\n",
      "At random state 60,the training accuracy is:-0.07391890024521763\n",
      "At random state 60,the testing accuracy is:-0.06339417674411507\n",
      "\n",
      "\n",
      "At random state 61,the training accuracy is:-0.06594138286186524\n",
      "At random state 61,the testing accuracy is:-0.09225532112138601\n",
      "\n",
      "\n",
      "At random state 62,the training accuracy is:-0.07436596486043978\n",
      "At random state 62,the testing accuracy is:-0.06726256209970283\n",
      "\n",
      "\n",
      "At random state 63,the training accuracy is:-0.07951922454663296\n",
      "At random state 63,the testing accuracy is:-0.04549934776270381\n",
      "\n",
      "\n",
      "At random state 64,the training accuracy is:-0.08225792615537342\n",
      "At random state 64,the testing accuracy is:-0.03286124300662796\n",
      "\n",
      "\n",
      "At random state 65,the training accuracy is:-0.06147325444339924\n",
      "At random state 65,the testing accuracy is:-0.10493627853505594\n",
      "\n",
      "\n",
      "At random state 66,the training accuracy is:-0.07820434326135284\n",
      "At random state 66,the testing accuracy is:-0.04660678567985821\n",
      "\n",
      "\n",
      "At random state 67,the training accuracy is:-0.07293442488476098\n",
      "At random state 67,the testing accuracy is:-0.07117587359873367\n",
      "\n",
      "\n",
      "At random state 68,the training accuracy is:-0.06507344028414785\n",
      "At random state 68,the testing accuracy is:-0.09701544500787906\n",
      "\n",
      "\n",
      "At random state 69,the training accuracy is:-0.06765446926900798\n",
      "At random state 69,the testing accuracy is:-0.09027929575672144\n",
      "\n",
      "\n",
      "At random state 70,the training accuracy is:-0.06991646084993375\n",
      "At random state 70,the testing accuracy is:-0.08327027575444268\n",
      "\n",
      "\n",
      "At random state 71,the training accuracy is:-0.07759191962016276\n",
      "At random state 71,the testing accuracy is:-0.051743281164183474\n",
      "\n",
      "\n",
      "At random state 72,the training accuracy is:-0.06389543258006081\n",
      "At random state 72,the testing accuracy is:-0.09541509306139584\n",
      "\n",
      "\n",
      "At random state 73,the training accuracy is:-0.07170771670847553\n",
      "At random state 73,the testing accuracy is:-0.07940830561604184\n",
      "\n",
      "\n",
      "At random state 74,the training accuracy is:-0.08680743556517312\n",
      "At random state 74,the testing accuracy is:-0.015505066326844896\n",
      "\n",
      "\n",
      "At random state 75,the training accuracy is:-0.07719462760047302\n",
      "At random state 75,the testing accuracy is:-0.05675071214708294\n",
      "\n",
      "\n",
      "At random state 76,the training accuracy is:-0.07485489584272542\n",
      "At random state 76,the testing accuracy is:-0.060385672245697686\n",
      "\n",
      "\n",
      "At random state 77,the training accuracy is:-0.07246978656481529\n",
      "At random state 77,the testing accuracy is:-0.07408605205488006\n",
      "\n",
      "\n",
      "At random state 78,the training accuracy is:-0.06550881744452108\n",
      "At random state 78,the testing accuracy is:-0.10410944549743062\n",
      "\n",
      "\n",
      "At random state 79,the training accuracy is:-0.06444578197175799\n",
      "At random state 79,the testing accuracy is:-0.10368109064883702\n",
      "\n",
      "\n",
      "At random state 80,the training accuracy is:-0.07135967210880634\n",
      "At random state 80,the testing accuracy is:-0.07787948847606463\n",
      "\n",
      "\n",
      "At random state 81,the training accuracy is:-0.07876966138861607\n",
      "At random state 81,the testing accuracy is:-0.050846295206159686\n",
      "\n",
      "\n",
      "At random state 82,the training accuracy is:-0.07092331660357931\n",
      "At random state 82,the testing accuracy is:-0.08392482013000413\n",
      "\n",
      "\n",
      "At random state 83,the training accuracy is:-0.062091547665212854\n",
      "At random state 83,the testing accuracy is:-0.11015424384053996\n",
      "\n",
      "\n",
      "At random state 84,the training accuracy is:-0.0759767994970284\n",
      "At random state 84,the testing accuracy is:-0.05402454462389439\n",
      "\n",
      "\n",
      "At random state 85,the training accuracy is:-0.06898182073372283\n",
      "At random state 85,the testing accuracy is:-0.08744380262761098\n",
      "\n",
      "\n",
      "At random state 86,the training accuracy is:-0.07142646797304486\n",
      "At random state 86,the testing accuracy is:-0.08184990882400744\n",
      "\n",
      "\n",
      "At random state 87,the training accuracy is:-0.06937149969215184\n",
      "At random state 87,the testing accuracy is:-0.08758049811228963\n",
      "\n",
      "\n",
      "At random state 88,the training accuracy is:-0.06771270440710031\n",
      "At random state 88,the testing accuracy is:-0.0905289234555523\n",
      "\n",
      "\n",
      "At random state 89,the training accuracy is:-0.07054897679745242\n",
      "At random state 89,the testing accuracy is:-0.07854091559740684\n",
      "\n",
      "\n",
      "At random state 90,the training accuracy is:-0.0754444092640626\n",
      "At random state 90,the testing accuracy is:-0.06128394939346282\n",
      "\n",
      "\n",
      "At random state 91,the training accuracy is:-0.08327074640102783\n",
      "At random state 91,the testing accuracy is:-0.027714394599917203\n",
      "\n",
      "\n",
      "At random state 92,the training accuracy is:-0.07305674329281919\n",
      "At random state 92,the testing accuracy is:-0.06971721491009797\n",
      "\n",
      "\n",
      "At random state 93,the training accuracy is:-0.07395687169986487\n",
      "At random state 93,the testing accuracy is:-0.06387530388674334\n",
      "\n",
      "\n",
      "At random state 94,the training accuracy is:-0.06375142269444711\n",
      "At random state 94,the testing accuracy is:-0.10826130523484667\n",
      "\n",
      "\n",
      "At random state 95,the training accuracy is:-0.07072360415200529\n",
      "At random state 95,the testing accuracy is:-0.07396194622589258\n",
      "\n",
      "\n",
      "At random state 96,the training accuracy is:-0.0732509895160326\n",
      "At random state 96,the testing accuracy is:-0.07077029559175907\n",
      "\n",
      "\n",
      "At random state 97,the training accuracy is:-0.07068722696560237\n",
      "At random state 97,the testing accuracy is:-0.08506280718246173\n",
      "\n",
      "\n",
      "At random state 98,the training accuracy is:-0.07935228662333138\n",
      "At random state 98,the testing accuracy is:-0.04025916282040942\n",
      "\n",
      "\n",
      "At random state 99,the training accuracy is:-0.08086591608349125\n",
      "At random state 99,the testing accuracy is:-0.03911473688642686\n",
      "\n",
      "\n"
     ]
    }
   ],
   "source": [
    "for i in range(0,100):\n",
    "    x_train,x_test,y_train,y_test=train_test_split(x,y,test_size=0.2,random_state=i)\n",
    "    lm.fit(x_train,y_train)\n",
    "    pred_train=lm.predict(x_train)\n",
    "    pred_test=lm.predict(x_test)\n",
    "    print(f\"At random state {i},the training accuracy is:-{r2_score(y_train,pred_train)}\")\n",
    "    print(f\"At random state {i},the testing accuracy is:-{r2_score(y_test,pred_test)}\")\n",
    "    print(\"\\n\")"
   ]
  },
  {
   "cell_type": "code",
   "execution_count": 75,
   "metadata": {},
   "outputs": [],
   "source": [
    "x_train,x_test,y_train,y_test=train_test_split(x,y,test_size=0.2,random_state=59)"
   ]
  },
  {
   "cell_type": "code",
   "execution_count": 76,
   "metadata": {},
   "outputs": [
    {
     "data": {
      "text/plain": [
       "LinearRegression()"
      ]
     },
     "execution_count": 76,
     "metadata": {},
     "output_type": "execute_result"
    }
   ],
   "source": [
    "lm.fit(x_train,y_train)"
   ]
  },
  {
   "cell_type": "code",
   "execution_count": 77,
   "metadata": {},
   "outputs": [],
   "source": [
    "pred_test=lm.predict(x_test)"
   ]
  },
  {
   "cell_type": "code",
   "execution_count": 78,
   "metadata": {},
   "outputs": [
    {
     "name": "stdout",
     "output_type": "stream",
     "text": [
      "0.10066161812042318\n"
     ]
    }
   ],
   "source": [
    "print(r2_score(y_test,pred_test))"
   ]
  },
  {
   "cell_type": "code",
   "execution_count": 79,
   "metadata": {},
   "outputs": [],
   "source": [
    "# R2 score for the model is 100%, let's build on more algorithms"
   ]
  },
  {
   "cell_type": "code",
   "execution_count": 80,
   "metadata": {},
   "outputs": [],
   "source": [
    "from sklearn.linear_model import Lasso,Ridge"
   ]
  },
  {
   "cell_type": "code",
   "execution_count": 81,
   "metadata": {},
   "outputs": [
    {
     "data": {
      "text/plain": [
       "0.06658067149954872"
      ]
     },
     "execution_count": 81,
     "metadata": {},
     "output_type": "execute_result"
    }
   ],
   "source": [
    "ls=Lasso(alpha=0.001)\n",
    "ls.fit(x_train,y_train)\n",
    "ls.score(x_train,y_train)"
   ]
  },
  {
   "cell_type": "code",
   "execution_count": 82,
   "metadata": {},
   "outputs": [
    {
     "data": {
      "text/plain": [
       "0.06658067151680647"
      ]
     },
     "execution_count": 82,
     "metadata": {},
     "output_type": "execute_result"
    }
   ],
   "source": [
    "rd=Ridge(alpha=0.0001)\n",
    "rd.fit(x_train,y_train)\n",
    "rd.score(x_train,y_train)"
   ]
  },
  {
   "cell_type": "code",
   "execution_count": 83,
   "metadata": {},
   "outputs": [
    {
     "name": "stdout",
     "output_type": "stream",
     "text": [
      "0.066580671514896\n"
     ]
    },
    {
     "data": {
      "text/plain": [
       "array([ 0.15955574, -0.08729263, -1.58851227, -0.04521637,  5.92564574])"
      ]
     },
     "execution_count": 83,
     "metadata": {},
     "output_type": "execute_result"
    }
   ],
   "source": [
    "from sklearn.linear_model import ElasticNet\n",
    "enr=ElasticNet(alpha=0.0001)\n",
    "enr.fit(x_train,y_train)\n",
    "enrpred=enr.predict(x_test)\n",
    "print(enr.score(x_train,y_train))\n",
    "enr.coef_"
   ]
  },
  {
   "cell_type": "code",
   "execution_count": 84,
   "metadata": {},
   "outputs": [],
   "source": [
    "from sklearn.svm import SVR\n",
    "svr=SVR(kernel='linear')\n",
    "svr.fit(x_train,y_train)\n",
    "svr.score(x_train,y_train)\n",
    "pred_y=svr.predict(x_test)"
   ]
  },
  {
   "cell_type": "code",
   "execution_count": 85,
   "metadata": {},
   "outputs": [],
   "source": [
    "svr=SVR(kernel='poly')\n",
    "svr.fit(x_train,y_train)\n",
    "svr.score(x_train,y_train)\n",
    "pred_y=svr.predict(x_test)"
   ]
  },
  {
   "cell_type": "code",
   "execution_count": 86,
   "metadata": {},
   "outputs": [],
   "source": [
    "svr=SVR(kernel='rbf')\n",
    "svr.fit(x_train,y_train)\n",
    "svr.score(x_train,y_train)\n",
    "pred_y=svr.predict(x_test)"
   ]
  },
  {
   "cell_type": "code",
   "execution_count": 87,
   "metadata": {},
   "outputs": [
    {
     "name": "stdout",
     "output_type": "stream",
     "text": [
      "0.03638916789182289\n",
      "0.014876068637882045\n",
      "0.08425835931260117\n"
     ]
    }
   ],
   "source": [
    "from sklearn.svm import SVR\n",
    "kernellist=['linear','poly','rbf']\n",
    "for i in kernellist:\n",
    "    sv=SVR(kernel=i)\n",
    "    sv.fit(x_train,y_train)\n",
    "    print(sv.score(x_train,y_train))"
   ]
  },
  {
   "cell_type": "code",
   "execution_count": 88,
   "metadata": {},
   "outputs": [],
   "source": [
    "#Regularization\n",
    "\n",
    "from sklearn.model_selection import GridSearchCV\n",
    "from sklearn.model_selection import cross_val_score"
   ]
  },
  {
   "cell_type": "code",
   "execution_count": 89,
   "metadata": {},
   "outputs": [
    {
     "name": "stdout",
     "output_type": "stream",
     "text": [
      "{'alpha': 10, 'random_state': 0}\n"
     ]
    }
   ],
   "source": [
    "from sklearn.linear_model import Lasso\n",
    "parameters={'alpha':[.0001,.001,.01,.1,1,10],'random_state':list(range(0,10))}\n",
    "ls=Lasso()\n",
    "clf=GridSearchCV(ls,parameters)\n",
    "clf.fit(x_train,y_train)\n",
    "print(clf.best_params_)"
   ]
  },
  {
   "cell_type": "code",
   "execution_count": 90,
   "metadata": {},
   "outputs": [
    {
     "data": {
      "text/plain": [
       "0.09600738010465948"
      ]
     },
     "execution_count": 90,
     "metadata": {},
     "output_type": "execute_result"
    }
   ],
   "source": [
    "ls=Lasso(alpha=10,random_state=0)\n",
    "ls.fit(x_train,y_train)\n",
    "ls.score(x_train,y_train)\n",
    "pred_ls=ls.predict(x_test)\n",
    "lss=r2_score(y_test,pred_ls)\n",
    "lss"
   ]
  },
  {
   "cell_type": "code",
   "execution_count": 91,
   "metadata": {},
   "outputs": [
    {
     "name": "stdout",
     "output_type": "stream",
     "text": [
      "{'alpha': 10, 'random_state': 0}\n"
     ]
    }
   ],
   "source": [
    "from sklearn.linear_model import Ridge\n",
    "parameters={'alpha':[.0001,.001,.01,.1,1,10],'random_state':list(range(0,10))}\n",
    "rd=Ridge()\n",
    "clf=GridSearchCV(rd,parameters)\n",
    "clf.fit(x_train,y_train)\n",
    "print(clf.best_params_)"
   ]
  },
  {
   "cell_type": "code",
   "execution_count": 92,
   "metadata": {},
   "outputs": [
    {
     "data": {
      "text/plain": [
       "0.10065460759881772"
      ]
     },
     "execution_count": 92,
     "metadata": {},
     "output_type": "execute_result"
    }
   ],
   "source": [
    "rd=Ridge(alpha=10,random_state=0)\n",
    "rd.fit(x_train,y_train)\n",
    "rd.score(x_train,y_train)\n",
    "pred_rd=rd.predict(x_test)\n",
    "rdd=r2_score(y_test,pred_rd)\n",
    "rdd"
   ]
  },
  {
   "cell_type": "code",
   "execution_count": 93,
   "metadata": {},
   "outputs": [
    {
     "data": {
      "text/plain": [
       "0.06635362643977358"
      ]
     },
     "execution_count": 93,
     "metadata": {},
     "output_type": "execute_result"
    }
   ],
   "source": [
    "cv_score=cross_val_score(ls,x,y,cv=5)\n",
    "cv_mean=cv_score.mean()\n",
    "cv_mean"
   ]
  },
  {
   "cell_type": "code",
   "execution_count": 94,
   "metadata": {},
   "outputs": [
    {
     "data": {
      "text/plain": [
       "0.06698207458479093"
      ]
     },
     "execution_count": 94,
     "metadata": {},
     "output_type": "execute_result"
    }
   ],
   "source": [
    "cv_score=cross_val_score(rd,x,y,cv=5)\n",
    "cv_mean=cv_score.mean()\n",
    "cv_mean"
   ]
  },
  {
   "cell_type": "code",
   "execution_count": 95,
   "metadata": {},
   "outputs": [],
   "source": [
    "#Conclusion-from analysis of accuracy scores and cross validation score it is decided that Ridge is right model"
   ]
  },
  {
   "cell_type": "code",
   "execution_count": 97,
   "metadata": {},
   "outputs": [
    {
     "data": {
      "text/plain": [
       "['consultationfeeprediction.pkl']"
      ]
     },
     "execution_count": 97,
     "metadata": {},
     "output_type": "execute_result"
    }
   ],
   "source": [
    "# Saving the model\n",
    "\n",
    "import joblib\n",
    "joblib.dump(rdd,\"consultationfeeprediction.pkl\")"
   ]
  },
  {
   "cell_type": "code",
   "execution_count": null,
   "metadata": {},
   "outputs": [],
   "source": []
  }
 ],
 "metadata": {
  "kernelspec": {
   "display_name": "Python 3",
   "language": "python",
   "name": "python3"
  },
  "language_info": {
   "codemirror_mode": {
    "name": "ipython",
    "version": 3
   },
   "file_extension": ".py",
   "mimetype": "text/x-python",
   "name": "python",
   "nbconvert_exporter": "python",
   "pygments_lexer": "ipython3",
   "version": "3.8.5"
  }
 },
 "nbformat": 4,
 "nbformat_minor": 4
}
